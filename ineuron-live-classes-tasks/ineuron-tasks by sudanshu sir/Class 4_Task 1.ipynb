{
 "cells": [
  {
   "cell_type": "markdown",
   "metadata": {
    "id": "HmjSy6ODtWR8"
   },
   "source": []
  },
  {
   "cell_type": "markdown",
   "metadata": {
    "id": "h5KK4Wjeltcc"
   },
   "source": [
    "**CLASS 4 HOMEWORK**\n",
    "s = \"\"this is My First Python programming class and i am learNING python string and its function\"\"\n",
    "1. Try to extract data from index one to index 300 with a jump 0f 3\n",
    "2. Try to reverse a string without using reverse function\n",
    "3. Try to split a string after conversion of entire string in uppercase\n",
    "4. Try to convert whole string into lower case\n",
    "5. Try to capitalize whole string\n",
    "6. Write difference between isalnum() and isalpha()\n",
    "7. Try to give an example of exapand tab\n",
    "8. Give an example of strip, lstrip and rstrip\n",
    "9. Replace a string character by another character by taking your own example\n",
    "10. Try to give a definition of string center function with an example\n",
    "11. Write your definition of compiler and interpretor without copy paste from internet\n",
    "12. Python is an interpreted or compile language. Give a clear answer  with your understanding\n",
    "13. Try to write a use case of python with your understanding"
   ]
  },
  {
   "cell_type": "markdown",
   "metadata": {
    "id": "E2YD_g1_l5dt"
   },
   "source": [
    "1. Try to extract data from index one to index 300 with a jump 0f 3"
   ]
  },
  {
   "cell_type": "code",
   "execution_count": 4,
   "metadata": {
    "colab": {
     "base_uri": "https://localhost:8080/",
     "height": 35
    },
    "id": "HiLbZiGQl8Qb",
    "outputId": "3f15aa7f-35fe-41c7-ab1a-8db496eb1da2"
   },
   "outputs": [
    {
     "data": {
      "application/vnd.google.colaboratory.intrinsic+json": {
       "type": "string"
      },
      "text/plain": [
       "'h   r tnrrmglsnimeNGyosi dtfco'"
      ]
     },
     "execution_count": 4,
     "metadata": {},
     "output_type": "execute_result"
    }
   ],
   "source": [
    "S = \"this is My First Python programming class and i am learNING python string and its function\"\n",
    "P = S[1:300:3]\n",
    "P"
   ]
  },
  {
   "cell_type": "markdown",
   "metadata": {
    "id": "u4sPY1E-mRUy"
   },
   "source": [
    "2. Try to reverse a string without using reverse function"
   ]
  },
  {
   "cell_type": "code",
   "execution_count": 6,
   "metadata": {
    "colab": {
     "base_uri": "https://localhost:8080/",
     "height": 35
    },
    "id": "619eH0ZUmQLF",
    "outputId": "b6e4079e-0018-4c50-8c13-837238da3663"
   },
   "outputs": [
    {
     "data": {
      "application/vnd.google.colaboratory.intrinsic+json": {
       "type": "string"
      },
      "text/plain": [
       "'noitcnuf sti dna gnirts nohtyp GNINrael ma i dna ssalc gnimmargorp nohtyP tsriF yM si siht'"
      ]
     },
     "execution_count": 6,
     "metadata": {},
     "output_type": "execute_result"
    }
   ],
   "source": [
    "S[::-1] "
   ]
  },
  {
   "cell_type": "markdown",
   "metadata": {
    "id": "705Lotygmf-i"
   },
   "source": [
    "3. Try to split a string after conversion of entire string in uppercase"
   ]
  },
  {
   "cell_type": "code",
   "execution_count": 8,
   "metadata": {
    "colab": {
     "base_uri": "https://localhost:8080/"
    },
    "id": "nG4-Qc2fmiwG",
    "outputId": "3668950c-4fca-4540-baf1-ef2a01a77150"
   },
   "outputs": [
    {
     "data": {
      "text/plain": [
       "['THIS',\n",
       " 'IS',\n",
       " 'MY',\n",
       " 'FIRST',\n",
       " 'PYTHON',\n",
       " 'PROGRAMMING',\n",
       " 'CLASS',\n",
       " 'AND',\n",
       " 'I',\n",
       " 'AM',\n",
       " 'LEARNING',\n",
       " 'PYTHON',\n",
       " 'STRING',\n",
       " 'AND',\n",
       " 'ITS',\n",
       " 'FUNCTION']"
      ]
     },
     "execution_count": 8,
     "metadata": {},
     "output_type": "execute_result"
    }
   ],
   "source": [
    "S1 = S.upper() \n",
    "S1.split(' ')"
   ]
  },
  {
   "cell_type": "markdown",
   "metadata": {
    "id": "rP38V6vvnETT"
   },
   "source": [
    "4. Try to convert whole string into lower case"
   ]
  },
  {
   "cell_type": "code",
   "execution_count": 9,
   "metadata": {
    "colab": {
     "base_uri": "https://localhost:8080/",
     "height": 35
    },
    "id": "Qm376s_HmsU0",
    "outputId": "1cdbc309-5264-4c0b-bfe8-75d22670ce2a"
   },
   "outputs": [
    {
     "data": {
      "application/vnd.google.colaboratory.intrinsic+json": {
       "type": "string"
      },
      "text/plain": [
       "'this is my first python programming class and i am learning python string and its function'"
      ]
     },
     "execution_count": 9,
     "metadata": {},
     "output_type": "execute_result"
    }
   ],
   "source": [
    "S.lower()"
   ]
  },
  {
   "cell_type": "markdown",
   "metadata": {
    "id": "-FyLYYFOnQ61"
   },
   "source": [
    "5. Try to capitalize whole string"
   ]
  },
  {
   "cell_type": "code",
   "execution_count": 10,
   "metadata": {
    "colab": {
     "base_uri": "https://localhost:8080/",
     "height": 35
    },
    "id": "oaD36uOdnUsM",
    "outputId": "7c15c2da-fbe3-49fa-8645-8213a3020236"
   },
   "outputs": [
    {
     "data": {
      "application/vnd.google.colaboratory.intrinsic+json": {
       "type": "string"
      },
      "text/plain": [
       "'This is my first python programming class and i am learning python string and its function'"
      ]
     },
     "execution_count": 10,
     "metadata": {},
     "output_type": "execute_result"
    }
   ],
   "source": [
    "S.capitalize()"
   ]
  },
  {
   "cell_type": "markdown",
   "metadata": {
    "id": "TfntpCp7nZA_"
   },
   "source": [
    "6. Write difference between isalnum() and isalpha() \n",
    "\n",
    "The Python isalpha() method returns true if a string only contains letters where as Python isalnum() only returns true if a string contains alphanumeric characters, without symbols.\n",
    "\n",
    "\n",
    "\n"
   ]
  },
  {
   "cell_type": "code",
   "execution_count": 14,
   "metadata": {
    "colab": {
     "base_uri": "https://localhost:8080/"
    },
    "id": "rQSTSkSRns37",
    "outputId": "5047cfd5-f831-473a-a260-288b95c38acf"
   },
   "outputs": [
    {
     "data": {
      "text/plain": [
       "True"
      ]
     },
     "execution_count": 14,
     "metadata": {},
     "output_type": "execute_result"
    }
   ],
   "source": [
    "s2 = 'dsadw323'\n",
    "s2.isalnum()"
   ]
  },
  {
   "cell_type": "code",
   "execution_count": 13,
   "metadata": {
    "colab": {
     "base_uri": "https://localhost:8080/"
    },
    "id": "oClFiD9Snv-u",
    "outputId": "91a8f8ae-8a3f-4a2e-dcce-893ca107c0aa"
   },
   "outputs": [
    {
     "data": {
      "text/plain": [
       "True"
      ]
     },
     "execution_count": 13,
     "metadata": {},
     "output_type": "execute_result"
    }
   ],
   "source": [
    "s1 = 'asdsasa'\n",
    "s1.isalpha()"
   ]
  },
  {
   "cell_type": "markdown",
   "metadata": {
    "id": "0mg0eP3vo1yb"
   },
   "source": [
    "7. Try to give an example of exapand tab"
   ]
  },
  {
   "cell_type": "code",
   "execution_count": 1,
   "metadata": {
    "colab": {
     "base_uri": "https://localhost:8080/",
     "height": 35
    },
    "id": "qqImztdQnxvb",
    "outputId": "e3406338-9f25-4237-934c-171d6f31ace6"
   },
   "outputs": [
    {
     "data": {
      "text/plain": [
       "'jaya\\\\korla\\\\krishna'"
      ]
     },
     "execution_count": 1,
     "metadata": {},
     "output_type": "execute_result"
    }
   ],
   "source": [
    "g = 'jaya\\korla\\krishna'\n",
    "g.expandtabs()"
   ]
  },
  {
   "cell_type": "markdown",
   "metadata": {
    "id": "KoaKQskupKaT"
   },
   "source": [
    "8. Give an example of strip, lstrip and rstrip"
   ]
  },
  {
   "cell_type": "code",
   "execution_count": 2,
   "metadata": {
    "colab": {
     "base_uri": "https://localhost:8080/",
     "height": 35
    },
    "id": "6Lb9OXmbpDMk",
    "outputId": "f0b0ce92-b96d-45e3-936c-9550ec57ff31"
   },
   "outputs": [
    {
     "data": {
      "text/plain": [
       "'ds   dsa  d sadas'"
      ]
     },
     "execution_count": 2,
     "metadata": {},
     "output_type": "execute_result"
    }
   ],
   "source": [
    "t = \"    ds   dsa  d sadas \"  #Leading and Trailing space only stripped\n",
    "t.strip()"
   ]
  },
  {
   "cell_type": "code",
   "execution_count": 3,
   "metadata": {
    "colab": {
     "base_uri": "https://localhost:8080/",
     "height": 35
    },
    "id": "S-1L4PgfpTOm",
    "outputId": "8604835c-0213-48e5-94ad-eb4bb307130e"
   },
   "outputs": [
    {
     "data": {
      "text/plain": [
       "'ds   dsa  d sadas '"
      ]
     },
     "execution_count": 3,
     "metadata": {},
     "output_type": "execute_result"
    }
   ],
   "source": [
    "t.lstrip()  #Only leading Spaces stripped"
   ]
  },
  {
   "cell_type": "code",
   "execution_count": 4,
   "metadata": {
    "colab": {
     "base_uri": "https://localhost:8080/",
     "height": 35
    },
    "id": "bj2TP3jVpUeQ",
    "outputId": "4ee0747a-eb8b-44b0-b4fa-8c56a69d783e"
   },
   "outputs": [
    {
     "data": {
      "text/plain": [
       "'    ds   dsa  d sadas'"
      ]
     },
     "execution_count": 4,
     "metadata": {},
     "output_type": "execute_result"
    }
   ],
   "source": [
    "t.rstrip() #Only Trailing Spaces stripped"
   ]
  },
  {
   "cell_type": "markdown",
   "metadata": {
    "id": "GKAKZTx-piLD"
   },
   "source": [
    "9. Replace a string character by another character by taking your own example"
   ]
  },
  {
   "cell_type": "code",
   "execution_count": 22,
   "metadata": {
    "colab": {
     "base_uri": "https://localhost:8080/",
     "height": 35
    },
    "id": "h8ImWTu4pVV3",
    "outputId": "6fbbb374-f6bc-48c0-9a99-04c1872ad4df"
   },
   "outputs": [
    {
     "data": {
      "application/vnd.google.colaboratory.intrinsic+json": {
       "type": "string"
      },
      "text/plain": [
       "'ebc'"
      ]
     },
     "execution_count": 22,
     "metadata": {},
     "output_type": "execute_result"
    }
   ],
   "source": [
    "str = 'abc'\n",
    "str2 = str.replace('a', 'e')\n",
    "str2"
   ]
  },
  {
   "cell_type": "markdown",
   "metadata": {
    "id": "nG-nk3YWqe7-"
   },
   "source": [
    "10. Try to give a definition of string center function with an example\n",
    "\n",
    "String 'Center' function returns a centered string of length width."
   ]
  },
  {
   "cell_type": "code",
   "execution_count": 5,
   "metadata": {
    "colab": {
     "base_uri": "https://localhost:8080/",
     "height": 35
    },
    "id": "pjg_Ig14qkD9",
    "outputId": "5568dd2d-100b-4cfd-ec44-db4165fdae14"
   },
   "outputs": [
    {
     "data": {
      "text/plain": [
       "'zzzzzzzzzzzzzjayazzzzzzzzzzzzz'"
      ]
     },
     "execution_count": 5,
     "metadata": {},
     "output_type": "execute_result"
    }
   ],
   "source": [
    "g = 'jaya'\n",
    "g.center(30,'z')"
   ]
  },
  {
   "cell_type": "markdown",
   "metadata": {
    "id": "KcLjEs1wrD99"
   },
   "source": [
    "11. Write your definition of compiler and interpretor without copy paste from internet\n",
    "\n",
    "In simple words, Compiler scans the program written and translates this into code that machine can understand whereas Interpreter takes one single line of code at a time. This basically means that compiler generates an intermediate machine code whereas interpreter doesn't.\n",
    "\n",
    "Example of Programming Languages that use Compiler are C, C++, Java \n",
    "Example of Programming Languages that use Interpreter are JavaScript, Ruby"
   ]
  },
  {
   "cell_type": "markdown",
   "metadata": {
    "id": "kbS7AjIAsM0O"
   },
   "source": [
    "12. Python is an interpreted or compile language. Give a clear answer with your understanding\n",
    "\n",
    "In various books of python programming, it is mentioned that python language is interpreted. But that is half correct the python program is first compiled and then interpreted. The compilation part is hidden from the programmer thus, many programmers believe that it is an interpreted language. The compilation part is done first when we execute our code and this will generate byte code and internally this byte code gets converted by the python virtual machine(p.v.m) according to the underlying platform(machine+operating system)."
   ]
  },
  {
   "cell_type": "markdown",
   "metadata": {
    "id": "H0SmRmtWs0EY"
   },
   "source": [
    "13. Try to write a use case of python with your understanding\n",
    "\n",
    "Some Use Cases of Python:\n",
    "1. Data Science\n",
    "2. Game Development\n",
    "3. Web Applications\n",
    "4. Software Development\n",
    "5. Web Scraping\n",
    "6. Internet of Things\n"
   ]
  }
 ],
 "metadata": {
  "colab": {
   "collapsed_sections": [],
   "name": "Class4_HW.ipynb",
   "provenance": []
  },
  "kernelspec": {
   "display_name": "Python 3 (ipykernel)",
   "language": "python",
   "name": "python3"
  },
  "language_info": {
   "codemirror_mode": {
    "name": "ipython",
    "version": 3
   },
   "file_extension": ".py",
   "mimetype": "text/x-python",
   "name": "python",
   "nbconvert_exporter": "python",
   "pygments_lexer": "ipython3",
   "version": "3.9.12"
  }
 },
 "nbformat": 4,
 "nbformat_minor": 1
}
