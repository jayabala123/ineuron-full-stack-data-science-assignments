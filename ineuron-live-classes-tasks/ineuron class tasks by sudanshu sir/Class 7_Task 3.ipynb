{
  "nbformat": 4,
  "nbformat_minor": 0,
  "metadata": {
    "colab": {
      "name": "Class 7_HW.ipynb",
      "provenance": [],
      "collapsed_sections": []
    },
    "kernelspec": {
      "name": "python3",
      "display_name": "Python 3"
    },
    "language_info": {
      "name": "python"
    }
  },
  "cells": [
    {
      "cell_type": "markdown",
      "source": [
        "CLASS 7 Homework\n",
        "\n",
        "Submitted By: Gaurav Ratan"
      ],
      "metadata": {
        "id": "Vszi10S1oIev"
      }
    },
    {
      "cell_type": "code",
      "execution_count": null,
      "metadata": {
        "colab": {
          "base_uri": "https://localhost:8080/"
        },
        "id": "TuMDYgS1mt_h",
        "outputId": "be501c60-2575-411b-8cea-1d25f2161a6c"
      },
      "outputs": [
        {
          "output_type": "stream",
          "name": "stdout",
          "text": [
            "iNeuron \n",
            "iNeuron iNeuron \n",
            "iNeuron iNeuron iNeuron \n",
            "iNeuron iNeuron iNeuron iNeuron \n"
          ]
        }
      ],
      "source": [
        "#Question 1\n",
        "\n",
        "String = 'iNeuron'\n",
        "for i in range(0, 4):\n",
        "    for j in range(0, i + 1):\n",
        "        print(String, end=' ')\n",
        "    print()"
      ]
    },
    {
      "cell_type": "code",
      "source": [
        "#Question 2\n",
        "\n",
        "rows = 2\n",
        "k = 2 * rows - 2\n",
        "for i in range(0, rows):\n",
        "    for j in range(0, k):\n",
        "        print(end=\" \")\n",
        "    k = k - 1\n",
        "    for j in range(0, i + 1):\n",
        "        print(\"i \", end=\"\")\n",
        "    print(\"\")\n",
        "    \n",
        "k = rows - 2\n",
        "\n",
        "for i in range(rows, -1, -1):\n",
        "    for j in range(k, 0, -1):\n",
        "        print(end=\" \")\n",
        "    k = k + 1\n",
        "    for j in range(0, i + 1):\n",
        "        print(\"i \", end=\"\")\n",
        "    print(\"\")"
      ],
      "metadata": {
        "colab": {
          "base_uri": "https://localhost:8080/"
        },
        "id": "GQK9gPxjoDj2",
        "outputId": "56c7e092-fbfa-47bd-f429-fd621d51b187"
      },
      "execution_count": null,
      "outputs": [
        {
          "output_type": "stream",
          "name": "stdout",
          "text": [
            "  i \n",
            " i i \n",
            "i i i \n",
            " i i \n",
            "  i \n"
          ]
        }
      ]
    },
    {
      "cell_type": "code",
      "source": [
        "#List is given to answer further questions\n",
        "l = [[1,2,3,4],(2,3,4,5,6),(3,4,5,6,7),set([23,4,5,45,4,4,5,45,45,4,5]),{'k1':'sudh','k2':'ineuron','k3':'kumar',3:6,7:8},['ineuron','data science']]\n"
      ],
      "metadata": {
        "id": "CTyfPHavofC8"
      },
      "execution_count": null,
      "outputs": []
    },
    {
      "cell_type": "code",
      "source": [
        "#Question 3: Extracting all list entities\n",
        "for i in l:\n",
        "  if type(i) == list:\n",
        "    for j in i:\n",
        "      print(j)"
      ],
      "metadata": {
        "colab": {
          "base_uri": "https://localhost:8080/"
        },
        "id": "FxihaJU7rc9E",
        "outputId": "7ce6f9cd-b608-4090-975b-daa308c24f3e"
      },
      "execution_count": null,
      "outputs": [
        {
          "output_type": "stream",
          "name": "stdout",
          "text": [
            "1\n",
            "2\n",
            "3\n",
            "4\n",
            "ineuron\n",
            "data science\n"
          ]
        }
      ]
    },
    {
      "cell_type": "code",
      "source": [
        "#Question 4: Extracting all Dictionary Entities\n",
        "for i in l:\n",
        "  if type(i) == dict:\n",
        "    for k,v in i.items():\n",
        "      print(k,\":\",v)\n",
        "      "
      ],
      "metadata": {
        "colab": {
          "base_uri": "https://localhost:8080/"
        },
        "id": "Os50XG8WsYQT",
        "outputId": "b7ce8619-3568-447e-93a1-c40637b52734"
      },
      "execution_count": null,
      "outputs": [
        {
          "output_type": "stream",
          "name": "stdout",
          "text": [
            "k1 : sudh\n",
            "k2 : ineuron\n",
            "k3 : kumar\n",
            "3 : 6\n",
            "7 : 8\n"
          ]
        }
      ]
    },
    {
      "cell_type": "code",
      "source": [
        "#Question 5: Extracting all tuple entities\n",
        "for i in l:\n",
        "  if type(i) == tuple:\n",
        "    for j in i:\n",
        "      print(j)"
      ],
      "metadata": {
        "colab": {
          "base_uri": "https://localhost:8080/"
        },
        "id": "QYG23Vz2sjuz",
        "outputId": "423e0e1d-54d6-4471-e940-65fcbf0c2a49"
      },
      "execution_count": null,
      "outputs": [
        {
          "output_type": "stream",
          "name": "stdout",
          "text": [
            "2\n",
            "3\n",
            "4\n",
            "5\n",
            "6\n",
            "3\n",
            "4\n",
            "5\n",
            "6\n",
            "7\n"
          ]
        }
      ]
    },
    {
      "cell_type": "code",
      "source": [
        "#Question 6: Extracting all the numerical data\n",
        "l2 = []\n",
        "for i in l:\n",
        "  if type(i) == int:\n",
        "    l2.append(i)\n",
        "  if type(i) == list or type(i) == tuple:\n",
        "    for j in i:\n",
        "      if type(j) == int:\n",
        "        l2.append(j)\n",
        "  if type(i) == dict:\n",
        "    for k,v in i.items():\n",
        "      if type(k) == int or type(v) == int:\n",
        "        l2.append(k)\n",
        "        l2.append(v)\n",
        "        "
      ],
      "metadata": {
        "id": "9N-kyCF_udA9"
      },
      "execution_count": null,
      "outputs": []
    },
    {
      "cell_type": "code",
      "source": [
        "l2"
      ],
      "metadata": {
        "colab": {
          "base_uri": "https://localhost:8080/"
        },
        "id": "Hr_-yCQy1T49",
        "outputId": "4aa2806a-e7eb-47ab-a2c5-588c307fde87"
      },
      "execution_count": null,
      "outputs": [
        {
          "output_type": "execute_result",
          "data": {
            "text/plain": [
              "[1, 2, 3, 4, 2, 3, 4, 5, 6, 3, 4, 5, 6, 7, 3, 6, 7, 8]"
            ]
          },
          "metadata": {},
          "execution_count": 12
        }
      ]
    },
    {
      "cell_type": "code",
      "source": [
        "#Question 7: Extracting summation of all numerical data\n",
        "sum = sum(l2)\n",
        "sum"
      ],
      "metadata": {
        "colab": {
          "base_uri": "https://localhost:8080/"
        },
        "id": "FHP_Gq4t1aal",
        "outputId": "4291b19f-1c5e-4712-d485-2ae07cabfb43"
      },
      "execution_count": null,
      "outputs": [
        {
          "output_type": "execute_result",
          "data": {
            "text/plain": [
              "79"
            ]
          },
          "metadata": {},
          "execution_count": 13
        }
      ]
    },
    {
      "cell_type": "code",
      "source": [
        "\n",
        "l2"
      ],
      "metadata": {
        "colab": {
          "base_uri": "https://localhost:8080/"
        },
        "id": "b1vZevDM2ibu",
        "outputId": "7e26e20a-838f-457d-c488-743c16ed1e23"
      },
      "execution_count": null,
      "outputs": [
        {
          "output_type": "execute_result",
          "data": {
            "text/plain": [
              "[1, 2, 3, 4, 2, 3, 4, 5, 6, 3, 4, 5, 6, 7, 3, 6, 7, 8]"
            ]
          },
          "metadata": {},
          "execution_count": 14
        }
      ]
    },
    {
      "cell_type": "code",
      "source": [
        "#Question 8: Filter out all the odd values out of the numerical data\n",
        "l2_odd = []\n",
        "for i in l2:\n",
        "  if i % 2 != 0:\n",
        "   l2_odd.append(i)\n",
        "\n",
        "l2_odd\n"
      ],
      "metadata": {
        "colab": {
          "base_uri": "https://localhost:8080/"
        },
        "id": "rtNYp2CR2qId",
        "outputId": "6f7b2c2c-8608-4d22-a290-d0a4b652553b"
      },
      "execution_count": null,
      "outputs": [
        {
          "output_type": "execute_result",
          "data": {
            "text/plain": [
              "[1, 3, 3, 5, 3, 5, 7, 3, 7]"
            ]
          },
          "metadata": {},
          "execution_count": 17
        }
      ]
    },
    {
      "cell_type": "code",
      "source": [
        "#Question 9: Extract 'ineuron' out of the data\n",
        "l\n",
        "l3 = []\n",
        "for i in l:\n",
        "  if type(i) == list or type(i) == tuple:\n",
        "    for j in i:\n",
        "      if j == 'ineuron':\n",
        "        l3.append(j)\n",
        "  if type(i) == dict:\n",
        "    for k,v in i.items():\n",
        "      if k == 'ineuron':\n",
        "        l3.append(k)\n",
        "      if v == 'ineuron':\n",
        "        l3.append(v)\n",
        "l3"
      ],
      "metadata": {
        "colab": {
          "base_uri": "https://localhost:8080/"
        },
        "id": "VCUPOyGh2zr-",
        "outputId": "5e41ae45-f27d-4f3c-f393-dc18030703ea"
      },
      "execution_count": null,
      "outputs": [
        {
          "output_type": "execute_result",
          "data": {
            "text/plain": [
              "['ineuron', 'ineuron']"
            ]
          },
          "metadata": {},
          "execution_count": 22
        }
      ]
    },
    {
      "cell_type": "code",
      "source": [
        "#Question 10: Number of Occurences of all the data\n",
        "l2\n",
        "\n",
        "def CountOccurrence(a):\n",
        "  k = {}\n",
        "  for j in a:\n",
        "    if j in k:\n",
        "      k[j] +=1\n",
        "    else:\n",
        "      k[j] =1\n",
        "  return k\n",
        "\n",
        "print(CountOccurrence(l2))"
      ],
      "metadata": {
        "id": "h9aWzyZ730_p",
        "colab": {
          "base_uri": "https://localhost:8080/"
        },
        "outputId": "81cbf9ad-20be-4bfb-df39-25a5be1a7600"
      },
      "execution_count": null,
      "outputs": [
        {
          "output_type": "stream",
          "name": "stdout",
          "text": [
            "{1: 1, 2: 2, 3: 4, 4: 3, 5: 2, 6: 3, 7: 2, 8: 1}\n"
          ]
        }
      ]
    },
    {
      "cell_type": "code",
      "source": [
        "#Question 11: Number of keys in Dictionary element\n",
        "l\n",
        "count = 0\n",
        "for i in l:\n",
        "  if type(i) == dict:\n",
        "    for key,value in i.items():\n",
        "      count += 1\n",
        "\n",
        "count\n",
        " \n",
        "    "
      ],
      "metadata": {
        "colab": {
          "base_uri": "https://localhost:8080/"
        },
        "id": "YDWe3oAk3tcB",
        "outputId": "367f6c49-3b91-407b-a695-2468f4a6d730"
      },
      "execution_count": null,
      "outputs": [
        {
          "output_type": "execute_result",
          "data": {
            "text/plain": [
              "5"
            ]
          },
          "metadata": {},
          "execution_count": 10
        }
      ]
    },
    {
      "cell_type": "code",
      "source": [
        "#Question 12: Filter out the String Data\n",
        "l3 = []\n",
        "for i in l:\n",
        "  if type(i) == int:\n",
        "    l3.append(i)\n",
        "  if type(i) == str:\n",
        "    l3.append(i)\n",
        "  if type(i) == list or type(i) == tuple:\n",
        "    for j in i:\n",
        "      l3.append(j)\n",
        "  if type(i) == dict:\n",
        "    for k,v in i.items():\n",
        "        l3.append(k)\n",
        "        l3.append(v)\n",
        "\n",
        "l3\n",
        "\n",
        "for i in l3:\n",
        "  if type(i) == str:\n",
        "    print(i)"
      ],
      "metadata": {
        "colab": {
          "base_uri": "https://localhost:8080/"
        },
        "id": "l63bqK515DTi",
        "outputId": "862754bd-389a-45b0-df68-b009966c0d39"
      },
      "execution_count": null,
      "outputs": [
        {
          "output_type": "stream",
          "name": "stdout",
          "text": [
            "k1\n",
            "sudh\n",
            "k2\n",
            "ineuron\n",
            "k3\n",
            "kumar\n",
            "ineuron\n",
            "data science\n"
          ]
        }
      ]
    },
    {
      "cell_type": "code",
      "source": [
        "#Question 13: Try to find alphanumeric in data\n",
        "for i in l3:\n",
        "  if type(i) == str:\n",
        "    if i.isalnum() == True:\n",
        "     print(i)"
      ],
      "metadata": {
        "colab": {
          "base_uri": "https://localhost:8080/"
        },
        "id": "5172dola6DFL",
        "outputId": "8febc792-b463-4177-eb86-976c80d39dc3"
      },
      "execution_count": null,
      "outputs": [
        {
          "output_type": "stream",
          "name": "stdout",
          "text": [
            "k1\n",
            "sudh\n",
            "k2\n",
            "ineuron\n",
            "k3\n",
            "kumar\n",
            "ineuron\n"
          ]
        }
      ]
    },
    {
      "cell_type": "code",
      "source": [
        "#Question 14: Multiplication of all numeric value in individual collection set\n",
        "answer = 1\n",
        "for x in l3:\n",
        "  if type(x) == int: \n",
        "    answer = answer * x\n",
        "\n",
        "answer\n",
        "  "
      ],
      "metadata": {
        "colab": {
          "base_uri": "https://localhost:8080/"
        },
        "id": "1rY3xCc68zS1",
        "outputId": "0eb5b03a-666e-4dd6-a7e6-ad001c253b91"
      },
      "execution_count": null,
      "outputs": [
        {
          "output_type": "execute_result",
          "data": {
            "text/plain": [
              "43893964800"
            ]
          },
          "metadata": {},
          "execution_count": 20
        }
      ]
    },
    {
      "cell_type": "code",
      "source": [
        "#Question 14: Multiplication of all numeric value in individual collection set\n",
        "\n",
        "result_tuple = 1\n",
        "result_set = 1\n",
        "result_dict = 1\n",
        "for i in l:\n",
        "  if type(i) == tuple:\n",
        "    for j in i:\n",
        "      if type(j) == int:\n",
        "        result_tuple = result_tuple * j\n",
        "  if type(i) == set:\n",
        "    for j in i:\n",
        "      if type(j) == int:\n",
        "        result_set = result_tuple * j\n",
        "  if type(i) == dict:\n",
        "    for k,v in i.items():\n",
        "      if type(k) == int:\n",
        "        result_dict = result_dict * k\n",
        "      if type(v) == int:\n",
        "        result_dict = result_dict * v\n",
        "\n",
        "print(result_tuple,result_set,result_dict)\n",
        "\n"
      ],
      "metadata": {
        "colab": {
          "base_uri": "https://localhost:8080/"
        },
        "id": "1zMFAMwO9fIz",
        "outputId": "83bacaa8-b7ad-427b-82fc-950dfc347ce8"
      },
      "execution_count": null,
      "outputs": [
        {
          "output_type": "stream",
          "name": "stdout",
          "text": [
            "1814400 41731200 1008\n"
          ]
        }
      ]
    },
    {
      "cell_type": "code",
      "source": [
        "#Question 15: Unwraping all data into flat list\n",
        "def flatten_list(list):\n",
        "    flat_list = []\n",
        "    # Iterate through the outer list\n",
        "    for element in list:\n",
        "        if type(element) == list or type(element) == set or type(element) == tuple or type(element) == dict:\n",
        "            # If the element is of type list, iterate through the sublist\n",
        "            for item in element:\n",
        "                flat_list.append(item)\n",
        "        else:\n",
        "            flat_list.append(element)\n",
        "    return flat_list\n",
        "\n",
        "nested_list = [[1,2,3,4],(2,3,4,5,6),(3,4,5,6,7),set([23,4,5,45,4,4,5,45,45,4,5]),{'k1':'sudh','k2':'ineuron','k3':'kumar',3:6,7:8},['ineuron','data science']]\n",
        "print('Original List', nested_list)\n",
        "print('Transformed Flat List', flatten_list(nested_list))"
      ],
      "metadata": {
        "colab": {
          "base_uri": "https://localhost:8080/"
        },
        "id": "DC4IoGpoap_G",
        "outputId": "d4e62cc4-5a06-4931-e3f5-6d92ef4eacab"
      },
      "execution_count": 3,
      "outputs": [
        {
          "output_type": "stream",
          "name": "stdout",
          "text": [
            "Original List [[1, 2, 3, 4], (2, 3, 4, 5, 6), (3, 4, 5, 6, 7), {45, 4, 5, 23}, {'k1': 'sudh', 'k2': 'ineuron', 'k3': 'kumar', 3: 6, 7: 8}, ['ineuron', 'data science']]\n",
            "Transformed Flat List [[1, 2, 3, 4], 2, 3, 4, 5, 6, 3, 4, 5, 6, 7, 45, 4, 5, 23, 'k1', 'k2', 'k3', 3, 7, ['ineuron', 'data science']]\n"
          ]
        }
      ]
    }
  ]
}
