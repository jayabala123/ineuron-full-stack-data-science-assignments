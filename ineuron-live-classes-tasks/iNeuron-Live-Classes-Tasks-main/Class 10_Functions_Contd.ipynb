{
  "nbformat": 4,
  "nbformat_minor": 0,
  "metadata": {
    "colab": {
      "name": "Class 10_Functions Contd.ipynb",
      "provenance": [],
      "collapsed_sections": [],
      "machine_shape": "hm"
    },
    "kernelspec": {
      "name": "python3",
      "display_name": "Python 3"
    },
    "language_info": {
      "name": "python"
    },
    "accelerator": "GPU"
  },
  "cells": [
    {
      "cell_type": "code",
      "execution_count": 1,
      "metadata": {
        "colab": {
          "base_uri": "https://localhost:8080/"
        },
        "id": "PxWTqsEPPm2g",
        "outputId": "1ede4693-0f9e-4a24-a4c2-8f9eaafde44a"
      },
      "outputs": [
        {
          "output_type": "execute_result",
          "data": {
            "text/plain": [
              "7"
            ]
          },
          "metadata": {},
          "execution_count": 1
        }
      ],
      "source": [
        "def test(a,b):\n",
        "  '''This is my function for concatenation or addition'''   #Creating a docstring/instruction for function-->Better to have this\n",
        "  return a + b\n",
        "\n",
        "test(3,4)"
      ]
    },
    {
      "cell_type": "code",
      "source": [
        "test(a=6,b=3) #You can give a = and b = : Same thing"
      ],
      "metadata": {
        "colab": {
          "base_uri": "https://localhost:8080/"
        },
        "id": "Hu71qBrWRe0V",
        "outputId": "b5c967eb-6daa-408d-aae0-2e6bb8b341fe"
      },
      "execution_count": 2,
      "outputs": [
        {
          "output_type": "execute_result",
          "data": {
            "text/plain": [
              "9"
            ]
          },
          "metadata": {},
          "execution_count": 2
        }
      ]
    },
    {
      "cell_type": "code",
      "source": [
        "test(b=45,a=3) #Order doesnt matter"
      ],
      "metadata": {
        "colab": {
          "base_uri": "https://localhost:8080/"
        },
        "id": "lzJJyn5KRvrW",
        "outputId": "f4a8b1af-08fa-418b-85c2-b95da38e3b1a"
      },
      "execution_count": 3,
      "outputs": [
        {
          "output_type": "execute_result",
          "data": {
            "text/plain": [
              "48"
            ]
          },
          "metadata": {},
          "execution_count": 3
        }
      ]
    },
    {
      "cell_type": "code",
      "source": [
        "test()   #-->Shift Tab will give me the instructions/docstring that we created in function "
      ],
      "metadata": {
        "id": "18g37HLxR0Ge"
      },
      "execution_count": null,
      "outputs": []
    },
    {
      "cell_type": "code",
      "source": [
        "def test1(a,b,c,d,e) :\n",
        "  return a,b,c,d,e\n",
        "\n",
        "test1(3,4,5,6,7)"
      ],
      "metadata": {
        "colab": {
          "base_uri": "https://localhost:8080/"
        },
        "id": "0UGCqGVOSsy7",
        "outputId": "2a6e5d0e-4af9-4a72-f4fe-329e2d2492e1"
      },
      "execution_count": 4,
      "outputs": [
        {
          "output_type": "execute_result",
          "data": {
            "text/plain": [
              "(3, 4, 5, 6, 7)"
            ]
          },
          "metadata": {},
          "execution_count": 4
        }
      ]
    },
    {
      "cell_type": "code",
      "source": [
        "test1(1,2,3,4) #Number of arguments less or more then error"
      ],
      "metadata": {
        "colab": {
          "base_uri": "https://localhost:8080/",
          "height": 168
        },
        "id": "UKLeBhOpTAwH",
        "outputId": "4d88913c-08be-4ba0-a35c-ec288e66d436"
      },
      "execution_count": 5,
      "outputs": [
        {
          "output_type": "error",
          "ename": "TypeError",
          "evalue": "ignored",
          "traceback": [
            "\u001b[0;31m---------------------------------------------------------------------------\u001b[0m",
            "\u001b[0;31mTypeError\u001b[0m                                 Traceback (most recent call last)",
            "\u001b[0;32m<ipython-input-5-f2b21aa5fde2>\u001b[0m in \u001b[0;36m<module>\u001b[0;34m()\u001b[0m\n\u001b[0;32m----> 1\u001b[0;31m \u001b[0mtest1\u001b[0m\u001b[0;34m(\u001b[0m\u001b[0;36m1\u001b[0m\u001b[0;34m,\u001b[0m\u001b[0;36m2\u001b[0m\u001b[0;34m,\u001b[0m\u001b[0;36m3\u001b[0m\u001b[0;34m,\u001b[0m\u001b[0;36m4\u001b[0m\u001b[0;34m)\u001b[0m\u001b[0;34m\u001b[0m\u001b[0;34m\u001b[0m\u001b[0m\n\u001b[0m",
            "\u001b[0;31mTypeError\u001b[0m: test1() missing 1 required positional argument: 'e'"
          ]
        }
      ]
    },
    {
      "cell_type": "code",
      "source": [
        "#Lets solve the above situation\n",
        "def test(*a):   #Asterisk of a means any number of parameters\n",
        " return a\n",
        "\n",
        "test(1,2,3,4,67,890)  #This works perfectly: Independent of number of argument"
      ],
      "metadata": {
        "colab": {
          "base_uri": "https://localhost:8080/"
        },
        "id": "A4N1xyiuTIIm",
        "outputId": "56319ab9-41c3-42b1-f3f3-900e3cf80971"
      },
      "execution_count": 6,
      "outputs": [
        {
          "output_type": "execute_result",
          "data": {
            "text/plain": [
              "(1, 2, 3, 4, 67, 890)"
            ]
          },
          "metadata": {},
          "execution_count": 6
        }
      ]
    },
    {
      "cell_type": "code",
      "source": [
        "def test5(*a):   \n",
        "  l = []\n",
        "  for i in a:\n",
        "    l.append(i)\n",
        "  return l\n",
        "\n",
        "test5(2,3,4,5,45,5,[345,56,6,5])"
      ],
      "metadata": {
        "colab": {
          "base_uri": "https://localhost:8080/"
        },
        "id": "xKpFcqjdTka5",
        "outputId": "ff4df5af-f99e-4ce9-bd8c-a3d1ee65317f"
      },
      "execution_count": 7,
      "outputs": [
        {
          "output_type": "execute_result",
          "data": {
            "text/plain": [
              "[2, 3, 4, 5, 45, 5, [345, 56, 6, 5]]"
            ]
          },
          "metadata": {},
          "execution_count": 7
        }
      ]
    },
    {
      "cell_type": "code",
      "source": [
        "def test6(a,b,c,d,*m):\n",
        "  return a,b,c,d,m\n",
        "\n",
        "test6(1,2,3,4,5,6,7,8,9)"
      ],
      "metadata": {
        "colab": {
          "base_uri": "https://localhost:8080/"
        },
        "id": "CKZdq7dQUnzc",
        "outputId": "b4cc8ac8-dc11-41c6-f6f3-3c70bb93ac97"
      },
      "execution_count": 8,
      "outputs": [
        {
          "output_type": "execute_result",
          "data": {
            "text/plain": [
              "(1, 2, 3, 4, (5, 6, 7, 8, 9))"
            ]
          },
          "metadata": {},
          "execution_count": 8
        }
      ]
    },
    {
      "cell_type": "code",
      "source": [
        "def test7(*m,a,b,c,d):   #Will get error because it it taking *m as all and nothing is left for a,b,c,d\n",
        "  return a,b,c,d,m\n",
        "\n",
        "test7(1,2,3,4,5,6,7,8,9)"
      ],
      "metadata": {
        "colab": {
          "base_uri": "https://localhost:8080/",
          "height": 204
        },
        "id": "PqmwAuN8VMhU",
        "outputId": "ae0cab89-0780-4338-d965-4b5d5e4ce75d"
      },
      "execution_count": 9,
      "outputs": [
        {
          "output_type": "error",
          "ename": "TypeError",
          "evalue": "ignored",
          "traceback": [
            "\u001b[0;31m---------------------------------------------------------------------------\u001b[0m",
            "\u001b[0;31mTypeError\u001b[0m                                 Traceback (most recent call last)",
            "\u001b[0;32m<ipython-input-9-e884b9a59c1b>\u001b[0m in \u001b[0;36m<module>\u001b[0;34m()\u001b[0m\n\u001b[1;32m      2\u001b[0m   \u001b[0;32mreturn\u001b[0m \u001b[0ma\u001b[0m\u001b[0;34m,\u001b[0m\u001b[0mb\u001b[0m\u001b[0;34m,\u001b[0m\u001b[0mc\u001b[0m\u001b[0;34m,\u001b[0m\u001b[0md\u001b[0m\u001b[0;34m,\u001b[0m\u001b[0mm\u001b[0m\u001b[0;34m\u001b[0m\u001b[0;34m\u001b[0m\u001b[0m\n\u001b[1;32m      3\u001b[0m \u001b[0;34m\u001b[0m\u001b[0m\n\u001b[0;32m----> 4\u001b[0;31m \u001b[0mtest7\u001b[0m\u001b[0;34m(\u001b[0m\u001b[0;36m1\u001b[0m\u001b[0;34m,\u001b[0m\u001b[0;36m2\u001b[0m\u001b[0;34m,\u001b[0m\u001b[0;36m3\u001b[0m\u001b[0;34m,\u001b[0m\u001b[0;36m4\u001b[0m\u001b[0;34m,\u001b[0m\u001b[0;36m5\u001b[0m\u001b[0;34m,\u001b[0m\u001b[0;36m6\u001b[0m\u001b[0;34m,\u001b[0m\u001b[0;36m7\u001b[0m\u001b[0;34m,\u001b[0m\u001b[0;36m8\u001b[0m\u001b[0;34m,\u001b[0m\u001b[0;36m9\u001b[0m\u001b[0;34m)\u001b[0m\u001b[0;34m\u001b[0m\u001b[0;34m\u001b[0m\u001b[0m\n\u001b[0m",
            "\u001b[0;31mTypeError\u001b[0m: test7() missing 4 required keyword-only arguments: 'a', 'b', 'c', and 'd'"
          ]
        }
      ]
    },
    {
      "cell_type": "code",
      "source": [
        "#Solution for above\n",
        "test7(1,2,3,4,5,a = 6,b = 7,c = 8,d = 9)"
      ],
      "metadata": {
        "colab": {
          "base_uri": "https://localhost:8080/"
        },
        "id": "D3SO3EXiVcG7",
        "outputId": "a6fce1ed-e227-4799-de3a-901d919e25b3"
      },
      "execution_count": 10,
      "outputs": [
        {
          "output_type": "execute_result",
          "data": {
            "text/plain": [
              "(6, 7, 8, 9, (1, 2, 3, 4, 5))"
            ]
          },
          "metadata": {},
          "execution_count": 10
        }
      ]
    },
    {
      "cell_type": "code",
      "source": [
        "def test8(**sudh):  #For double asterisk, expecting dictionary kind of object otherwise error\n",
        "  return sudh\n",
        "\n",
        "test8(4,5,6,6)"
      ],
      "metadata": {
        "colab": {
          "base_uri": "https://localhost:8080/",
          "height": 204
        },
        "id": "yQ4j9gSRVxm9",
        "outputId": "109c151c-edc1-416f-fc36-bbad7063223e"
      },
      "execution_count": 11,
      "outputs": [
        {
          "output_type": "error",
          "ename": "TypeError",
          "evalue": "ignored",
          "traceback": [
            "\u001b[0;31m---------------------------------------------------------------------------\u001b[0m",
            "\u001b[0;31mTypeError\u001b[0m                                 Traceback (most recent call last)",
            "\u001b[0;32m<ipython-input-11-86d631651c68>\u001b[0m in \u001b[0;36m<module>\u001b[0;34m()\u001b[0m\n\u001b[1;32m      2\u001b[0m   \u001b[0;32mreturn\u001b[0m \u001b[0msudh\u001b[0m\u001b[0;34m\u001b[0m\u001b[0;34m\u001b[0m\u001b[0m\n\u001b[1;32m      3\u001b[0m \u001b[0;34m\u001b[0m\u001b[0m\n\u001b[0;32m----> 4\u001b[0;31m \u001b[0mtest8\u001b[0m\u001b[0;34m(\u001b[0m\u001b[0;36m4\u001b[0m\u001b[0;34m,\u001b[0m\u001b[0;36m5\u001b[0m\u001b[0;34m,\u001b[0m\u001b[0;36m6\u001b[0m\u001b[0;34m,\u001b[0m\u001b[0;36m6\u001b[0m\u001b[0;34m)\u001b[0m\u001b[0;34m\u001b[0m\u001b[0;34m\u001b[0m\u001b[0m\n\u001b[0m",
            "\u001b[0;31mTypeError\u001b[0m: test8() takes 0 positional arguments but 4 were given"
          ]
        }
      ]
    },
    {
      "cell_type": "code",
      "source": [
        "test8(b=4,c=5,d=4,e=7)"
      ],
      "metadata": {
        "colab": {
          "base_uri": "https://localhost:8080/"
        },
        "id": "XFYg9mBvWkuj",
        "outputId": "9bec974e-dcf9-4932-8118-57d02db87a99"
      },
      "execution_count": 12,
      "outputs": [
        {
          "output_type": "execute_result",
          "data": {
            "text/plain": [
              "{'b': 4, 'c': 5, 'd': 4, 'e': 7}"
            ]
          },
          "metadata": {},
          "execution_count": 12
        }
      ]
    },
    {
      "cell_type": "code",
      "source": [
        "def test9(*m,**s):  \n",
        "  return m,s\n",
        "\n",
        "test9(345,56,78,56,b=4,c=6,d=7,g=9)"
      ],
      "metadata": {
        "colab": {
          "base_uri": "https://localhost:8080/"
        },
        "id": "wSrqIFVrW0f5",
        "outputId": "dbc0b5e1-e40b-4fe7-eee0-883ce64c185a"
      },
      "execution_count": 13,
      "outputs": [
        {
          "output_type": "execute_result",
          "data": {
            "text/plain": [
              "((345, 56, 78, 56), {'b': 4, 'c': 6, 'd': 7, 'g': 9})"
            ]
          },
          "metadata": {},
          "execution_count": 13
        }
      ]
    },
    {
      "cell_type": "code",
      "source": [
        "def test10(*m):\n",
        "  n = 1\n",
        "  for i in m:\n",
        "    if type(i) == int:\n",
        "      n = n * i\n",
        "  return n\n",
        "\n",
        "test10(1,2,3,4,5,6,'m',123)"
      ],
      "metadata": {
        "colab": {
          "base_uri": "https://localhost:8080/"
        },
        "id": "InsVFF53Xd9V",
        "outputId": "ef14be95-97a2-4e8f-d246-074d1bfa1b21"
      },
      "execution_count": 14,
      "outputs": [
        {
          "output_type": "execute_result",
          "data": {
            "text/plain": [
              "88560"
            ]
          },
          "metadata": {},
          "execution_count": 14
        }
      ]
    },
    {
      "cell_type": "code",
      "source": [
        "#Lambda Function Concept (Anonymous/Inline Function): lambda is a reserved keyword: Anonymous function because there is no name\n",
        "n = lambda a,b : a + b #Will become clumsy if the logic is complex\n",
        "n(4,5)"
      ],
      "metadata": {
        "colab": {
          "base_uri": "https://localhost:8080/"
        },
        "id": "NQP57RR0Yoe_",
        "outputId": "f8786156-ffdb-4ee0-c1a3-dc9cedf49e0d"
      },
      "execution_count": 15,
      "outputs": [
        {
          "output_type": "execute_result",
          "data": {
            "text/plain": [
              "9"
            ]
          },
          "metadata": {},
          "execution_count": 15
        }
      ]
    },
    {
      "cell_type": "code",
      "source": [
        "b = lambda *sudh : sudh\n",
        "b(45,4,5,6,3)"
      ],
      "metadata": {
        "colab": {
          "base_uri": "https://localhost:8080/"
        },
        "id": "8qMGHYDgaDIb",
        "outputId": "77f2e936-6cd3-4f41-9da3-7d05cff02168"
      },
      "execution_count": 16,
      "outputs": [
        {
          "output_type": "execute_result",
          "data": {
            "text/plain": [
              "(45, 4, 5, 6, 3)"
            ]
          },
          "metadata": {},
          "execution_count": 16
        }
      ]
    },
    {
      "cell_type": "code",
      "source": [
        "#Comprehension Option\n",
        "t = (3,4,4,55,55,6,7)\n",
        "[i for i in t]\n"
      ],
      "metadata": {
        "colab": {
          "base_uri": "https://localhost:8080/"
        },
        "id": "1wFSOgmxbBoL",
        "outputId": "30dda65a-48ee-4973-a8ee-c3315a03c3a8"
      },
      "execution_count": 17,
      "outputs": [
        {
          "output_type": "execute_result",
          "data": {
            "text/plain": [
              "[3, 4, 4, 55, 55, 6, 7]"
            ]
          },
          "metadata": {},
          "execution_count": 17
        }
      ]
    },
    {
      "cell_type": "code",
      "source": [
        "s = 'sudh'\n",
        "[i for i in s]"
      ],
      "metadata": {
        "colab": {
          "base_uri": "https://localhost:8080/"
        },
        "id": "MVxnKTqkb9CJ",
        "outputId": "805f33ee-0952-42ca-9ce2-5acebf3e690e"
      },
      "execution_count": 18,
      "outputs": [
        {
          "output_type": "execute_result",
          "data": {
            "text/plain": [
              "['s', 'u', 'd', 'h']"
            ]
          },
          "metadata": {},
          "execution_count": 18
        }
      ]
    },
    {
      "cell_type": "code",
      "source": [
        "[i*i for i in range(10)]"
      ],
      "metadata": {
        "colab": {
          "base_uri": "https://localhost:8080/"
        },
        "id": "P7bqnY3ncL8s",
        "outputId": "625e7743-2a1f-4696-c2bd-b50c602776fb"
      },
      "execution_count": 19,
      "outputs": [
        {
          "output_type": "execute_result",
          "data": {
            "text/plain": [
              "[0, 1, 4, 9, 16, 25, 36, 49, 64, 81]"
            ]
          },
          "metadata": {},
          "execution_count": 19
        }
      ]
    },
    {
      "cell_type": "code",
      "source": [
        "l = lambda *x : [i for i in x ]\n",
        "l(4,45,6,7,8,9,13)"
      ],
      "metadata": {
        "colab": {
          "base_uri": "https://localhost:8080/"
        },
        "id": "vADxbJxkclD_",
        "outputId": "ac1c1e9f-9894-4647-e1e2-37ea933c375e"
      },
      "execution_count": 20,
      "outputs": [
        {
          "output_type": "execute_result",
          "data": {
            "text/plain": [
              "[4, 45, 6, 7, 8, 9, 13]"
            ]
          },
          "metadata": {},
          "execution_count": 20
        }
      ]
    },
    {
      "cell_type": "code",
      "source": [
        "l = lambda *x : [i**2 for i in x ]\n",
        "l(4,45,56,78,9)"
      ],
      "metadata": {
        "colab": {
          "base_uri": "https://localhost:8080/"
        },
        "id": "d1p2Zv2ldDPE",
        "outputId": "f4e434b9-3adf-4c03-9371-93099050bfac"
      },
      "execution_count": 21,
      "outputs": [
        {
          "output_type": "execute_result",
          "data": {
            "text/plain": [
              "[16, 2025, 3136, 6084, 81]"
            ]
          },
          "metadata": {},
          "execution_count": 21
        }
      ]
    },
    {
      "cell_type": "code",
      "source": [
        "def test14(**kwargs):\n",
        "  count = 0\n",
        "  for v in kwargs.values():\n",
        "    if type(v) == str:\n",
        "      count = count + 1\n",
        "    if type(v) == list:\n",
        "      for i in v:\n",
        "        if type(i) == str:\n",
        "          count = count + 1\n",
        "  return count\n",
        "\n",
        "test14(a=7,b=4,c='sudh',l=[2,3,4,5,'sudh','abc','type'])"
      ],
      "metadata": {
        "colab": {
          "base_uri": "https://localhost:8080/"
        },
        "id": "jTgpzeDPgXNV",
        "outputId": "182ff552-b131-4933-a979-a50daca67eb3"
      },
      "execution_count": 24,
      "outputs": [
        {
          "output_type": "execute_result",
          "data": {
            "text/plain": [
              "4"
            ]
          },
          "metadata": {},
          "execution_count": 24
        }
      ]
    }
  ]
}