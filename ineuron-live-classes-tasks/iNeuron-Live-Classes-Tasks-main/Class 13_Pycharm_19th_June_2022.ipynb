{
  "nbformat": 4,
  "nbformat_minor": 0,
  "metadata": {
    "colab": {
      "name": "Class 13_Pycharm_19th June 2022.ipynb",
      "provenance": [],
      "collapsed_sections": []
    },
    "kernelspec": {
      "name": "python3",
      "display_name": "Python 3"
    },
    "language_info": {
      "name": "python"
    }
  },
  "cells": [
    {
      "cell_type": "markdown",
      "source": [
        "PYCHARM INSTALLATION AND SETUP CLASS"
      ],
      "metadata": {
        "id": "lKGGSbmKum14"
      }
    },
    {
      "cell_type": "markdown",
      "source": [
        "1. Install Pycharm Community Edition (You can use Visual Studio Code Also). Professional Edition will ask for license after 30 days. Community Edition has all the features we need.\n",
        "2. Best for development projects in Python \n",
        "3. Why we are using Pycharm?: \n",
        "4. Logging, Integration of Logging, Modular Coding, OOPs concept, Debugging (Server Side and CLient Side debugging will be difficult in Jupyter) in structured way: We can do all this in Jupyter notebook but when we are talking about big development project, we require Integrated Development Code (IDE). Hence we need an IDE like Pycharm. There will no changes in logic. Only structure will change in IDE.\n",
        "5. Internal Working of Pycharm: \n",
        "6. Select New Environment as Conda as we already have Conda Installed. No need to select Interpreter as we creating new environment\n",
        "7. Choose version basis Python installed in company otherwise select latest\n",
        "8. main.py is a python file that has been created. We can right click and run\n",
        "9. Run tab shows us the output and there is also a Terminal Tab \n",
        "10. Dont forget to use Ctrl + s and then run using right click on main.py file\n",
        "11. if __name__ == '__main__': We are giving instruction to python compiler: Without using this, we can still get the output by calling function.\n",
        "12. Dont forget to give extension while creating new file in the directory\n",
        "13. Proper Structure of code using Directories by following a hierarchy (Advantage of Pycharm)\n",
        "14. Another Advantage is Auto-Complete Option while writing code\n",
        "15. Another Advantage of Pycharm: No need to use Shift+Tab as we use in Jupyer Notebook to see help/documentation but in pycharm, we just need to hover the mouse on top of the function and we get the help.\n",
        "16. TASK: Create a fresh project and create python files for all function related tasks and then try to put all files in one directory in PyCharm (To familiarize with Pycharm Interface) 5th June Task to be replicated\n",
        "17. pip install in terminal tab to install relevant packages\n",
        "18. Awesome Debugging feature in Pycharm: Select lines of code you want understand step by step: Place red dot (Debuggin points) in code: Right click and select debug mode and then Use Step into (Download like symbol) to run till next debug points. We can even at the time of runtime put custom values and check. "
      ],
      "metadata": {
        "id": "FxYVR2b7Y98n"
      }
    },
    {
      "cell_type": "code",
      "source": [
        ""
      ],
      "metadata": {
        "id": "0uL6tHYWY9L9"
      },
      "execution_count": null,
      "outputs": []
    },
    {
      "cell_type": "code",
      "source": [
        ""
      ],
      "metadata": {
        "id": "t8ykKQqgfLZm"
      },
      "execution_count": null,
      "outputs": []
    }
  ]
}
