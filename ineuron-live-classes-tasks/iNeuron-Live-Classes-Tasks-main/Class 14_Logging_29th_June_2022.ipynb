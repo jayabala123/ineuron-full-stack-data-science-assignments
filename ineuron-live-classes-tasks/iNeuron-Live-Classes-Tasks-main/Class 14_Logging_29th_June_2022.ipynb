{
  "nbformat": 4,
  "nbformat_minor": 0,
  "metadata": {
    "colab": {
      "name": "Class 14_Logging_29th June 2022.ipynb",
      "provenance": [],
      "collapsed_sections": []
    },
    "kernelspec": {
      "name": "python3",
      "display_name": "Python 3"
    },
    "language_info": {
      "name": "python"
    }
  },
  "cells": [
    {
      "cell_type": "markdown",
      "source": [
        "**LOGGING**\n"
      ],
      "metadata": {
        "id": "pr8wVTN_xAHl"
      }
    },
    {
      "cell_type": "markdown",
      "source": [
        "Suppose we have a big project consisting of tasks such as Loading Data, Merging Data, Filtering out Data , Storing a data in database etc. If suppose code stops execution and shows error, then how can a perosn who is monitoring the project would understand the problem? To maintain the standard of the project, we cannot use print statement to solve this problem. Also we dont have console access all the time. To solve this, we use **LOGGING**. We can either create a single log file for whole project or multiple log files for each of the processes involved in the project.\n",
        "\n",
        "By default we have to use Exception Handling and Logging in our project. Nobody will tell us to do so but it is standard procedure. "
      ],
      "metadata": {
        "id": "88pcnmVyv7yo"
      }
    },
    {
      "cell_type": "code",
      "source": [
        "import logging"
      ],
      "metadata": {
        "id": "yZIwjkSUv7QH"
      },
      "execution_count": null,
      "outputs": []
    },
    {
      "cell_type": "code",
      "execution_count": null,
      "metadata": {
        "id": "_T4GQE2Qvh0p"
      },
      "outputs": [],
      "source": [
        "logging.basicConfig(filename=\"test.log\", level = logging.INFO)  #Giving name of the log file\n",
        "logging.info(\"This is my very first code for logging\") #Whatever we want to dump in log file\n",
        "logging.warning(\"This will try to load a warning message\")\n",
        "logging.error(\"This is the error message from the system\")\n",
        "\n",
        "logging.shutdown() #Shuts down logging"
      ]
    },
    {
      "cell_type": "code",
      "source": [
        "for i in l:  \n",
        "  if i == 2:\n",
        "    logging.info(i)"
      ],
      "metadata": {
        "id": "Ws1ebgCnzZ9k"
      },
      "execution_count": null,
      "outputs": []
    },
    {
      "cell_type": "markdown",
      "source": [
        "We can have 5 levels of log: \n",
        "\n",
        "1) Debug Level log: When we need to perform investigation (Severity Level is 10)\n",
        "\n",
        "2) Warning Level Log: When we need to warn (Eg. Software is deprecated etc) (Severity Level is 30)\n",
        "\n",
        "3) Error Level log: When some error or exception has been raised (Severity Level is 40)\n",
        "\n",
        "4) Critical Level log: Severe Error to be recorded (Severity Level is 50)\n",
        "\n",
        "5) Info Level log: Generic Information to be recorded (Severity Level is 20)\n",
        "\n",
        "The Severity Level is important. If we put level as Info then it will handle Levels of Info and others which has more severity level. So, in this case Debug Level will not be handled. If we put level as Critical, it will only handle Critical Level and not any other it has maximum severity log whereas if we put level as Debug, it will handle all the levels as it has minimum severity level score.\n",
        "\n",
        "\n",
        "\n"
      ],
      "metadata": {
        "id": "oRcDFLPUztN7"
      }
    },
    {
      "cell_type": "code",
      "source": [
        "import logging  \n",
        "logging.basicConfig(filename = \"test2.log\",level=logging.DEBUG,format='%(levelname)s %(asctime)s %(name)s  %(message)s')  #Trying to store system time as well with message and name of the log\n",
        "logging.info(\"This is my log with timestamp\")"
      ],
      "metadata": {
        "id": "xRNxB3rJzswq"
      },
      "execution_count": null,
      "outputs": []
    },
    {
      "cell_type": "code",
      "source": [
        "import logging\n",
        "logging.basicConfig(filename=\"Test4.log\",level=logging.INFO,format = '%(levelname)s %(asctime)s %(name)s  %(message)s')\n",
        "\n",
        "def divide(a,b):\n",
        "  logging.info('The number entered by user is %s and %s',a,b) #I want to store what user input is giving\n",
        "  try:\n",
        "    logging.info('We are into function ')\n",
        "    div = a/b\n",
        "    logging.info('We have completed a division operation')\n",
        "    logging.info('The result of the code is %s',div)\n",
        "  except Exception as e:\n",
        "    logging.exception(e)\n",
        "\n",
        "\n",
        "print((divide(3,0)))"
      ],
      "metadata": {
        "id": "0UuZwNZc_k5t"
      },
      "execution_count": null,
      "outputs": []
    },
    {
      "cell_type": "code",
      "source": [
        "import logging\n",
        "\n",
        "logging.basicConfig(filename=\"test5.log\" , level=logging.INFO ,format='%(levelname)s %(asctime)s %(name)s  %(message)s')\n",
        "\n",
        "try : \n",
        "    logging.info(\"i am trying to read a file \")\n",
        "    with open(\"sudh.txt\" , \"r\"):\n",
        "        logging.info(\"succsfully it has read the file \")\n",
        "except Exception as e:\n",
        "    logging.critical(\"this is a situatoin for us \")\n",
        "    logging.error(e)\n",
        "    logging.exception(e)"
      ],
      "metadata": {
        "id": "3mnd5k4yTEzu"
      },
      "execution_count": null,
      "outputs": []
    }
  ]
}
