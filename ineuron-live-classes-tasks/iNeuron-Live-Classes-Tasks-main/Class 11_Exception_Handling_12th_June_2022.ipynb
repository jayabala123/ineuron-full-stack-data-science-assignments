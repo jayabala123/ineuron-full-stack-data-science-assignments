{
  "nbformat": 4,
  "nbformat_minor": 0,
  "metadata": {
    "colab": {
      "name": "Class 11_Exception Handling_12th June 2022.ipynb",
      "provenance": [],
      "collapsed_sections": []
    },
    "kernelspec": {
      "name": "python3",
      "display_name": "Python 3"
    },
    "language_info": {
      "name": "python"
    }
  },
  "cells": [
    {
      "cell_type": "markdown",
      "source": [
        "**EXCEPTION HANDLING**"
      ],
      "metadata": {
        "id": "97S6V3z5Z-zJ"
      }
    },
    {
      "cell_type": "markdown",
      "source": [
        "We know that compiler converts source code into byte code which is then consumed by interpreter.\n",
        "**There are can be 2 types of errors**: Compile Time Error (Syntax Error) and Run Time Error. \n",
        "\n",
        "Exception Handling comes under Run Time Error and takes place in interpreter where as compile time error takes place inside compiler."
      ],
      "metadata": {
        "id": "fMV8H4skVsUt"
      }
    },
    {
      "cell_type": "code",
      "source": [
        "a = 10\n",
        "b = 20\n",
        "c = a + b\n",
        "print(c)"
      ],
      "metadata": {
        "colab": {
          "base_uri": "https://localhost:8080/"
        },
        "id": "Nyi4EIFRVsIj",
        "outputId": "41265775-f278-43d5-dd4b-1a8e33e3adf5"
      },
      "execution_count": 1,
      "outputs": [
        {
          "output_type": "stream",
          "name": "stdout",
          "text": [
            "30\n"
          ]
        }
      ]
    },
    {
      "cell_type": "code",
      "execution_count": 2,
      "metadata": {
        "colab": {
          "base_uri": "https://localhost:8080/",
          "height": 133
        },
        "id": "7cPrsOhtSmhD",
        "outputId": "1a8bb52b-1855-4a73-e255-b3d148bf954d"
      },
      "outputs": [
        {
          "output_type": "error",
          "ename": "SyntaxError",
          "evalue": "ignored",
          "traceback": [
            "\u001b[0;36m  File \u001b[0;32m\"<ipython-input-2-f6970ac283c1>\"\u001b[0;36m, line \u001b[0;32m4\u001b[0m\n\u001b[0;31m    print(c\u001b[0m\n\u001b[0m           ^\u001b[0m\n\u001b[0;31mSyntaxError\u001b[0m\u001b[0;31m:\u001b[0m unexpected EOF while parsing\n"
          ]
        }
      ],
      "source": [
        "#Syntax Error\n",
        "a = 10\n",
        "b = 20\n",
        "c = a + b\n",
        "print(c"
      ]
    },
    {
      "cell_type": "code",
      "source": [
        "#Type Error\n",
        "a = 10\n",
        "b = 's'\n",
        "c = a + b \n",
        "print(c)"
      ],
      "metadata": {
        "colab": {
          "base_uri": "https://localhost:8080/",
          "height": 204
        },
        "id": "emrA8WLIYfh6",
        "outputId": "83619bb9-f0f2-4b4e-a576-d88c05052da0"
      },
      "execution_count": 3,
      "outputs": [
        {
          "output_type": "error",
          "ename": "TypeError",
          "evalue": "ignored",
          "traceback": [
            "\u001b[0;31m---------------------------------------------------------------------------\u001b[0m",
            "\u001b[0;31mTypeError\u001b[0m                                 Traceback (most recent call last)",
            "\u001b[0;32m<ipython-input-3-97e3f146bca1>\u001b[0m in \u001b[0;36m<module>\u001b[0;34m()\u001b[0m\n\u001b[1;32m      1\u001b[0m \u001b[0ma\u001b[0m \u001b[0;34m=\u001b[0m \u001b[0;36m10\u001b[0m\u001b[0;34m\u001b[0m\u001b[0;34m\u001b[0m\u001b[0m\n\u001b[1;32m      2\u001b[0m \u001b[0mb\u001b[0m \u001b[0;34m=\u001b[0m \u001b[0;34m's'\u001b[0m\u001b[0;34m\u001b[0m\u001b[0;34m\u001b[0m\u001b[0m\n\u001b[0;32m----> 3\u001b[0;31m \u001b[0mc\u001b[0m \u001b[0;34m=\u001b[0m \u001b[0ma\u001b[0m \u001b[0;34m+\u001b[0m \u001b[0mb\u001b[0m\u001b[0;34m\u001b[0m\u001b[0;34m\u001b[0m\u001b[0m\n\u001b[0m",
            "\u001b[0;31mTypeError\u001b[0m: unsupported operand type(s) for +: 'int' and 'str'"
          ]
        }
      ]
    },
    {
      "cell_type": "code",
      "source": [
        "#Zero Division Error\n",
        "a = int(input(\"Enter first number\"))\n",
        "b = int(input(\"Enter second number\"))\n",
        "c = a / b\n",
        "print(c)"
      ],
      "metadata": {
        "colab": {
          "base_uri": "https://localhost:8080/",
          "height": 257
        },
        "id": "hjeKFvqzZA_M",
        "outputId": "42a875f7-7077-4eba-e2ce-c60d10918645"
      },
      "execution_count": 6,
      "outputs": [
        {
          "name": "stdout",
          "output_type": "stream",
          "text": [
            "Enter first number10\n",
            "Enter second number0\n"
          ]
        },
        {
          "output_type": "error",
          "ename": "ZeroDivisionError",
          "evalue": "ignored",
          "traceback": [
            "\u001b[0;31m---------------------------------------------------------------------------\u001b[0m",
            "\u001b[0;31mZeroDivisionError\u001b[0m                         Traceback (most recent call last)",
            "\u001b[0;32m<ipython-input-6-8026ab0c3ed4>\u001b[0m in \u001b[0;36m<module>\u001b[0;34m()\u001b[0m\n\u001b[1;32m      1\u001b[0m \u001b[0ma\u001b[0m \u001b[0;34m=\u001b[0m \u001b[0mint\u001b[0m\u001b[0;34m(\u001b[0m\u001b[0minput\u001b[0m\u001b[0;34m(\u001b[0m\u001b[0;34m\"Enter first number\"\u001b[0m\u001b[0;34m)\u001b[0m\u001b[0;34m)\u001b[0m\u001b[0;34m\u001b[0m\u001b[0;34m\u001b[0m\u001b[0m\n\u001b[1;32m      2\u001b[0m \u001b[0mb\u001b[0m \u001b[0;34m=\u001b[0m \u001b[0mint\u001b[0m\u001b[0;34m(\u001b[0m\u001b[0minput\u001b[0m\u001b[0;34m(\u001b[0m\u001b[0;34m\"Enter second number\"\u001b[0m\u001b[0;34m)\u001b[0m\u001b[0;34m)\u001b[0m\u001b[0;34m\u001b[0m\u001b[0;34m\u001b[0m\u001b[0m\n\u001b[0;32m----> 3\u001b[0;31m \u001b[0mc\u001b[0m \u001b[0;34m=\u001b[0m \u001b[0ma\u001b[0m \u001b[0;34m/\u001b[0m \u001b[0mb\u001b[0m\u001b[0;34m\u001b[0m\u001b[0;34m\u001b[0m\u001b[0m\n\u001b[0m\u001b[1;32m      4\u001b[0m \u001b[0mprint\u001b[0m\u001b[0;34m(\u001b[0m\u001b[0mc\u001b[0m\u001b[0;34m)\u001b[0m\u001b[0;34m\u001b[0m\u001b[0;34m\u001b[0m\u001b[0m\n",
            "\u001b[0;31mZeroDivisionError\u001b[0m: division by zero"
          ]
        }
      ]
    },
    {
      "cell_type": "markdown",
      "source": [
        "If we don't handle Exceptions, then--->\n",
        "1. My further code execution will stop. This might hamper my project\n",
        "2. This is not user friendly "
      ],
      "metadata": {
        "id": "A6R7qQT9cIrt"
      }
    },
    {
      "cell_type": "code",
      "source": [
        "#Importance of Exception Handling: Even if b is 0, then atleast d should be printed if not c. \n",
        "#So, we need to handle Exceptions so that in a big project, it does not hamper the entire project\n",
        "\n",
        "a = int(input(\"Enter first number\"))\n",
        "b = int(input(\"Enter second number\"))\n",
        "c = a / b\n",
        "print(c)\n",
        "d = a * b\n",
        "print(d)"
      ],
      "metadata": {
        "colab": {
          "base_uri": "https://localhost:8080/",
          "height": 275
        },
        "id": "RpijBHlqao-j",
        "outputId": "b1f76a70-cc12-4dee-dc84-4049dd0f9e94"
      },
      "execution_count": 7,
      "outputs": [
        {
          "name": "stdout",
          "output_type": "stream",
          "text": [
            "Enter first number10\n",
            "Enter second number0\n"
          ]
        },
        {
          "output_type": "error",
          "ename": "ZeroDivisionError",
          "evalue": "ignored",
          "traceback": [
            "\u001b[0;31m---------------------------------------------------------------------------\u001b[0m",
            "\u001b[0;31mZeroDivisionError\u001b[0m                         Traceback (most recent call last)",
            "\u001b[0;32m<ipython-input-7-7218640ad574>\u001b[0m in \u001b[0;36m<module>\u001b[0;34m()\u001b[0m\n\u001b[1;32m      1\u001b[0m \u001b[0ma\u001b[0m \u001b[0;34m=\u001b[0m \u001b[0mint\u001b[0m\u001b[0;34m(\u001b[0m\u001b[0minput\u001b[0m\u001b[0;34m(\u001b[0m\u001b[0;34m\"Enter first number\"\u001b[0m\u001b[0;34m)\u001b[0m\u001b[0;34m)\u001b[0m\u001b[0;34m\u001b[0m\u001b[0;34m\u001b[0m\u001b[0m\n\u001b[1;32m      2\u001b[0m \u001b[0mb\u001b[0m \u001b[0;34m=\u001b[0m \u001b[0mint\u001b[0m\u001b[0;34m(\u001b[0m\u001b[0minput\u001b[0m\u001b[0;34m(\u001b[0m\u001b[0;34m\"Enter second number\"\u001b[0m\u001b[0;34m)\u001b[0m\u001b[0;34m)\u001b[0m\u001b[0;34m\u001b[0m\u001b[0;34m\u001b[0m\u001b[0m\n\u001b[0;32m----> 3\u001b[0;31m \u001b[0mc\u001b[0m \u001b[0;34m=\u001b[0m \u001b[0ma\u001b[0m \u001b[0;34m/\u001b[0m \u001b[0mb\u001b[0m\u001b[0;34m\u001b[0m\u001b[0;34m\u001b[0m\u001b[0m\n\u001b[0m\u001b[1;32m      4\u001b[0m \u001b[0mprint\u001b[0m\u001b[0;34m(\u001b[0m\u001b[0mc\u001b[0m\u001b[0;34m)\u001b[0m\u001b[0;34m\u001b[0m\u001b[0;34m\u001b[0m\u001b[0m\n\u001b[1;32m      5\u001b[0m \u001b[0md\u001b[0m \u001b[0;34m=\u001b[0m \u001b[0ma\u001b[0m \u001b[0;34m*\u001b[0m \u001b[0mb\u001b[0m\u001b[0;34m\u001b[0m\u001b[0;34m\u001b[0m\u001b[0m\n",
            "\u001b[0;31mZeroDivisionError\u001b[0m: division by zero"
          ]
        }
      ]
    },
    {
      "cell_type": "markdown",
      "source": [
        "Keywords used to handle Exceptions: \n",
        "\n",
        "Try\n",
        "\n",
        "Else\n",
        "\n",
        "Except\n",
        "\n",
        "Raise\n",
        "\n",
        "Finally"
      ],
      "metadata": {
        "id": "sIcUIjsLcyR2"
      }
    },
    {
      "cell_type": "code",
      "source": [
        "#Zero Division Exception Handling\n",
        "a = int(input(\"Enter first number\"))\n",
        "b = int(input(\"Enter second number\"))\n",
        "try:\n",
        "  c = a / b\n",
        "  print(c)\n",
        "except:\n",
        "  print(\"b should not be 0\")"
      ],
      "metadata": {
        "colab": {
          "base_uri": "https://localhost:8080/"
        },
        "id": "6f6K651_cyID",
        "outputId": "7bdd0cc7-be22-4ba4-d052-ad8b401873b9"
      },
      "execution_count": 8,
      "outputs": [
        {
          "output_type": "stream",
          "name": "stdout",
          "text": [
            "Enter first number10\n",
            "Enter second number0\n",
            "b should not be 0\n"
          ]
        }
      ]
    },
    {
      "cell_type": "code",
      "source": [
        "#Zero Division Exception Handling\n",
        "a = int(input(\"Enter first number\"))\n",
        "b = int(input(\"Enter second number\"))\n",
        "try:\n",
        "  c = a / b\n",
        "  print(c)\n",
        "except ZeroDivisionError: #Writing class name is a good practice. We should follow this approach\n",
        "  print(\"b should not be 0\")"
      ],
      "metadata": {
        "colab": {
          "base_uri": "https://localhost:8080/"
        },
        "id": "DyeDBxrobg_R",
        "outputId": "9cf1f377-0f73-439f-bf97-6484a8bf6d1e"
      },
      "execution_count": 10,
      "outputs": [
        {
          "output_type": "stream",
          "name": "stdout",
          "text": [
            "Enter first number20\n",
            "Enter second number0\n",
            "b should not be 0\n"
          ]
        }
      ]
    },
    {
      "cell_type": "code",
      "source": [
        "#Unable to catch because its a compile error and not a runtime error\n",
        "a = int(input(\"Enter first number\"))\n",
        "b = int(input(\"Enter second number\"))\n",
        "try:\n",
        "  c = a / b\n",
        "  print(c\n",
        "except:\n",
        "  print(\"Wrong Syntax\")\n",
        "\n",
        "d = a + b"
      ],
      "metadata": {
        "colab": {
          "base_uri": "https://localhost:8080/",
          "height": 133
        },
        "id": "FEG-LH2Kgv-Q",
        "outputId": "a1c15663-d044-4842-dc6f-5efd12a4f32e"
      },
      "execution_count": 11,
      "outputs": [
        {
          "output_type": "error",
          "ename": "SyntaxError",
          "evalue": "ignored",
          "traceback": [
            "\u001b[0;36m  File \u001b[0;32m\"<ipython-input-11-84a2ec2bf089>\"\u001b[0;36m, line \u001b[0;32m7\u001b[0m\n\u001b[0;31m    except:\u001b[0m\n\u001b[0m         ^\u001b[0m\n\u001b[0;31mSyntaxError\u001b[0m\u001b[0;31m:\u001b[0m invalid syntax\n"
          ]
        }
      ]
    },
    {
      "cell_type": "markdown",
      "source": [
        "Write a program to ask the user to input two integers and print their division. Make sure program behaves the following:\n",
        "\n",
        "1) If the user enters a non integer value then ask him to enter only integers\n",
        "\n",
        "2) If denominator is 0, then ask him to input non-zero denominator\n",
        "\n",
        "Repeat the process until the correct input is given. Only if the inputs are correct, then display their division and terminate the code"
      ],
      "metadata": {
        "id": "2cBNSetfi-b2"
      }
    },
    {
      "cell_type": "code",
      "source": [
        "while True:\n",
        "  \n",
        "  try:\n",
        "    a = int(input(\"Enter first number\"))\n",
        "    b = int(input(\"Enter second number\"))\n",
        "    c = a/b\n",
        "    print(c)\n",
        "    break\n",
        "  except ZeroDivisionError:\n",
        "    print(\"Input non-zero denominator\")\n",
        "\n",
        "  except ValueError:\n",
        "    print(\"String not allowed\")\n",
        "    \n",
        "    "
      ],
      "metadata": {
        "colab": {
          "base_uri": "https://localhost:8080/"
        },
        "id": "K0CSRHswi9ns",
        "outputId": "078531f6-0e51-4846-ed94-50c052e0469d"
      },
      "execution_count": 33,
      "outputs": [
        {
          "output_type": "stream",
          "name": "stdout",
          "text": [
            "Enter first number1\n",
            "Enter second number3\n",
            "0.3333333333333333\n"
          ]
        }
      ]
    },
    {
      "cell_type": "code",
      "source": [
        "#Another way of writing with one except block\n",
        "while True:\n",
        "  \n",
        "  try:\n",
        "    a = int(input(\"Enter first number\"))\n",
        "    b = int(input(\"Enter second number\"))\n",
        "    c = a/b\n",
        "    print(c)\n",
        "    break\n",
        "  except (ZeroDivisionError,ValueError):\n",
        "    print(\"Input non-zero denominator and strings not allowed\")\n",
        "\n",
        "\n",
        "    "
      ],
      "metadata": {
        "colab": {
          "base_uri": "https://localhost:8080/"
        },
        "id": "8_Vf_Daqt-YM",
        "outputId": "174f6a19-9292-480a-c0ac-dded279891d5"
      },
      "execution_count": 35,
      "outputs": [
        {
          "output_type": "stream",
          "name": "stdout",
          "text": [
            "Enter first number10\n",
            "Enter second numbera\n",
            "Input non-zero denominator and strings not allowed\n",
            "Enter first number10\n",
            "Enter second number5\n",
            "2.0\n"
          ]
        }
      ]
    },
    {
      "cell_type": "code",
      "source": [
        "while True:\n",
        "  \n",
        "  try:\n",
        "    a = int(input(\"Enter first number\"))\n",
        "    b = int(input(\"Enter second number\"))\n",
        "    c = a/b\n",
        "    print(\"div:\", c)\n",
        "    break\n",
        "  except ZeroDivisionError as e:\n",
        "    print(e)\n",
        "\n"
      ],
      "metadata": {
        "colab": {
          "base_uri": "https://localhost:8080/"
        },
        "id": "oz6CZtVbuHt-",
        "outputId": "e34370fe-b20b-4073-dea0-81398bcb0a1f"
      },
      "execution_count": 37,
      "outputs": [
        {
          "output_type": "stream",
          "name": "stdout",
          "text": [
            "Enter first number10\n",
            "Enter second number0\n",
            "division by zero\n",
            "Enter first number10\n",
            "Enter second number2\n",
            "div: 5.0\n"
          ]
        }
      ]
    },
    {
      "cell_type": "code",
      "source": [
        "import sys\n",
        "while True:\n",
        "  \n",
        "  try:\n",
        "    a = int(input(\"Enter first number\"))\n",
        "    b = int(input(\"Enter second number\"))\n",
        "    c = a/b\n",
        "    print(\"div:\", c)\n",
        "    break\n",
        "  except:\n",
        "    print(sys.exc_info()) "
      ],
      "metadata": {
        "colab": {
          "base_uri": "https://localhost:8080/"
        },
        "id": "22kPyoOwvG6T",
        "outputId": "e32deefb-78e4-4358-fdeb-357f688c1ed2"
      },
      "execution_count": 38,
      "outputs": [
        {
          "output_type": "stream",
          "name": "stdout",
          "text": [
            "Enter first number10\n",
            "Enter second number0\n",
            "(<class 'ZeroDivisionError'>, ZeroDivisionError('division by zero'), <traceback object at 0x7f2b6bce8c30>)\n",
            "Enter first number\n",
            "(<class 'ValueError'>, ValueError(\"invalid literal for int() with base 10: ''\"), <traceback object at 0x7f2b6bd8d050>)\n",
            "Enter first number\n",
            "(<class 'ValueError'>, ValueError(\"invalid literal for int() with base 10: ''\"), <traceback object at 0x7f2b6bcd01e0>)\n",
            "Enter first number10\n",
            "Enter second number3\n",
            "div: 3.3333333333333335\n"
          ]
        }
      ]
    },
    {
      "cell_type": "code",
      "source": [
        "import sys\n",
        "while True:\n",
        "  \n",
        "  try:\n",
        "    a = int(input(\"Enter first number\"))\n",
        "    b = int(input(\"Enter second number\"))\n",
        "    c = a/b\n",
        "    print(\"div:\", c)\n",
        "    break\n",
        "  except:\n",
        "    a,b,c = sys.exc_info()\n",
        "    print('Exception Class', a)\n",
        "    print('Exception Message', b)\n",
        "    print('Line Number', c.tb_lineno)"
      ],
      "metadata": {
        "colab": {
          "base_uri": "https://localhost:8080/"
        },
        "id": "1ZsZgYrKv2jC",
        "outputId": "ed91ad6d-11a5-4b1f-fce4-9c09325047c1"
      },
      "execution_count": 39,
      "outputs": [
        {
          "output_type": "stream",
          "name": "stdout",
          "text": [
            "Enter first number10\n",
            "Enter second number0\n",
            "Exception Class <class 'ZeroDivisionError'>\n",
            "Exception Message division by zero\n",
            "Line Number 7\n",
            "Enter first number1\n",
            "Enter second number3\n",
            "div: 0.3333333333333333\n"
          ]
        }
      ]
    },
    {
      "cell_type": "code",
      "source": [
        "import traceback  #Helps us to debug our project (Entire description of Exception)\n",
        "while True:\n",
        "  \n",
        "  try:\n",
        "    a = int(input(\"Enter first number\"))\n",
        "    b = int(input(\"Enter second number\"))\n",
        "    c = a/b\n",
        "    print(\"div:\", c)\n",
        "    break\n",
        "  except:\n",
        "    print(traceback.format_exc())"
      ],
      "metadata": {
        "colab": {
          "base_uri": "https://localhost:8080/"
        },
        "id": "DQa_gHmmymcS",
        "outputId": "64839ef6-b2c8-4b0b-d044-42aead8a5d0c"
      },
      "execution_count": 40,
      "outputs": [
        {
          "output_type": "stream",
          "name": "stdout",
          "text": [
            "Enter first number19\n",
            "Enter second number0\n",
            "Traceback (most recent call last):\n",
            "  File \"<ipython-input-40-4b6aac3158f9>\", line 7, in <module>\n",
            "    c = a/b\n",
            "ZeroDivisionError: division by zero\n",
            "\n",
            "Enter first number12\n",
            "Enter second number3\n",
            "div: 4.0\n"
          ]
        }
      ]
    },
    {
      "cell_type": "code",
      "source": [
        "#Raise Exception: Its Custom Exception LIne\n",
        "while True:\n",
        "  try:\n",
        "    a = int(input(\"Enter first number:\"))\n",
        "    b = int(input(\"Enter second number:\"))\n",
        "    if a < 0 or b < 0: raise Exception(\"Negative Number not allowed\")  #Raising custom Exception using keyword 'raise': Similar to 'throw' in Java\n",
        "    c = a / b\n",
        "    print(\"div is\", c)\n",
        "    break\n",
        "  except ValueError:\n",
        "    print(\"Please enter int only\")\n",
        "  except ZeroDivisionError:\n",
        "    print(\"Please enter non-zero denominator\")\n",
        "  except Exception as e:\n",
        "    print(e)\n"
      ],
      "metadata": {
        "colab": {
          "base_uri": "https://localhost:8080/"
        },
        "id": "XwMvFXvazrnS",
        "outputId": "a6660bfb-7fc1-4c31-f18b-5e246b83f38a"
      },
      "execution_count": 45,
      "outputs": [
        {
          "output_type": "stream",
          "name": "stdout",
          "text": [
            "Enter first number:10\n",
            "Enter second number:0\n",
            "Please enter non-zero denominator\n",
            "Enter first number:10\n",
            "Enter second number:a\n",
            "Please enter int only\n",
            "Enter first number:10\n",
            "Enter second number:-10\n",
            "Negative Number not allowed\n",
            "Enter first number:10\n",
            "Enter second number:2\n",
            "div is 5.0\n"
          ]
        }
      ]
    },
    {
      "cell_type": "code",
      "source": [
        "#Custom Exception\n",
        "class NegativeNumberException(Exception):  #Inheriting Class Exception\n",
        "  pass\n",
        "\n",
        "while True:\n",
        "  try:\n",
        "    a = int(input(\"Enter first number:\"))\n",
        "    b = int(input(\"Enter second number:\"))\n",
        "    if a < 0 or b < 0: raise NegativeNumberException(\"Negative Number not allowed\")  #Custom Exception: NegativeNumberException class has to be defined for this code to run\n",
        "    c = a / b\n",
        "    print(\"div is\", c)\n",
        "    break\n",
        "  except ValueError:\n",
        "    print(\"Please enter int only\")\n",
        "  except ZeroDivisionError:\n",
        "    print(\"Please enter non-zero denominator\")\n",
        "  except NegativeNumberException as e:\n",
        "    print(e)\n"
      ],
      "metadata": {
        "colab": {
          "base_uri": "https://localhost:8080/"
        },
        "id": "qk6Hm1HOz6xW",
        "outputId": "0698c4c2-7b0d-48a3-ae3c-733a4ae4ba1c"
      },
      "execution_count": 47,
      "outputs": [
        {
          "output_type": "stream",
          "name": "stdout",
          "text": [
            "Enter first number:10\n",
            "Enter second number:-10\n",
            "Negative Number not allowed\n",
            "Enter first number:10\n",
            "Enter second number:3\n",
            "div is 3.3333333333333335\n"
          ]
        }
      ]
    },
    {
      "cell_type": "code",
      "source": [
        "#Concept of Finally Block: Python will always run the instruction written in 'finally' block\n",
        "try:\n",
        "  a = int(input(\"Enter first number:\"))\n",
        "  b = int(input(\"Enter second number\"))\n",
        "  c=a/b\n",
        "  print(c)\n",
        "except:\n",
        "  print(\"Dont use zero in Denominator\")\n",
        "\n",
        "finally:  #Will always run: Suppose we have created one database. We forgot to close the connection. Then this would lead to loss. \n",
        "          #So, better to put crucial codes in finally block. Even if error occurs, finally block will be printed\n",
        "  print(\"hello\")\n",
        "  print(\"python\")"
      ],
      "metadata": {
        "colab": {
          "base_uri": "https://localhost:8080/"
        },
        "id": "cIgyCOGS3bxO",
        "outputId": "bc8a7ee8-fb52-4c62-86d4-dfe84f66264c"
      },
      "execution_count": 51,
      "outputs": [
        {
          "output_type": "stream",
          "name": "stdout",
          "text": [
            "Enter first number:10\n",
            "Enter second number0\n",
            "Dont use zero in Denominator\n",
            "hello\n",
            "python\n"
          ]
        }
      ]
    },
    {
      "cell_type": "code",
      "source": [
        "#Concept of else \n",
        "try:\n",
        "  a = int(input(\"Enter first number:\"))\n",
        "  b = int(input(\"Enter second number\"))\n",
        "  c=a/b\n",
        "  print(c)\n",
        "except:\n",
        "  print(\"Dont use zero in Denominator\")\n",
        "\n",
        "else:  #If we get error then this will not be printed unlike finally\n",
        "  print(\"python rocks\")"
      ],
      "metadata": {
        "colab": {
          "base_uri": "https://localhost:8080/"
        },
        "id": "Du2QcHke53p_",
        "outputId": "a318fceb-4c6f-4d60-c97b-d16c7a032603"
      },
      "execution_count": 49,
      "outputs": [
        {
          "output_type": "stream",
          "name": "stdout",
          "text": [
            "Enter first number:10\n",
            "Enter second number20\n",
            "0.5\n",
            "python rocks\n"
          ]
        }
      ]
    }
  ]
}
