{
  "nbformat": 4,
  "nbformat_minor": 0,
  "metadata": {
    "colab": {
      "name": "Class 16_OOPS Contd.ipynb",
      "provenance": [],
      "collapsed_sections": []
    },
    "kernelspec": {
      "name": "python3",
      "display_name": "Python 3"
    },
    "language_info": {
      "name": "python"
    }
  },
  "cells": [
    {
      "cell_type": "markdown",
      "source": [
        "**CLASS 16_OOPS CONTD..**"
      ],
      "metadata": {
        "id": "7ltdrGwUrAPY"
      }
    },
    {
      "cell_type": "markdown",
      "source": [
        "By default, Variables in class are Public variables which means it can be accessed anywhere."
      ],
      "metadata": {
        "id": "Zp2zzYy3fM9I"
      }
    },
    {
      "cell_type": "code",
      "execution_count": null,
      "metadata": {
        "id": "D-KuWODseVkr"
      },
      "outputs": [],
      "source": [
        "class Person:\n",
        "    def __init__(self,name,surname,yob) :\n",
        "        self.name1 = name\n",
        "        self.surname1 = surname\n",
        "        self.yob1 = yob\n",
        "\n",
        "gaurav = Person(\"Gaurav\",\"Ratan\",1994)\n",
        "print(gaurav.surname1) #I will be able to access anywhere because it is public variable"
      ]
    },
    {
      "cell_type": "markdown",
      "source": [
        "Marking with underscore means Protected variable. In other languages such as Java, C++, they have reserved keywords PUBLIC, PROTECTED or PRIVATE. In Python, these keywords don't exist.\n",
        "\n",
        "Marking with double underscore means Private variable.\n",
        "\n"
      ],
      "metadata": {
        "id": "iFAsB_TcgDxh"
      }
    },
    {
      "cell_type": "code",
      "source": [
        "class Person:\n",
        "    def __init__(self,name,surname,yob) :\n",
        "        self._name1 = name  #Protected Variable\n",
        "        self.__surname1 = surname\n",
        "        self.yob1 = yob\n",
        "\n",
        "gaurav = Person(\"Gaurav\",\"Ratan\",1994)\n",
        "print(gaurav._name1) #Will run as it is protected and not private. We need to use underscore\n",
        "print(gaurav.__surname1) #Will give error as surname1 is private variable\n",
        "\n",
        "#We can access private variable by using _ClassName\n",
        "print(gaurav._Person__surname1) #Will not give error\n",
        "\n",
        "\n"
      ],
      "metadata": {
        "id": "GgORlE2TgIYr"
      },
      "execution_count": null,
      "outputs": []
    },
    {
      "cell_type": "markdown",
      "source": [
        "Concept of Inheritance: I have one class (Parent Class) which has multiple methods. If I want to reutilize the variables from that class, we can simply inherit the class. The child class will have all the method and variables of the parent class. \n"
      ],
      "metadata": {
        "id": "TTxhjfbqjEkm"
      }
    },
    {
      "cell_type": "code",
      "source": [
        "class Person:\n",
        "    _name = \"gaurav\"\n",
        "    __surname = \"ratan\"\n",
        "    yob = 1994\n",
        "\n",
        "obj = Person()\n",
        "print(obj) #Will give Hexadecimal Code\n",
        "\n",
        "#Concept of Inheritance\n",
        "class employee(Person):\n",
        "    pass\n",
        "\n",
        "obj1 = employee()\n",
        "print(obj1)\n",
        "print(obj1.yob) #Because we have inherited the class Person and yob is a public variable\n",
        "print(obj1._name)\n",
        "print(obj1._Person__surname)\n",
        "print(obj1._employee__surname) #This will give error (Bcoz system contains dictionary with key and value pair)\n",
        "\n",
        "\n"
      ],
      "metadata": {
        "id": "TCi9qMAUkzNB"
      },
      "execution_count": null,
      "outputs": []
    },
    {
      "cell_type": "code",
      "source": [
        "class Person:\n",
        "    _name = \"gaurav\"\n",
        "    __surname = \"ratan\"\n",
        "    yob = 1994\n",
        "\n",
        "obj = Person()\n",
        "print(obj) #Will give Hexadecimal Code\n",
        "\n",
        "#Concept of Inheritance\n",
        "class employee(Person):\n",
        "    __name = \"Sudhanshu\"\n",
        "    __surname = \"Singh\"\n",
        "    yob = 1991\n",
        "\n",
        "obj1 = employee()\n",
        "print(obj1)\n",
        "print(obj1.yob) #Because we have inherited the class Person and yob is a public variable\n",
        "print(obj1._name)\n",
        "print(obj1._Person__surname) #Will not show 'Singh'\n",
        "print(obj1._employee__surname) #Will show 'Singh' as it is overidden and we are using employee class name\n",
        "\n",
        "\n",
        "\n"
      ],
      "metadata": {
        "id": "dkmRbwOglDDd"
      },
      "execution_count": null,
      "outputs": []
    },
    {
      "cell_type": "code",
      "source": [
        "class Person:\n",
        "    _name = \"gaurav\"\n",
        "    __surname = \"ratan\"\n",
        "    yob = 1994\n",
        "\n",
        "    def _age(self,current_year):  #Protected Function\n",
        "      return current_year - self.yob\n",
        "    \n",
        "    def __age1(self,current_year): #Private Function\n",
        "      return current_year - self.yob\n",
        "\n",
        "class employee(Person):\n",
        "    __name = \"Sudhanshu\"\n",
        "    __surname = \"Singh\"\n",
        "    yob = 1991\n",
        "\n",
        "\n",
        "\n",
        "obj = Person() #Object of Parent Class\n",
        "print(obj._age(2022))\n",
        "print(obj._person.__age1(2022))\n",
        "\n",
        "obj1 = employee()  #Object of Child Class\n",
        "print(obj1._age(2022))\n",
        "print(obj1)\n",
        "print(obj1.yob)\n",
        "print(obj1._name)\n",
        "print(obj1._person__age1(2022)) #Need to give parent name of the class to access private variable\n",
        "print(obj._employee.__surname)\n",
        "\n"
      ],
      "metadata": {
        "id": "8E_BBsaulndW"
      },
      "execution_count": null,
      "outputs": []
    },
    {
      "cell_type": "markdown",
      "source": [
        "How to use code of one file in another file. Suppose there are two files test1.py and test2.py. We want to use code of test1.py into test2.py. In technical language, we say that we want to use module (file) test 1. Folder is called package."
      ],
      "metadata": {
        "id": "1LXdIPqDn_tp"
      }
    },
    {
      "cell_type": "code",
      "source": [
        "import test1 #Write this statement in test2.py file\n",
        "print(test1)  #Will print the output of test1.py file\n",
        "\n",
        "obj3 = test1.person(\"gaurv\",\"ratan\",\"1994\") #This is how we can create object basis module test1.py\n",
        "print(obj3.yob1) #Reusability of code\n",
        "print(obj3._name1) #Accessible  (In other languages like Java, we cant access public/private variable in other module)\n",
        "print(obj3._person1__surname1) #Accessible (In other languages like Java, we cant access public/private in other module)"
      ],
      "metadata": {
        "id": "VNWitmdVoYgv"
      },
      "execution_count": null,
      "outputs": []
    },
    {
      "cell_type": "code",
      "source": [
        "import test2  #If we import test 1 into test 2 and test 2 into test 1, then we will get circular import error\n",
        "obj = test2.employee()\n",
        "obj1 = test1.person()"
      ],
      "metadata": {
        "id": "UsGJHuh4qHP1"
      },
      "execution_count": null,
      "outputs": []
    },
    {
      "cell_type": "code",
      "source": [
        "from test2 import person #We are importing only person class and not other class (employee in our case)\n",
        "from utils.util1 import person2 #Here utils is a folder and util 1 is a file. person2 is a class which we want to import from file util1. \n",
        "#We can click on person 2 to go to the definition of class person 2"
      ],
      "metadata": {
        "id": "tRQ37J5orhz3"
      },
      "execution_count": null,
      "outputs": []
    },
    {
      "cell_type": "code",
      "source": [
        "#Test1.py \n",
        "=============================================\n",
        "from utils.utill1 import person2\n",
        "\n",
        "obj = person2(\"sudhansu \" , \"kumar\" , 345345)\n",
        "print(obj.yob1)\n",
        "\n",
        "class person1 :\n",
        "    def __init__(self , name ,surname , yob):\n",
        "        self._name1 = name\n",
        "        self.__surname1 = surname\n",
        "        self.yob1 = yob\n",
        "\n",
        "sudh = person1(\"sudhanshu\" , \"kumar\" , 1990)\n",
        "print(sudh._name1)\n",
        "print(sudh._person1__surname1)"
      ],
      "metadata": {
        "id": "nC7yoyQjtDl8"
      },
      "execution_count": null,
      "outputs": []
    },
    {
      "cell_type": "code",
      "source": [
        "#utills1.py \n",
        "=============================================\n",
        "class person2:\n",
        "    def __init__(self , name ,surname , yob):\n",
        "        self._name1 = name\n",
        "        self.__surname1 = surname\n",
        "        self.yob1 = yob\n",
        "\n",
        "sudh = person2(\"sudhanshu\" , \"kumar\" , 1990)\n",
        "print(sudh._name1)\n",
        "print(sudh._person2__surname1)"
      ],
      "metadata": {
        "id": "mkUXWGu0tItE"
      },
      "execution_count": null,
      "outputs": []
    },
    {
      "cell_type": "code",
      "source": [
        "#test2.py\n",
        "=============================================\n",
        "import test1\n",
        "print(test1)\n",
        "obj3 = test1.person1(\"sudhanshu\" , \"kumar\" , 1994)\n",
        "print(obj3.yob1)\n",
        "print(obj3._name1)\n",
        "print(obj3._person1__surname1)\n",
        "\n",
        "\n",
        "class person :\n",
        "\n",
        "    _name = \"sudh\"\n",
        "    __surname = \"kumar\"\n",
        "    yob = 1990\n",
        "\n",
        "    def _age(self , current_year ):\n",
        "        return current_year - self.yob\n",
        "    def __age1(self , current_year ):\n",
        "        return current_year - self.yob\n",
        "\n",
        "obj = person()\n",
        "print(obj._age(2022))\n",
        "print(obj._person__age1(2022))\n",
        "\n",
        "class employee(person) :\n",
        "    _name = \"sudhanshu\"\n",
        "    __surname = \"singh\"\n",
        "    yob = 1991\n",
        "\n",
        "obj1 = employee()\n",
        "print(obj1._age(2022))\n",
        "print(obj1._person__age1(2022))\n",
        "print(obj1)\n",
        "print(obj1.yob)\n",
        "print(obj1._name)\n",
        "print(obj1._employee__surname)\n",
        "\n"
      ],
      "metadata": {
        "id": "D3lzG1sktKJ4"
      },
      "execution_count": null,
      "outputs": []
    }
  ]
}
