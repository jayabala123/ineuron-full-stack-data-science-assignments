{
  "nbformat": 4,
  "nbformat_minor": 0,
  "metadata": {
    "colab": {
      "name": "Class 15_OOPS_2nd July 2022.ipynb",
      "provenance": [],
      "collapsed_sections": []
    },
    "kernelspec": {
      "name": "python3",
      "display_name": "Python 3"
    },
    "language_info": {
      "name": "python"
    }
  },
  "cells": [
    {
      "cell_type": "markdown",
      "source": [
        "**OOPS**: Object Oriented Programming (Reusability of Code is the core idea)"
      ],
      "metadata": {
        "id": "Uda7gdtsVwS3"
      }
    },
    {
      "cell_type": "markdown",
      "source": [
        "\n",
        "\n",
        "**Class in Programming**: Virtualization/Classification of real time entity (Eg. Car: We will get idea about it but not exact specification like which type of car). Helps us in modular coding \n",
        "\n",
        "**Why we have class?**->When we are trying to build something, we have many components (reading file, operations in db etc.). To maintain the entire module, we need classes so that a new person can make new changes in a structured format for a particular component. So, in one class we will have file handling operations, in one class we will have database operations etc. This helps in reusability of code and also helps in maintaining the component.\n",
        "\n",
        "**Object in Programming**: Real time entity which exists (Eg. Mercedes Benz S Class car: Exact Model which exists in real time) Instance of Class\n",
        "\n",
        "**Constructor**: Defaul Method by which we can pass values/data to the classes\n",
        "\n",
        "Other Concepts of OOPs: Inheritance, Polymorphism, Overriding, Overloading, Abstraction etc.\n"
      ],
      "metadata": {
        "id": "01tVI4ILTivq"
      }
    },
    {
      "cell_type": "code",
      "source": [
        "class Person:  #Created a Person Class\n",
        "\n",
        "    def __init__(self,name,surname,emailid,year_of_birth): \n",
        "#constructor (Inbuilt function that is used to pass data to the classes). init method is defined in such a way that the first value passed is a pointer pointing to the class. \n",
        "#Instead of 'self', we can name it anything. Hence 'self' is not a reserve keyword. Also it is not necessary to have constructor. \n",
        "#If we dont want to pass any values to the class then we will not have any constructor.\n",
        "        self.name = name \n",
        "        self.surname = surname\n",
        "        self.emailid = emailid\n",
        "        self.year_of_birth = year_of_birth\n",
        "    \n",
        "    def age(self,current_year):\n",
        "      return current_year - self.year_of_birth\n",
        "\n",
        "anuj_var = Person(\"Anuj\",\"Bhandari\",\"anuj@gmail.com\",1994)\n",
        "sudh_var = Person(\"Sudhanshu\",\"Kumar\",\"sudhanshu@gmail.com\",1986)\n",
        "gaurav_var = Person(\"Gaurav\",\"Ratan\",\"gauravratan@gmail.com\",1994)\n",
        "\n",
        "print(anuj_var.name)\n",
        "print(anuj_var.surname)\n",
        "print(anuj_var.emailid)\n",
        "print(anuj_var.name + anuj_var.surname)\n",
        "int(anuj_var.age(2022))\n",
        "print(sudh_var.name)\n",
        "print(sudh_var.surname)\n",
        "print(sudh_var.name + sudh_var.surname)\n",
        "print(sudh_var.emailid)\n",
        "print(gaurav_var.name)\n",
        "print(gaurav_var.surname)\n",
        "print(gaurav_var.name + gaurav_var.surname)\n",
        "print(gaurav_var.emailid)\n",
        "\n",
        "print(type(gaurav_var)) #Class Variable ->Technically called as Object"
      ],
      "metadata": {
        "id": "yx4f1PVtTigk"
      },
      "execution_count": null,
      "outputs": []
    },
    {
      "cell_type": "code",
      "execution_count": null,
      "metadata": {
        "id": "oIwQfxO5Tftz"
      },
      "outputs": [],
      "source": [
        "#We can even override the init method by building our own init method. Latest init method will be given preference\n",
        "    def __init__(self,name,surname): \n",
        "\n",
        "        self.name = name \n",
        "        self.surname = surname\n",
        "        "
      ]
    },
    {
      "cell_type": "code",
      "source": [
        "class Person():  #Without init: Our class will not be looking for variable input unlike last time\n",
        "\n",
        "  def age(self, current_year, year_of_birth):\n",
        "    return current_year - year_of_birth\n",
        "  \n",
        "  def email_id_input(self,email_id):\n",
        "    print(\"Take mail id from a person and print it\",email_id)\n",
        "  \n",
        "  def ask_name(self):\n",
        "    name = input(\"Tell me your name\")\n",
        "    return name\n",
        "  \n",
        "  def ask_dob(self):\n",
        "    dob = input(\"Tell me your date of birth\")\n",
        "    return dob\n",
        "  \n",
        "sudh = Person()\n",
        "gaurav = Person()\n",
        "krish = Person()\n",
        "gargi = Person()\n",
        "\n",
        "print(sudh.email_id_input(\"sudhanshu@ineuron.ai\"))\n",
        "print(sudh.ask_name())\n",
        "print(sudh.ask_dob())"
      ],
      "metadata": {
        "id": "xpCbaHFbkb9Q"
      },
      "execution_count": null,
      "outputs": []
    }
  ]
}
