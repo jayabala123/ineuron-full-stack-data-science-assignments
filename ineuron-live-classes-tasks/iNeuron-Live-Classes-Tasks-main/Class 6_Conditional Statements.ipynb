{
 "cells": [
  {
   "cell_type": "code",
   "execution_count": 1,
   "id": "1b3aade6",
   "metadata": {},
   "outputs": [
    {
     "name": "stdout",
     "output_type": "stream",
     "text": [
      "This is my first condition\n"
     ]
    }
   ],
   "source": [
    "a = 10\n",
    "if a == 10 :\n",
    "    print(\"This is my first condition\")"
   ]
  },
  {
   "cell_type": "code",
   "execution_count": 2,
   "id": "d513b157",
   "metadata": {},
   "outputs": [],
   "source": [
    "a = 10\n",
    "if a == 11 :\n",
    "    print(\"This is my first condition\")"
   ]
  },
  {
   "cell_type": "code",
   "execution_count": 3,
   "id": "9b981609",
   "metadata": {},
   "outputs": [
    {
     "ename": "IndentationError",
     "evalue": "expected an indented block (Temp/ipykernel_59680/4289883787.py, line 2)",
     "output_type": "error",
     "traceback": [
      "\u001b[1;36m  File \u001b[1;32m\"C:\\Users\\kiit\\AppData\\Local\\Temp/ipykernel_59680/4289883787.py\"\u001b[1;36m, line \u001b[1;32m2\u001b[0m\n\u001b[1;33m    if a > 5:\u001b[0m\n\u001b[1;37m             ^\u001b[0m\n\u001b[1;31mIndentationError\u001b[0m\u001b[1;31m:\u001b[0m expected an indented block\n"
     ]
    }
   ],
   "source": [
    "a = 10\n",
    "if a > 5:"
   ]
  },
  {
   "cell_type": "code",
   "execution_count": 4,
   "id": "0394a157",
   "metadata": {},
   "outputs": [],
   "source": [
    "a = 10    #If nothing is required in the body then we can use pass\n",
    "if a > 5:\n",
    "    pass"
   ]
  },
  {
   "cell_type": "code",
   "execution_count": 5,
   "id": "8fb4f7ad",
   "metadata": {},
   "outputs": [
    {
     "name": "stdout",
     "output_type": "stream",
     "text": [
      "My condition is false\n"
     ]
    }
   ],
   "source": [
    "a = 10\n",
    "if a != 11:\n",
    "    print(\"My condition is false\")\n",
    "else :\n",
    "    print(\"My condition is true\")"
   ]
  },
  {
   "cell_type": "code",
   "execution_count": 6,
   "id": "ece9bd23",
   "metadata": {},
   "outputs": [
    {
     "name": "stdout",
     "output_type": "stream",
     "text": [
      "My condition is true\n"
     ]
    }
   ],
   "source": [
    "a = 11\n",
    "if a != 11:\n",
    "    print(\"My condition is false\")\n",
    "else :\n",
    "    print(\"My condition is true\")"
   ]
  },
  {
   "cell_type": "code",
   "execution_count": 7,
   "id": "8f8364dc",
   "metadata": {},
   "outputs": [
    {
     "name": "stdout",
     "output_type": "stream",
     "text": [
      "If all the blocks will fail then do this\n"
     ]
    }
   ],
   "source": [
    "a = 10\n",
    "if a == 12:\n",
    "    print(\"Here we are trying to compare 10 with 12\")\n",
    "elif a == 11:\n",
    "    print(\"We are trying to compare 10 with 11\")\n",
    "else :\n",
    "    print(\"If all the blocks will fail then do this\")\n",
    "    "
   ]
  },
  {
   "cell_type": "code",
   "execution_count": 8,
   "id": "be5ecd9f",
   "metadata": {},
   "outputs": [
    {
     "name": "stdout",
     "output_type": "stream",
     "text": [
      "We are trying to compare 10 with 11\n"
     ]
    }
   ],
   "source": [
    "a = 11\n",
    "if a == 12:\n",
    "    print(\"Here we are trying to compare 10 with 12\")\n",
    "elif a == 11:\n",
    "    print(\"We are trying to compare 10 with 11\")\n",
    "else :\n",
    "    print(\"If all the blocks will fail then do this\")"
   ]
  },
  {
   "cell_type": "code",
   "execution_count": 10,
   "id": "60afd9d4",
   "metadata": {},
   "outputs": [
    {
     "name": "stdout",
     "output_type": "stream",
     "text": [
      "I may be able to buy the jacket\n"
     ]
    }
   ],
   "source": [
    "price = 500\n",
    "\n",
    "if price > 500:\n",
    "    print(\"I wont be able to buy the jacket\")\n",
    "elif price < 500:\n",
    "    print(\" I will be able to buy the jacket\")\n",
    "elif price == 500:\n",
    "    print(\"I may be able to buy the jacket\")\n",
    "else :\n",
    "    print(\"I dont know\")"
   ]
  },
  {
   "cell_type": "code",
   "execution_count": 12,
   "id": "57300e2a",
   "metadata": {},
   "outputs": [
    {
     "data": {
      "text/plain": [
       "True"
      ]
     },
     "execution_count": 12,
     "metadata": {},
     "output_type": "execute_result"
    }
   ],
   "source": [
    "l = [1,2,3,4,5,6]\n",
    "2 in l"
   ]
  },
  {
   "cell_type": "code",
   "execution_count": 14,
   "id": "d95dca4a",
   "metadata": {},
   "outputs": [
    {
     "name": "stdout",
     "output_type": "stream",
     "text": [
      "Try to perform the task\n"
     ]
    }
   ],
   "source": [
    "if 2 in l:\n",
    "    print(\"Try to perform the task\")\n",
    "else:\n",
    "    print(\"Do not perform the task\")"
   ]
  },
  {
   "cell_type": "code",
   "execution_count": 15,
   "id": "812cc761",
   "metadata": {},
   "outputs": [
    {
     "name": "stdout",
     "output_type": "stream",
     "text": [
      "Do not perform the task\n"
     ]
    }
   ],
   "source": [
    "if 60 in l:\n",
    "    print(\"Try to perform the task\")\n",
    "else:\n",
    "    print(\"Do not perform the task\")"
   ]
  },
  {
   "cell_type": "code",
   "execution_count": 17,
   "id": "f938dea7",
   "metadata": {},
   "outputs": [
    {
     "name": "stdout",
     "output_type": "stream",
     "text": [
      "Hi\n",
      "This is a new statement\n"
     ]
    }
   ],
   "source": [
    "if 2 in l:    #Doesnt go to elif block because if is true.\n",
    "    print(\"Hi\")\n",
    "elif 3 in l:\n",
    "    print(\"Bye\")\n",
    "else :\n",
    "    print(\"Guy\")\n",
    "\n",
    "if 4 in l:\n",
    "    print(\"This is a new statement\")"
   ]
  },
  {
   "cell_type": "code",
   "execution_count": 1,
   "id": "4ec56220",
   "metadata": {},
   "outputs": [
    {
     "name": "stdout",
     "output_type": "stream",
     "text": [
      "530\n"
     ]
    }
   ],
   "source": [
    "c  = input()"
   ]
  },
  {
   "cell_type": "code",
   "execution_count": 2,
   "id": "94e6105a",
   "metadata": {},
   "outputs": [
    {
     "data": {
      "text/plain": [
       "str"
      ]
     },
     "execution_count": 2,
     "metadata": {},
     "output_type": "execute_result"
    }
   ],
   "source": [
    "type(c)  #By default it is string"
   ]
  },
  {
   "cell_type": "code",
   "execution_count": 2,
   "id": "c378ad40",
   "metadata": {},
   "outputs": [
    {
     "name": "stdout",
     "output_type": "stream",
     "text": [
      "200\n",
      " I will be able to buy something\n",
      "I will be able to buy a jacket\n"
     ]
    }
   ],
   "source": [
    "d = int(input())\n",
    "if d < 500:\n",
    "    print(\" I will be able to buy something\")\n",
    "    if d < 400:\n",
    "        print(\"I will be able to buy a jacket\")\n",
    "    elif d < 300:\n",
    "        print(\"I will be able to buy a shirt\")\n",
    "    else:\n",
    "        print (\"I wont be able to buy anything\")\n",
    "else:\n",
    "    print(\"I wont be able to buy anything with this price tag\")"
   ]
  },
  {
   "cell_type": "code",
   "execution_count": 7,
   "id": "ace942ff",
   "metadata": {},
   "outputs": [
    {
     "name": "stdout",
     "output_type": "stream",
     "text": [
      "400\n",
      "No Admission in GRE\n",
      "Try to get Admission in TOFEL\n"
     ]
    }
   ],
   "source": [
    "marks = int(input())\n",
    "if marks > 600:\n",
    "    print(\"I will be able to clear GRE\")\n",
    "elif marks < 600:\n",
    "    print (\"No Admission in GRE\")\n",
    "    if marks < 500:\n",
    "        print (\"Try to get Admission in TOFEL\")\n",
    "    elif marks < 400:\n",
    "        print (\"Try something else\")\n",
    "else :\n",
    "    print(\"Hurray Borderline Marks!!\")"
   ]
  },
  {
   "cell_type": "code",
   "execution_count": 8,
   "id": "9a06a2b1",
   "metadata": {},
   "outputs": [
    {
     "name": "stdout",
     "output_type": "stream",
     "text": [
      "Enter a floating point number-3.5\n",
      "Entered Value is a negative number\n"
     ]
    }
   ],
   "source": [
    "val = float(input(\"Enter a floating point number\"))\n",
    "if val >= 0:\n",
    "    if val == 0:\n",
    "        print(\"Entered value is Zero\")\n",
    "    else :\n",
    "        print(\"Entered Value is a positive number\")\n",
    "else :\n",
    "    print(\"Entered Value is a negative number\")"
   ]
  },
  {
   "cell_type": "code",
   "execution_count": 9,
   "id": "1e889e74",
   "metadata": {},
   "outputs": [],
   "source": [
    "a = 10\n",
    "b = 11\n",
    "c = 12\n",
    "d = 13\n",
    "if a == 9 and b == 11 and c == 12 and d == 13 :\n",
    "    print(\"Lets do something\")"
   ]
  },
  {
   "cell_type": "code",
   "execution_count": 11,
   "id": "ed1b0581",
   "metadata": {},
   "outputs": [
    {
     "name": "stdout",
     "output_type": "stream",
     "text": [
      "Lets do something\n"
     ]
    }
   ],
   "source": [
    "a = 10\n",
    "b = 11\n",
    "c = 12\n",
    "d = 13\n",
    "if a == 9 or b == 11 and c == 12 and d == 13 :\n",
    "    print(\"Lets do something\")"
   ]
  },
  {
   "cell_type": "code",
   "execution_count": 10,
   "id": "acf24395",
   "metadata": {},
   "outputs": [
    {
     "name": "stdout",
     "output_type": "stream",
     "text": [
      "This is Gaurav\n"
     ]
    }
   ],
   "source": [
    "a = 'gaurav'\n",
    "if a == 'gaurav' or a == 'Gaurav':\n",
    "    print(\"This is Gaurav\")"
   ]
  },
  {
   "cell_type": "code",
   "execution_count": 12,
   "id": "7273cb71",
   "metadata": {},
   "outputs": [
    {
     "name": "stdout",
     "output_type": "stream",
     "text": [
      "All the values are verified\n",
      "dict_values(['value1', 'value2', 'value3'])\n"
     ]
    }
   ],
   "source": [
    "d = {'key1' : 'value1', \"key2\" : \"value2\", \"key3\" : \"value3\"}\n",
    "if d['key1'] == 'value1' and d['key2'] == 'value2' and d['key3'] == 'value3':\n",
    "    print(\"All the values are verified\")\n",
    "    print(d.values())"
   ]
  },
  {
   "cell_type": "code",
   "execution_count": 14,
   "id": "a8a6cb5a",
   "metadata": {},
   "outputs": [
    {
     "name": "stdout",
     "output_type": "stream",
     "text": [
      "1\n",
      "2\n",
      "3\n",
      "4\n",
      "5\n",
      "gaurav\n",
      "234.45\n"
     ]
    }
   ],
   "source": [
    "#Extracting elements of List\n",
    "l = [1,2,3,4,5,\"gaurav\",234.45]\n",
    "for i in l :\n",
    "     print(i)"
   ]
  },
  {
   "cell_type": "code",
   "execution_count": 15,
   "id": "ac300d8f",
   "metadata": {},
   "outputs": [
    {
     "name": "stdout",
     "output_type": "stream",
     "text": [
      "2\n",
      "3\n",
      "4\n",
      "5\n",
      "6\n"
     ]
    },
    {
     "ename": "TypeError",
     "evalue": "can only concatenate str (not \"int\") to str",
     "output_type": "error",
     "traceback": [
      "\u001b[1;31m---------------------------------------------------------------------------\u001b[0m",
      "\u001b[1;31mTypeError\u001b[0m                                 Traceback (most recent call last)",
      "\u001b[1;32m~\\AppData\\Local\\Temp/ipykernel_82284/2433449105.py\u001b[0m in \u001b[0;36m<module>\u001b[1;34m\u001b[0m\n\u001b[0;32m      1\u001b[0m \u001b[0ml\u001b[0m \u001b[1;33m=\u001b[0m \u001b[1;33m[\u001b[0m\u001b[1;36m1\u001b[0m\u001b[1;33m,\u001b[0m\u001b[1;36m2\u001b[0m\u001b[1;33m,\u001b[0m\u001b[1;36m3\u001b[0m\u001b[1;33m,\u001b[0m\u001b[1;36m4\u001b[0m\u001b[1;33m,\u001b[0m\u001b[1;36m5\u001b[0m\u001b[1;33m,\u001b[0m\u001b[1;34m\"gaurav\"\u001b[0m\u001b[1;33m,\u001b[0m\u001b[1;36m234.45\u001b[0m\u001b[1;33m]\u001b[0m\u001b[1;33m\u001b[0m\u001b[1;33m\u001b[0m\u001b[0m\n\u001b[0;32m      2\u001b[0m \u001b[1;32mfor\u001b[0m \u001b[0mi\u001b[0m \u001b[1;32min\u001b[0m \u001b[0ml\u001b[0m \u001b[1;33m:\u001b[0m\u001b[1;33m\u001b[0m\u001b[1;33m\u001b[0m\u001b[0m\n\u001b[1;32m----> 3\u001b[1;33m      \u001b[0mprint\u001b[0m\u001b[1;33m(\u001b[0m\u001b[0mi\u001b[0m\u001b[1;33m+\u001b[0m\u001b[1;36m1\u001b[0m\u001b[1;33m)\u001b[0m\u001b[1;33m\u001b[0m\u001b[1;33m\u001b[0m\u001b[0m\n\u001b[0m",
      "\u001b[1;31mTypeError\u001b[0m: can only concatenate str (not \"int\") to str"
     ]
    }
   ],
   "source": [
    "l = [1,2,3,4,5,\"gaurav\",234.45]\n",
    "for i in l :\n",
    "     print(i+1)"
   ]
  },
  {
   "cell_type": "code",
   "execution_count": 21,
   "id": "a7eedf99",
   "metadata": {},
   "outputs": [
    {
     "name": "stdout",
     "output_type": "stream",
     "text": [
      "2\n",
      "3\n",
      "4\n",
      "5\n",
      "6\n",
      "gaurav1\n",
      "235.45\n"
     ]
    }
   ],
   "source": [
    "l = [1,2,3,4,5,\"gaurav\",234.45]\n",
    "for i in l :\n",
    "     if type(i) == int or type(i) == float:\n",
    "        print(i+1)\n",
    "     elif type(i) == str:\n",
    "        print (i + str(1))"
   ]
  },
  {
   "cell_type": "code",
   "execution_count": null,
   "id": "a0eda570",
   "metadata": {},
   "outputs": [],
   "source": []
  }
 ],
 "metadata": {
  "kernelspec": {
   "display_name": "Python 3 (ipykernel)",
   "language": "python",
   "name": "python3"
  },
  "language_info": {
   "codemirror_mode": {
    "name": "ipython",
    "version": 3
   },
   "file_extension": ".py",
   "mimetype": "text/x-python",
   "name": "python",
   "nbconvert_exporter": "python",
   "pygments_lexer": "ipython3",
   "version": "3.9.7"
  }
 },
 "nbformat": 4,
 "nbformat_minor": 5
}
