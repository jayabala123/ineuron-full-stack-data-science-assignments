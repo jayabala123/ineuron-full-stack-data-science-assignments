{
  "nbformat": 4,
  "nbformat_minor": 0,
  "metadata": {
    "colab": {
      "name": "Class4_HW.ipynb",
      "provenance": [],
      "collapsed_sections": []
    },
    "kernelspec": {
      "name": "python3",
      "display_name": "Python 3"
    },
    "language_info": {
      "name": "python"
    }
  },
  "cells": [
    {
      "cell_type": "markdown",
      "source": [
        "**SUBMITTED BY: GAURAV RATAN**"
      ],
      "metadata": {
        "id": "HmjSy6ODtWR8"
      }
    },
    {
      "cell_type": "markdown",
      "source": [
        "**CLASS 4 HOMEWORK**\n",
        "s = \"\"this is My First Python programming class and i am learNING python string and its function\"\"\n",
        "1. Try to extract data from index one to index 300 with a jump 0f 3\n",
        "2. Try to reverse a string without using reverse function\n",
        "3. Try to split a string after conversion of entire string in uppercase\n",
        "4. Try to convert whole string into lower case\n",
        "5. Try to capitalize whole string\n",
        "6. Write difference between isalnum() and isalpha()\n",
        "7. Try to give an example of exapand tab\n",
        "8. Give an example of strip, lstrip and rstrip\n",
        "9. Replace a string character by another character by taking your own example\n",
        "10. Try to give a definition of string center function with an example\n",
        "11. Write your definition of compiler and interpretor without copy paste from internet\n",
        "12. Python is an interpreted or compile language. Give a clear answer  with your understanding\n",
        "13. Try to write a use case of python with your understanding"
      ],
      "metadata": {
        "id": "h5KK4Wjeltcc"
      }
    },
    {
      "cell_type": "markdown",
      "source": [
        "1. Try to extract data from index one to index 300 with a jump 0f 3"
      ],
      "metadata": {
        "id": "E2YD_g1_l5dt"
      }
    },
    {
      "cell_type": "code",
      "source": [
        "S = \"this is My First Python programming class and i am learNING python string and its function\"\n",
        "P = S[1:300:3]\n",
        "P"
      ],
      "metadata": {
        "colab": {
          "base_uri": "https://localhost:8080/",
          "height": 35
        },
        "id": "HiLbZiGQl8Qb",
        "outputId": "3f15aa7f-35fe-41c7-ab1a-8db496eb1da2"
      },
      "execution_count": 4,
      "outputs": [
        {
          "output_type": "execute_result",
          "data": {
            "text/plain": [
              "'h   r tnrrmglsnimeNGyosi dtfco'"
            ],
            "application/vnd.google.colaboratory.intrinsic+json": {
              "type": "string"
            }
          },
          "metadata": {},
          "execution_count": 4
        }
      ]
    },
    {
      "cell_type": "markdown",
      "source": [
        "2. Try to reverse a string without using reverse function"
      ],
      "metadata": {
        "id": "u4sPY1E-mRUy"
      }
    },
    {
      "cell_type": "code",
      "source": [
        "S[::-1] "
      ],
      "metadata": {
        "colab": {
          "base_uri": "https://localhost:8080/",
          "height": 35
        },
        "id": "619eH0ZUmQLF",
        "outputId": "b6e4079e-0018-4c50-8c13-837238da3663"
      },
      "execution_count": 6,
      "outputs": [
        {
          "output_type": "execute_result",
          "data": {
            "text/plain": [
              "'noitcnuf sti dna gnirts nohtyp GNINrael ma i dna ssalc gnimmargorp nohtyP tsriF yM si siht'"
            ],
            "application/vnd.google.colaboratory.intrinsic+json": {
              "type": "string"
            }
          },
          "metadata": {},
          "execution_count": 6
        }
      ]
    },
    {
      "cell_type": "markdown",
      "source": [
        "3. Try to split a string after conversion of entire string in uppercase"
      ],
      "metadata": {
        "id": "705Lotygmf-i"
      }
    },
    {
      "cell_type": "code",
      "source": [
        "S1 = S.upper() \n",
        "S1.split(' ')"
      ],
      "metadata": {
        "colab": {
          "base_uri": "https://localhost:8080/"
        },
        "id": "nG4-Qc2fmiwG",
        "outputId": "3668950c-4fca-4540-baf1-ef2a01a77150"
      },
      "execution_count": 8,
      "outputs": [
        {
          "output_type": "execute_result",
          "data": {
            "text/plain": [
              "['THIS',\n",
              " 'IS',\n",
              " 'MY',\n",
              " 'FIRST',\n",
              " 'PYTHON',\n",
              " 'PROGRAMMING',\n",
              " 'CLASS',\n",
              " 'AND',\n",
              " 'I',\n",
              " 'AM',\n",
              " 'LEARNING',\n",
              " 'PYTHON',\n",
              " 'STRING',\n",
              " 'AND',\n",
              " 'ITS',\n",
              " 'FUNCTION']"
            ]
          },
          "metadata": {},
          "execution_count": 8
        }
      ]
    },
    {
      "cell_type": "markdown",
      "source": [
        "4. Try to convert whole string into lower case"
      ],
      "metadata": {
        "id": "rP38V6vvnETT"
      }
    },
    {
      "cell_type": "code",
      "source": [
        "S.lower()"
      ],
      "metadata": {
        "colab": {
          "base_uri": "https://localhost:8080/",
          "height": 35
        },
        "id": "Qm376s_HmsU0",
        "outputId": "1cdbc309-5264-4c0b-bfe8-75d22670ce2a"
      },
      "execution_count": 9,
      "outputs": [
        {
          "output_type": "execute_result",
          "data": {
            "text/plain": [
              "'this is my first python programming class and i am learning python string and its function'"
            ],
            "application/vnd.google.colaboratory.intrinsic+json": {
              "type": "string"
            }
          },
          "metadata": {},
          "execution_count": 9
        }
      ]
    },
    {
      "cell_type": "markdown",
      "source": [
        "5. Try to capitalize whole string"
      ],
      "metadata": {
        "id": "-FyLYYFOnQ61"
      }
    },
    {
      "cell_type": "code",
      "source": [
        "S.capitalize()"
      ],
      "metadata": {
        "colab": {
          "base_uri": "https://localhost:8080/",
          "height": 35
        },
        "id": "oaD36uOdnUsM",
        "outputId": "7c15c2da-fbe3-49fa-8645-8213a3020236"
      },
      "execution_count": 10,
      "outputs": [
        {
          "output_type": "execute_result",
          "data": {
            "text/plain": [
              "'This is my first python programming class and i am learning python string and its function'"
            ],
            "application/vnd.google.colaboratory.intrinsic+json": {
              "type": "string"
            }
          },
          "metadata": {},
          "execution_count": 10
        }
      ]
    },
    {
      "cell_type": "markdown",
      "source": [
        "6. Write difference between isalnum() and isalpha() \n",
        "\n",
        "The Python isalpha() method returns true if a string only contains letters where as Python isalnum() only returns true if a string contains alphanumeric characters, without symbols.\n",
        "\n",
        "\n",
        "\n"
      ],
      "metadata": {
        "id": "TfntpCp7nZA_"
      }
    },
    {
      "cell_type": "code",
      "source": [
        "s2 = 'dsadw323'\n",
        "s2.isalnum()"
      ],
      "metadata": {
        "colab": {
          "base_uri": "https://localhost:8080/"
        },
        "id": "rQSTSkSRns37",
        "outputId": "5047cfd5-f831-473a-a260-288b95c38acf"
      },
      "execution_count": 14,
      "outputs": [
        {
          "output_type": "execute_result",
          "data": {
            "text/plain": [
              "True"
            ]
          },
          "metadata": {},
          "execution_count": 14
        }
      ]
    },
    {
      "cell_type": "code",
      "source": [
        "s1 = 'asdsasa'\n",
        "s1.isalpha()"
      ],
      "metadata": {
        "colab": {
          "base_uri": "https://localhost:8080/"
        },
        "id": "oClFiD9Snv-u",
        "outputId": "91a8f8ae-8a3f-4a2e-dcce-893ca107c0aa"
      },
      "execution_count": 13,
      "outputs": [
        {
          "output_type": "execute_result",
          "data": {
            "text/plain": [
              "True"
            ]
          },
          "metadata": {},
          "execution_count": 13
        }
      ]
    },
    {
      "cell_type": "markdown",
      "source": [
        "7. Try to give an example of exapand tab"
      ],
      "metadata": {
        "id": "0mg0eP3vo1yb"
      }
    },
    {
      "cell_type": "code",
      "source": [
        "g = 'Gaurav\\tRatan\\tMishra'\n",
        "g.expandtabs()"
      ],
      "metadata": {
        "colab": {
          "base_uri": "https://localhost:8080/",
          "height": 35
        },
        "id": "qqImztdQnxvb",
        "outputId": "e3406338-9f25-4237-934c-171d6f31ace6"
      },
      "execution_count": 15,
      "outputs": [
        {
          "output_type": "execute_result",
          "data": {
            "text/plain": [
              "'Gaurav  Ratan   Mishra'"
            ],
            "application/vnd.google.colaboratory.intrinsic+json": {
              "type": "string"
            }
          },
          "metadata": {},
          "execution_count": 15
        }
      ]
    },
    {
      "cell_type": "markdown",
      "source": [
        "8. Give an example of strip, lstrip and rstrip"
      ],
      "metadata": {
        "id": "KoaKQskupKaT"
      }
    },
    {
      "cell_type": "code",
      "source": [
        "t = \"    ds   dsa  d sadas \"  #Leading and Trailing space only stripped\n",
        "t.strip()"
      ],
      "metadata": {
        "colab": {
          "base_uri": "https://localhost:8080/",
          "height": 35
        },
        "id": "6Lb9OXmbpDMk",
        "outputId": "f0b0ce92-b96d-45e3-936c-9550ec57ff31"
      },
      "execution_count": 16,
      "outputs": [
        {
          "output_type": "execute_result",
          "data": {
            "text/plain": [
              "'ds   dsa  d sadas'"
            ],
            "application/vnd.google.colaboratory.intrinsic+json": {
              "type": "string"
            }
          },
          "metadata": {},
          "execution_count": 16
        }
      ]
    },
    {
      "cell_type": "code",
      "source": [
        "t.lstrip()  #Only leading Spaces stripped"
      ],
      "metadata": {
        "colab": {
          "base_uri": "https://localhost:8080/",
          "height": 35
        },
        "id": "S-1L4PgfpTOm",
        "outputId": "8604835c-0213-48e5-94ad-eb4bb307130e"
      },
      "execution_count": 17,
      "outputs": [
        {
          "output_type": "execute_result",
          "data": {
            "text/plain": [
              "'ds   dsa  d sadas '"
            ],
            "application/vnd.google.colaboratory.intrinsic+json": {
              "type": "string"
            }
          },
          "metadata": {},
          "execution_count": 17
        }
      ]
    },
    {
      "cell_type": "code",
      "source": [
        "t.rstrip() #Only Trailing Spaces stripped"
      ],
      "metadata": {
        "colab": {
          "base_uri": "https://localhost:8080/",
          "height": 35
        },
        "id": "bj2TP3jVpUeQ",
        "outputId": "4ee0747a-eb8b-44b0-b4fa-8c56a69d783e"
      },
      "execution_count": 18,
      "outputs": [
        {
          "output_type": "execute_result",
          "data": {
            "text/plain": [
              "'    ds   dsa  d sadas'"
            ],
            "application/vnd.google.colaboratory.intrinsic+json": {
              "type": "string"
            }
          },
          "metadata": {},
          "execution_count": 18
        }
      ]
    },
    {
      "cell_type": "markdown",
      "source": [
        "9. Replace a string character by another character by taking your own example"
      ],
      "metadata": {
        "id": "GKAKZTx-piLD"
      }
    },
    {
      "cell_type": "code",
      "source": [
        "str = 'abc'\n",
        "str2 = str.replace('a', 'e')\n",
        "str2"
      ],
      "metadata": {
        "colab": {
          "base_uri": "https://localhost:8080/",
          "height": 35
        },
        "id": "h8ImWTu4pVV3",
        "outputId": "6fbbb374-f6bc-48c0-9a99-04c1872ad4df"
      },
      "execution_count": 22,
      "outputs": [
        {
          "output_type": "execute_result",
          "data": {
            "text/plain": [
              "'ebc'"
            ],
            "application/vnd.google.colaboratory.intrinsic+json": {
              "type": "string"
            }
          },
          "metadata": {},
          "execution_count": 22
        }
      ]
    },
    {
      "cell_type": "markdown",
      "source": [
        "10. Try to give a definition of string center function with an example\n",
        "\n",
        "String 'Center' function returns a centered string of length width."
      ],
      "metadata": {
        "id": "nG-nk3YWqe7-"
      }
    },
    {
      "cell_type": "code",
      "source": [
        "g = 'gaurav'\n",
        "g.center(30,'z')"
      ],
      "metadata": {
        "colab": {
          "base_uri": "https://localhost:8080/",
          "height": 35
        },
        "id": "pjg_Ig14qkD9",
        "outputId": "5568dd2d-100b-4cfd-ec44-db4165fdae14"
      },
      "execution_count": 24,
      "outputs": [
        {
          "output_type": "execute_result",
          "data": {
            "text/plain": [
              "'zzzzzzzzzzzzgauravzzzzzzzzzzzz'"
            ],
            "application/vnd.google.colaboratory.intrinsic+json": {
              "type": "string"
            }
          },
          "metadata": {},
          "execution_count": 24
        }
      ]
    },
    {
      "cell_type": "markdown",
      "source": [
        "11. Write your definition of compiler and interpretor without copy paste from internet\n",
        "\n",
        "In simple words, Compiler scans the program written and translates this into code that machine can understand whereas Interpreter takes one single line of code at a time. This basically means that compiler generates an intermediate machine code whereas interpreter doesn't.\n",
        "\n",
        "Example of Programming Languages that use Compiler are C, C++, Java \n",
        "Example of Programming Languages that use Interpreter are JavaScript, Ruby"
      ],
      "metadata": {
        "id": "KcLjEs1wrD99"
      }
    },
    {
      "cell_type": "markdown",
      "source": [
        "12. Python is an interpreted or compile language. Give a clear answer with your understanding\n",
        "\n",
        "In various books of python programming, it is mentioned that python language is interpreted. But that is half correct the python program is first compiled and then interpreted. The compilation part is hidden from the programmer thus, many programmers believe that it is an interpreted language. The compilation part is done first when we execute our code and this will generate byte code and internally this byte code gets converted by the python virtual machine(p.v.m) according to the underlying platform(machine+operating system)."
      ],
      "metadata": {
        "id": "kbS7AjIAsM0O"
      }
    },
    {
      "cell_type": "markdown",
      "source": [
        "13. Try to write a use case of python with your understanding\n",
        "\n",
        "Some Use Cases of Python:\n",
        "1. Data Science\n",
        "2. Game Development\n",
        "3. Web Applications\n",
        "4. Software Development\n",
        "5. Web Scraping\n",
        "6. Internet of Things\n"
      ],
      "metadata": {
        "id": "H0SmRmtWs0EY"
      }
    }
  ]
}
