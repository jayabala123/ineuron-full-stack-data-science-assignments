{
  "cells": [
    {
      "cell_type": "code",
      "execution_count": null,
      "id": "792c5094",
      "metadata": {
        "id": "792c5094"
      },
      "outputs": [],
      "source": [
        "l=[1,3,4,5,5]"
      ]
    },
    {
      "cell_type": "code",
      "execution_count": null,
      "id": "5ab87bd2",
      "metadata": {
        "id": "5ab87bd2",
        "outputId": "77edf426-62d0-4218-c1a6-ba9ea86879bd"
      },
      "outputs": [
        {
          "name": "stdout",
          "output_type": "stream",
          "text": [
            "1\n",
            "3\n",
            "4\n",
            "5\n",
            "5\n"
          ]
        }
      ],
      "source": [
        "for i in l:\n",
        "    print(i)"
      ]
    },
    {
      "cell_type": "code",
      "execution_count": null,
      "id": "3b841412",
      "metadata": {
        "id": "3b841412",
        "outputId": "cb1d1e51-0e3d-41d4-f5ba-38a0cf211748"
      },
      "outputs": [
        {
          "ename": "TypeError",
          "evalue": "'list' object is not an iterator",
          "output_type": "error",
          "traceback": [
            "\u001b[0;31m---------------------------------------------------------------------------\u001b[0m",
            "\u001b[0;31mTypeError\u001b[0m                                 Traceback (most recent call last)",
            "Input \u001b[0;32mIn [3]\u001b[0m, in \u001b[0;36m<cell line: 1>\u001b[0;34m()\u001b[0m\n\u001b[0;32m----> 1\u001b[0m \u001b[38;5;28;43mnext\u001b[39;49m\u001b[43m(\u001b[49m\u001b[43ml\u001b[49m\u001b[43m)\u001b[49m\n",
            "\u001b[0;31mTypeError\u001b[0m: 'list' object is not an iterator"
          ]
        }
      ],
      "source": [
        "#next is inbuilt function that  extracts information one by one and give it to us\n",
        "next(l)"
      ]
    },
    {
      "cell_type": "code",
      "execution_count": null,
      "id": "5338b3fa",
      "metadata": {
        "id": "5338b3fa"
      },
      "outputs": [],
      "source": [
        " #Dataset which are iterable can be converted into iterator eg: List, String, Tuple: Internally for loop calls iter function which converts iterable into iterator \n",
        " #and then one by one by using next function, it will start extracting information\n",
        "b=iter(l)"
      ]
    },
    {
      "cell_type": "code",
      "execution_count": null,
      "id": "443b4967",
      "metadata": {
        "id": "443b4967",
        "outputId": "996ff017-4e1a-4620-c0cd-d26af3ce4280"
      },
      "outputs": [
        {
          "data": {
            "text/plain": [
              "1"
            ]
          },
          "execution_count": 5,
          "metadata": {},
          "output_type": "execute_result"
        }
      ],
      "source": [
        "next(b)"
      ]
    },
    {
      "cell_type": "code",
      "execution_count": null,
      "id": "946788a3",
      "metadata": {
        "id": "946788a3",
        "outputId": "ab5ce55e-4875-4740-97b5-1d19e29799ed"
      },
      "outputs": [
        {
          "data": {
            "text/plain": [
              "3"
            ]
          },
          "execution_count": 6,
          "metadata": {},
          "output_type": "execute_result"
        }
      ],
      "source": [
        "next(b)"
      ]
    },
    {
      "cell_type": "code",
      "execution_count": null,
      "id": "b2dea45d",
      "metadata": {
        "id": "b2dea45d",
        "outputId": "06f615d6-a09b-493d-90df-dfba5093af52"
      },
      "outputs": [
        {
          "data": {
            "text/plain": [
              "4"
            ]
          },
          "execution_count": 7,
          "metadata": {},
          "output_type": "execute_result"
        }
      ],
      "source": [
        "next(b)"
      ]
    },
    {
      "cell_type": "code",
      "execution_count": null,
      "id": "83138ecb",
      "metadata": {
        "id": "83138ecb",
        "outputId": "50fb9aff-39cc-4c92-8a29-1d129b5460c0"
      },
      "outputs": [
        {
          "ename": "TypeError",
          "evalue": "'int' object is not an iterator",
          "output_type": "error",
          "traceback": [
            "\u001b[0;31m---------------------------------------------------------------------------\u001b[0m",
            "\u001b[0;31mTypeError\u001b[0m                                 Traceback (most recent call last)",
            "Input \u001b[0;32mIn [8]\u001b[0m, in \u001b[0;36m<cell line: 1>\u001b[0;34m()\u001b[0m\n\u001b[0;32m----> 1\u001b[0m \u001b[38;5;28;43mnext\u001b[39;49m\u001b[43m(\u001b[49m\u001b[38;5;241;43m45\u001b[39;49m\u001b[43m)\u001b[49m\n",
            "\u001b[0;31mTypeError\u001b[0m: 'int' object is not an iterator"
          ]
        }
      ],
      "source": [
        "next(45)"
      ]
    },
    {
      "cell_type": "code",
      "execution_count": null,
      "id": "494744b5",
      "metadata": {
        "id": "494744b5",
        "outputId": "417f9701-94be-429e-a7ed-3ab998baa36a"
      },
      "outputs": [
        {
          "ename": "TypeError",
          "evalue": "'int' object is not iterable",
          "output_type": "error",
          "traceback": [
            "\u001b[0;31m---------------------------------------------------------------------------\u001b[0m",
            "\u001b[0;31mTypeError\u001b[0m                                 Traceback (most recent call last)",
            "Input \u001b[0;32mIn [9]\u001b[0m, in \u001b[0;36m<cell line: 1>\u001b[0;34m()\u001b[0m\n\u001b[0;32m----> 1\u001b[0m \u001b[38;5;28;43miter\u001b[39;49m\u001b[43m(\u001b[49m\u001b[38;5;241;43m45\u001b[39;49m\u001b[43m)\u001b[49m\n",
            "\u001b[0;31mTypeError\u001b[0m: 'int' object is not iterable"
          ]
        }
      ],
      "source": [
        "iter(45)"
      ]
    },
    {
      "cell_type": "code",
      "execution_count": null,
      "id": "86fbe73d",
      "metadata": {
        "id": "86fbe73d",
        "outputId": "07def99e-ec2c-4c66-c70b-ea8911be51ae"
      },
      "outputs": [
        {
          "ename": "TypeError",
          "evalue": "'int' object is not iterable",
          "output_type": "error",
          "traceback": [
            "\u001b[0;31m---------------------------------------------------------------------------\u001b[0m",
            "\u001b[0;31mTypeError\u001b[0m                                 Traceback (most recent call last)",
            "Input \u001b[0;32mIn [10]\u001b[0m, in \u001b[0;36m<cell line: 1>\u001b[0;34m()\u001b[0m\n\u001b[0;32m----> 1\u001b[0m \u001b[38;5;28;01mfor\u001b[39;00m i \u001b[38;5;129;01min\u001b[39;00m \u001b[38;5;241m4567\u001b[39m:\n\u001b[1;32m      2\u001b[0m     \u001b[38;5;28mprint\u001b[39m(i)\n",
            "\u001b[0;31mTypeError\u001b[0m: 'int' object is not iterable"
          ]
        }
      ],
      "source": [
        "for i in 4567:\n",
        "    print(i)"
      ]
    },
    {
      "cell_type": "code",
      "execution_count": null,
      "id": "3e08114b",
      "metadata": {
        "id": "3e08114b",
        "outputId": "9a442d6d-789b-42be-b0b2-a50f00a21f2e"
      },
      "outputs": [
        {
          "name": "stdout",
          "output_type": "stream",
          "text": [
            "1\n",
            "3\n",
            "4\n",
            "5\n",
            "5\n"
          ]
        }
      ],
      "source": [
        "#Internally calls iter() and next() to extract each element one by one\n",
        "for i in l:\n",
        "    print(i)"
      ]
    },
    {
      "cell_type": "code",
      "execution_count": null,
      "id": "5b41ea8f",
      "metadata": {
        "id": "5b41ea8f"
      },
      "outputs": [],
      "source": [
        "s=\"sudh\" #We need to convert string iterable into iterator"
      ]
    },
    {
      "cell_type": "code",
      "execution_count": null,
      "id": "2746ef26",
      "metadata": {
        "id": "2746ef26",
        "outputId": "68bf248a-5956-48a5-ec94-828e0b0b425b"
      },
      "outputs": [
        {
          "ename": "TypeError",
          "evalue": "'str' object is not an iterator",
          "output_type": "error",
          "traceback": [
            "\u001b[0;31m---------------------------------------------------------------------------\u001b[0m",
            "\u001b[0;31mTypeError\u001b[0m                                 Traceback (most recent call last)",
            "Input \u001b[0;32mIn [13]\u001b[0m, in \u001b[0;36m<cell line: 1>\u001b[0;34m()\u001b[0m\n\u001b[0;32m----> 1\u001b[0m \u001b[38;5;28;43mnext\u001b[39;49m\u001b[43m(\u001b[49m\u001b[43ms\u001b[49m\u001b[43m)\u001b[49m\n",
            "\u001b[0;31mTypeError\u001b[0m: 'str' object is not an iterator"
          ]
        }
      ],
      "source": [
        "next(s)"
      ]
    },
    {
      "cell_type": "code",
      "execution_count": null,
      "id": "1efe47d6",
      "metadata": {
        "id": "1efe47d6"
      },
      "outputs": [],
      "source": [
        "s=iter(s)"
      ]
    },
    {
      "cell_type": "code",
      "execution_count": null,
      "id": "2cb0b8f4",
      "metadata": {
        "id": "2cb0b8f4",
        "outputId": "58b7be59-2c78-4b2a-d35f-e7e30cf225d3"
      },
      "outputs": [
        {
          "data": {
            "text/plain": [
              "'s'"
            ]
          },
          "execution_count": 17,
          "metadata": {},
          "output_type": "execute_result"
        }
      ],
      "source": [
        "next(s)"
      ]
    },
    {
      "cell_type": "code",
      "execution_count": null,
      "id": "bc33b4d7",
      "metadata": {
        "id": "bc33b4d7",
        "outputId": "6a8b11de-e890-4656-ca2e-006e0722b84f"
      },
      "outputs": [
        {
          "data": {
            "text/plain": [
              "'u'"
            ]
          },
          "execution_count": 18,
          "metadata": {},
          "output_type": "execute_result"
        }
      ],
      "source": [
        "next(s\n",
        "    )"
      ]
    },
    {
      "cell_type": "code",
      "execution_count": null,
      "id": "7fd224dd",
      "metadata": {
        "id": "7fd224dd",
        "outputId": "0e04f6fb-595b-486c-86b8-0404fe7feeec"
      },
      "outputs": [
        {
          "data": {
            "text/plain": [
              "'d'"
            ]
          },
          "execution_count": 19,
          "metadata": {},
          "output_type": "execute_result"
        }
      ],
      "source": [
        "next(s)"
      ]
    },
    {
      "cell_type": "code",
      "execution_count": null,
      "id": "80267fb7",
      "metadata": {
        "id": "80267fb7",
        "outputId": "656ab66f-3a5b-4ac9-e6cc-157400dffd77"
      },
      "outputs": [
        {
          "data": {
            "text/plain": [
              "'h'"
            ]
          },
          "execution_count": 20,
          "metadata": {},
          "output_type": "execute_result"
        }
      ],
      "source": [
        "next(s)"
      ]
    },
    {
      "cell_type": "code",
      "execution_count": null,
      "id": "6ae35a31",
      "metadata": {
        "id": "6ae35a31",
        "outputId": "af411c74-dbe8-4842-94ca-273d3c8fa7f5"
      },
      "outputs": [
        {
          "ename": "StopIteration",
          "evalue": "",
          "output_type": "error",
          "traceback": [
            "\u001b[0;31m---------------------------------------------------------------------------\u001b[0m",
            "\u001b[0;31mStopIteration\u001b[0m                             Traceback (most recent call last)",
            "Input \u001b[0;32mIn [21]\u001b[0m, in \u001b[0;36m<cell line: 1>\u001b[0;34m()\u001b[0m\n\u001b[0;32m----> 1\u001b[0m \u001b[38;5;28;43mnext\u001b[39;49m\u001b[43m(\u001b[49m\u001b[43ms\u001b[49m\u001b[43m)\u001b[49m\n",
            "\u001b[0;31mStopIteration\u001b[0m: "
          ]
        }
      ],
      "source": [
        "next(s)"
      ]
    },
    {
      "cell_type": "code",
      "execution_count": null,
      "id": "513c2d7d",
      "metadata": {
        "id": "513c2d7d",
        "outputId": "b85e7d2d-1b0d-4c61-a97d-48a9b3a4fbca"
      },
      "outputs": [
        {
          "name": "stdout",
          "output_type": "stream",
          "text": [
            "s\n",
            "u\n",
            "d\n",
            "h\n"
          ]
        }
      ],
      "source": [
        "s=\"sudh\"\n",
        "for i in s:\n",
        "    print(i)"
      ]
    },
    {
      "cell_type": "code",
      "execution_count": null,
      "id": "3f334ac1",
      "metadata": {
        "id": "3f334ac1"
      },
      "outputs": [],
      "source": [
        "#https://us02web.zoom.us/j/82360564107?pwd=ck9iRmlycm9EY3ZKSjlMMG5VaUh6Zz09#success"
      ]
    },
    {
      "cell_type": "code",
      "execution_count": null,
      "id": "2d0092cf",
      "metadata": {
        "id": "2d0092cf"
      },
      "outputs": [],
      "source": [
        "t=(5,6,7,8,8)"
      ]
    },
    {
      "cell_type": "code",
      "execution_count": null,
      "id": "3b234413",
      "metadata": {
        "id": "3b234413"
      },
      "outputs": [],
      "source": [
        "t=iter(t)"
      ]
    },
    {
      "cell_type": "code",
      "execution_count": null,
      "id": "58088217",
      "metadata": {
        "id": "58088217",
        "outputId": "7465c8cb-827f-40db-fcb1-b5e24577c6a8"
      },
      "outputs": [
        {
          "data": {
            "text/plain": [
              "5"
            ]
          },
          "execution_count": 26,
          "metadata": {},
          "output_type": "execute_result"
        }
      ],
      "source": [
        "next(t)"
      ]
    },
    {
      "cell_type": "code",
      "execution_count": null,
      "id": "ac14e3ee",
      "metadata": {
        "id": "ac14e3ee",
        "outputId": "294b3c56-df01-48d4-8c3a-ddee11b3499e"
      },
      "outputs": [
        {
          "data": {
            "text/plain": [
              "6"
            ]
          },
          "execution_count": 27,
          "metadata": {},
          "output_type": "execute_result"
        }
      ],
      "source": [
        "next(t)"
      ]
    },
    {
      "cell_type": "code",
      "execution_count": null,
      "id": "96e85e40",
      "metadata": {
        "id": "96e85e40",
        "outputId": "93dea967-7ea9-486e-93ce-d4b7867d5107"
      },
      "outputs": [
        {
          "data": {
            "text/plain": [
              "7"
            ]
          },
          "execution_count": 28,
          "metadata": {},
          "output_type": "execute_result"
        }
      ],
      "source": [
        "next(t)\n"
      ]
    },
    {
      "cell_type": "code",
      "execution_count": null,
      "id": "ca57c0c0",
      "metadata": {
        "id": "ca57c0c0",
        "outputId": "a8f03a15-11a0-4b8c-e51a-3e2406b224b3"
      },
      "outputs": [
        {
          "data": {
            "text/plain": [
              "8"
            ]
          },
          "execution_count": 29,
          "metadata": {},
          "output_type": "execute_result"
        }
      ],
      "source": [
        "next(t)"
      ]
    },
    {
      "cell_type": "code",
      "execution_count": null,
      "id": "16939007",
      "metadata": {
        "id": "16939007",
        "outputId": "81d911fe-2e34-419a-bb51-ac3cde103f0f"
      },
      "outputs": [
        {
          "data": {
            "text/plain": [
              "8"
            ]
          },
          "execution_count": 30,
          "metadata": {},
          "output_type": "execute_result"
        }
      ],
      "source": [
        "next(t)"
      ]
    },
    {
      "cell_type": "code",
      "execution_count": null,
      "id": "252c2d51",
      "metadata": {
        "id": "252c2d51",
        "outputId": "cb1d7fd2-bcbf-438d-9600-df40900767bb"
      },
      "outputs": [
        {
          "ename": "StopIteration",
          "evalue": "",
          "output_type": "error",
          "traceback": [
            "\u001b[0;31m---------------------------------------------------------------------------\u001b[0m",
            "\u001b[0;31mStopIteration\u001b[0m                             Traceback (most recent call last)",
            "Input \u001b[0;32mIn [31]\u001b[0m, in \u001b[0;36m<cell line: 1>\u001b[0;34m()\u001b[0m\n\u001b[0;32m----> 1\u001b[0m \u001b[38;5;28;43mnext\u001b[39;49m\u001b[43m(\u001b[49m\u001b[43mt\u001b[49m\u001b[43m)\u001b[49m\n",
            "\u001b[0;31mStopIteration\u001b[0m: "
          ]
        }
      ],
      "source": [
        "next(t)"
      ]
    },
    {
      "cell_type": "code",
      "execution_count": null,
      "id": "779277c8",
      "metadata": {
        "id": "779277c8"
      },
      "outputs": [],
      "source": [
        "#Generator Functions\n",
        "range(1,10) #Generatign dataset for me"
      ]
    },
    {
      "cell_type": "code",
      "execution_count": null,
      "id": "8de948af",
      "metadata": {
        "id": "8de948af",
        "outputId": "122cbad6-86ce-49ab-d02e-795f59f88653"
      },
      "outputs": [
        {
          "data": {
            "text/plain": [
              "[1, 2, 3, 4, 5, 6, 7, 8, 9]"
            ]
          },
          "execution_count": 33,
          "metadata": {},
          "output_type": "execute_result"
        }
      ],
      "source": [
        "list(range(1,10))"
      ]
    },
    {
      "cell_type": "code",
      "execution_count": null,
      "id": "c05c1d65",
      "metadata": {
        "id": "c05c1d65"
      },
      "outputs": [],
      "source": [
        "def m(n):\n",
        "    x=[i*i for i in range(n)]\n",
        "    return x\n",
        "    "
      ]
    },
    {
      "cell_type": "code",
      "execution_count": null,
      "id": "33af0ee8",
      "metadata": {
        "id": "33af0ee8",
        "outputId": "2c18bef2-7e1a-4126-fb40-87e020a3721f"
      },
      "outputs": [
        {
          "data": {
            "text/plain": [
              "[0, 1, 4, 9]"
            ]
          },
          "execution_count": 38,
          "metadata": {},
          "output_type": "execute_result"
        }
      ],
      "source": [
        "m(4)"
      ]
    },
    {
      "cell_type": "code",
      "execution_count": null,
      "id": "2f10fc03",
      "metadata": {
        "id": "2f10fc03"
      },
      "outputs": [],
      "source": [
        "#range behaves as a generator. \n",
        "#Doesnt output anything unless asked (Like in range when we put list function then only we got output). Such functions are called as Generator Functions\n",
        "#Instead of return, we are using yield so that our function will become a generator and will return an object\n",
        "def q(n):\n",
        "    x=[i*i for i in range(n)]\n",
        "    yield x"
      ]
    },
    {
      "cell_type": "code",
      "execution_count": null,
      "id": "61fa110d",
      "metadata": {
        "id": "61fa110d",
        "outputId": "f7c38678-2a8b-4ae6-cd6c-efbcf68ba844"
      },
      "outputs": [
        {
          "data": {
            "text/plain": [
              "<generator object q at 0x7fa479cb25f0>"
            ]
          },
          "execution_count": 40,
          "metadata": {},
          "output_type": "execute_result"
        }
      ],
      "source": [
        "q(4) #Object is returned. Which means using this we will be able to generate dataset at any point of time like below"
      ]
    },
    {
      "cell_type": "code",
      "execution_count": null,
      "id": "7280b047",
      "metadata": {
        "id": "7280b047",
        "outputId": "2058d508-d1ea-448b-f817-20b49cf7aa4a"
      },
      "outputs": [
        {
          "name": "stdout",
          "output_type": "stream",
          "text": [
            "[0, 1, 4, 9]\n"
          ]
        }
      ],
      "source": [
        "for i in q(4):\n",
        "    print(i)"
      ]
    },
    {
      "cell_type": "code",
      "execution_count": null,
      "id": "2ab85fbb",
      "metadata": {
        "id": "2ab85fbb",
        "outputId": "5cbe4fe6-6964-402f-c2bf-70b38caaf3be"
      },
      "outputs": [
        {
          "name": "stdout",
          "output_type": "stream",
          "text": [
            "0\n",
            "1\n",
            "2\n",
            "3\n"
          ]
        }
      ],
      "source": [
        "for i in range(4):\n",
        "    print(i)"
      ]
    },
    {
      "cell_type": "code",
      "execution_count": null,
      "id": "8ffeb03a",
      "metadata": {
        "id": "8ffeb03a",
        "outputId": "9852e7f0-1e16-4506-fb9e-96e4c301a161"
      },
      "outputs": [
        {
          "data": {
            "text/plain": [
              "[0, 1, 4, 9]"
            ]
          },
          "execution_count": 43,
          "metadata": {},
          "output_type": "execute_result"
        }
      ],
      "source": [
        "next(q(4))"
      ]
    },
    {
      "cell_type": "code",
      "execution_count": null,
      "id": "1f9d8b7e",
      "metadata": {
        "id": "1f9d8b7e"
      },
      "outputs": [],
      "source": [
        "r=iter(range(4))"
      ]
    },
    {
      "cell_type": "code",
      "execution_count": null,
      "id": "3548151e",
      "metadata": {
        "id": "3548151e",
        "outputId": "11b8e5db-5c05-4a9b-d154-c3792220b13d"
      },
      "outputs": [
        {
          "data": {
            "text/plain": [
              "0"
            ]
          },
          "execution_count": 45,
          "metadata": {},
          "output_type": "execute_result"
        }
      ],
      "source": [
        "next(r)"
      ]
    },
    {
      "cell_type": "code",
      "execution_count": null,
      "id": "832d328f",
      "metadata": {
        "id": "832d328f",
        "outputId": "0b4088cb-7904-4f1a-f06e-9c523fdc9da9"
      },
      "outputs": [
        {
          "data": {
            "text/plain": [
              "1"
            ]
          },
          "execution_count": 46,
          "metadata": {},
          "output_type": "execute_result"
        }
      ],
      "source": [
        "next(r)"
      ]
    },
    {
      "cell_type": "code",
      "execution_count": null,
      "id": "b33d62d6",
      "metadata": {
        "id": "b33d62d6"
      },
      "outputs": [],
      "source": [
        "#yield is the keyword to convert any object to generator function"
      ]
    },
    {
      "cell_type": "code",
      "execution_count": null,
      "id": "5c78fd76",
      "metadata": {
        "id": "5c78fd76"
      },
      "outputs": [],
      "source": [
        "#Fibonacci Series Program\n",
        "def genfib(n):\n",
        "    a=1\n",
        "    b=1\n",
        "    l=[]\n",
        "    for i in range(n):\n",
        "        l.append(a)\n",
        "        a,b = b, a+b #logic for fibunaki series\n",
        "    return(l)"
      ]
    },
    {
      "cell_type": "code",
      "execution_count": null,
      "id": "8c41b440",
      "metadata": {
        "id": "8c41b440",
        "outputId": "73ec0dad-ca5c-4f37-eebb-e27f26617116"
      },
      "outputs": [
        {
          "data": {
            "text/plain": [
              "[1, 1, 2, 3, 5, 8, 13, 21, 34, 55]"
            ]
          },
          "execution_count": 52,
          "metadata": {},
          "output_type": "execute_result"
        }
      ],
      "source": [
        "genfib(10)"
      ]
    },
    {
      "cell_type": "code",
      "execution_count": null,
      "id": "485ecce3",
      "metadata": {
        "id": "485ecce3"
      },
      "outputs": [],
      "source": [
        "#Generator Function\n",
        "def genfib1(n):\n",
        "    a=1\n",
        "    b=1\n",
        "\n",
        "    for i in range(n):\n",
        "        yield a\n",
        "      \n",
        "        a,b = b, a+b \n",
        "    "
      ]
    },
    {
      "cell_type": "code",
      "execution_count": null,
      "id": "1aef4e43",
      "metadata": {
        "id": "1aef4e43",
        "outputId": "e04c9a92-cfad-4624-c67e-61a1c9268939"
      },
      "outputs": [
        {
          "data": {
            "text/plain": [
              "<generator object genfib at 0x7fa47ace3820>"
            ]
          },
          "execution_count": 55,
          "metadata": {},
          "output_type": "execute_result"
        }
      ],
      "source": [
        "genfib(10)"
      ]
    },
    {
      "cell_type": "code",
      "execution_count": null,
      "id": "3bf8b246",
      "metadata": {
        "id": "3bf8b246",
        "outputId": "e65733eb-4833-4044-dab3-7bd3f7798ecd"
      },
      "outputs": [
        {
          "name": "stdout",
          "output_type": "stream",
          "text": [
            "1\n",
            "1\n",
            "2\n",
            "3\n",
            "5\n",
            "8\n",
            "13\n",
            "21\n",
            "34\n",
            "55\n"
          ]
        }
      ],
      "source": [
        "for i in genfib1(10):\n",
        "    print (i)"
      ]
    },
    {
      "cell_type": "code",
      "execution_count": null,
      "id": "ad30ba48",
      "metadata": {
        "id": "ad30ba48"
      },
      "outputs": [],
      "source": [
        "f=open(\"m.docx\",\"r\" )"
      ]
    },
    {
      "cell_type": "code",
      "execution_count": null,
      "id": "71d6a6ae",
      "metadata": {
        "id": "71d6a6ae",
        "outputId": "a8a5a569-093e-4a57-d682-fdf68324ff1a"
      },
      "outputs": [
        {
          "data": {
            "text/plain": [
              "<_io.TextIOWrapper name='m.docx' mode='r' encoding='UTF-8'>"
            ]
          },
          "execution_count": 62,
          "metadata": {},
          "output_type": "execute_result"
        }
      ],
      "source": [
        "f"
      ]
    },
    {
      "cell_type": "code",
      "execution_count": null,
      "id": "0d3fb4de",
      "metadata": {
        "id": "0d3fb4de"
      },
      "outputs": [],
      "source": [
        "f1= open(\"test1.docx\", \"w\")"
      ]
    },
    {
      "cell_type": "code",
      "execution_count": null,
      "id": "f65abf11",
      "metadata": {
        "id": "f65abf11",
        "outputId": "03a5df20-d107-4f25-c363-b87c93c71372"
      },
      "outputs": [
        {
          "data": {
            "text/plain": [
              "4"
            ]
          },
          "execution_count": 64,
          "metadata": {},
          "output_type": "execute_result"
        }
      ],
      "source": [
        "f1.write(\"1234\")"
      ]
    },
    {
      "cell_type": "code",
      "execution_count": null,
      "id": "7295e311",
      "metadata": {
        "id": "7295e311"
      },
      "outputs": [],
      "source": [
        "f1.close()"
      ]
    },
    {
      "cell_type": "code",
      "execution_count": null,
      "id": "546a7062",
      "metadata": {
        "id": "546a7062"
      },
      "outputs": [],
      "source": [
        "l=[1,2,3,4,5,6,677,78]"
      ]
    },
    {
      "cell_type": "code",
      "execution_count": null,
      "id": "df32cbc1",
      "metadata": {
        "id": "df32cbc1"
      },
      "outputs": [],
      "source": [
        "f2=open(\"test2.docx\", \"w\")"
      ]
    },
    {
      "cell_type": "code",
      "execution_count": null,
      "id": "bb1e3174",
      "metadata": {
        "id": "bb1e3174",
        "outputId": "1c29dc98-2a0f-45cf-ded0-217c8675492b"
      },
      "outputs": [
        {
          "data": {
            "text/plain": [
              "27"
            ]
          },
          "execution_count": 69,
          "metadata": {},
          "output_type": "execute_result"
        }
      ],
      "source": [
        "f2.write(str(l))"
      ]
    },
    {
      "cell_type": "code",
      "execution_count": null,
      "id": "3005496c",
      "metadata": {
        "id": "3005496c"
      },
      "outputs": [],
      "source": [
        "f2.close()"
      ]
    },
    {
      "cell_type": "code",
      "execution_count": null,
      "id": "aa0f300b",
      "metadata": {
        "id": "aa0f300b"
      },
      "outputs": [],
      "source": [
        "f3=open(\"test.sudh\", \"w\")\n",
        "f3.write(\"sduwuyxdvguydxt\")\n",
        "f3.close()"
      ]
    },
    {
      "cell_type": "code",
      "execution_count": null,
      "id": "e81cf39e",
      "metadata": {
        "id": "e81cf39e",
        "outputId": "1d80fc4b-4b8e-46d8-c16e-fbdc944554aa"
      },
      "outputs": [
        {
          "name": "stdout",
          "output_type": "stream",
          "text": [
            "Overwriting test5.txt\n"
          ]
        }
      ],
      "source": [
        "%%writefile test5.txt\n",
        "this is my python\n",
        "this is my pythonthis is my pythonvv"
      ]
    },
    {
      "cell_type": "code",
      "execution_count": null,
      "id": "8cb0427d",
      "metadata": {
        "id": "8cb0427d"
      },
      "outputs": [],
      "source": [
        "f=open(\"test5.txt\")"
      ]
    },
    {
      "cell_type": "code",
      "execution_count": null,
      "id": "23c4948d",
      "metadata": {
        "id": "23c4948d",
        "outputId": "ebfacea2-c31f-4bde-ff65-e9a303b868e6"
      },
      "outputs": [
        {
          "data": {
            "text/plain": [
              "'this is my python\\nthis is my pythonthis is my pythonvv\\n'"
            ]
          },
          "execution_count": 77,
          "metadata": {},
          "output_type": "execute_result"
        }
      ],
      "source": [
        "f.read()"
      ]
    },
    {
      "cell_type": "code",
      "execution_count": null,
      "id": "4ea2f66e",
      "metadata": {
        "id": "4ea2f66e",
        "outputId": "301a20d4-9cd5-42bb-c5c4-6e5a47276432"
      },
      "outputs": [
        {
          "data": {
            "text/plain": [
              "''"
            ]
          },
          "execution_count": 78,
          "metadata": {},
          "output_type": "execute_result"
        }
      ],
      "source": [
        "f.read()"
      ]
    },
    {
      "cell_type": "code",
      "execution_count": null,
      "id": "bf66b240",
      "metadata": {
        "id": "bf66b240",
        "outputId": "47ee62ef-7c73-4dfe-eed7-0085fb9e0095"
      },
      "outputs": [
        {
          "data": {
            "text/plain": [
              "0"
            ]
          },
          "execution_count": 79,
          "metadata": {},
          "output_type": "execute_result"
        }
      ],
      "source": [
        "f.seek(0)"
      ]
    },
    {
      "cell_type": "code",
      "execution_count": null,
      "id": "11c85baa",
      "metadata": {
        "id": "11c85baa",
        "outputId": "c819105e-b4de-4e35-d8e3-790983cc1912"
      },
      "outputs": [
        {
          "data": {
            "text/plain": [
              "'this is my python\\nthis is my pythonthis is my pythonvv\\n'"
            ]
          },
          "execution_count": 80,
          "metadata": {},
          "output_type": "execute_result"
        }
      ],
      "source": [
        "f.read()"
      ]
    },
    {
      "cell_type": "code",
      "execution_count": null,
      "id": "516e20db",
      "metadata": {
        "id": "516e20db",
        "outputId": "624eb905-945f-4c90-fa40-f469486ab4c4"
      },
      "outputs": [
        {
          "data": {
            "text/plain": [
              "2"
            ]
          },
          "execution_count": 81,
          "metadata": {},
          "output_type": "execute_result"
        }
      ],
      "source": [
        "f.seek(2)"
      ]
    },
    {
      "cell_type": "code",
      "execution_count": null,
      "id": "5904f439",
      "metadata": {
        "id": "5904f439",
        "outputId": "d1a7e4ea-f884-46e1-c692-d6b9e5278cef"
      },
      "outputs": [
        {
          "data": {
            "text/plain": [
              "'is is my python\\nthis is my pythonthis is my pythonvv\\n'"
            ]
          },
          "execution_count": 82,
          "metadata": {},
          "output_type": "execute_result"
        }
      ],
      "source": [
        "f.read()"
      ]
    },
    {
      "cell_type": "code",
      "execution_count": null,
      "id": "7905bcfb",
      "metadata": {
        "id": "7905bcfb"
      },
      "outputs": [],
      "source": [
        "f1=open(\"test5.txt\")"
      ]
    },
    {
      "cell_type": "code",
      "execution_count": null,
      "id": "dc0a6615",
      "metadata": {
        "id": "dc0a6615",
        "outputId": "180b1b7a-55cd-40dd-bda9-e32f7accf689"
      },
      "outputs": [
        {
          "data": {
            "text/plain": [
              "0"
            ]
          },
          "execution_count": 84,
          "metadata": {},
          "output_type": "execute_result"
        }
      ],
      "source": [
        "f1.tell()"
      ]
    },
    {
      "cell_type": "code",
      "execution_count": null,
      "id": "65fc81db",
      "metadata": {
        "id": "65fc81db",
        "outputId": "38ed5244-35d3-41a6-efa0-6d37c9135010"
      },
      "outputs": [
        {
          "data": {
            "text/plain": [
              "'this is my python\\nthis is my pythonthis is my pythonvv\\n'"
            ]
          },
          "execution_count": 85,
          "metadata": {},
          "output_type": "execute_result"
        }
      ],
      "source": [
        "f1.read()"
      ]
    },
    {
      "cell_type": "code",
      "execution_count": null,
      "id": "268a687e",
      "metadata": {
        "id": "268a687e",
        "outputId": "d4df4e7c-0fb6-4b6a-9bcb-cc1aa946872d"
      },
      "outputs": [
        {
          "data": {
            "text/plain": [
              "55"
            ]
          },
          "execution_count": 86,
          "metadata": {},
          "output_type": "execute_result"
        }
      ],
      "source": [
        "f1.tell()"
      ]
    },
    {
      "cell_type": "code",
      "execution_count": null,
      "id": "bad77652",
      "metadata": {
        "id": "bad77652",
        "outputId": "3c5f5f27-da97-40a7-ba66-b47bc70318c8"
      },
      "outputs": [
        {
          "data": {
            "text/plain": [
              "5"
            ]
          },
          "execution_count": 87,
          "metadata": {},
          "output_type": "execute_result"
        }
      ],
      "source": [
        "f1.seek(5)"
      ]
    },
    {
      "cell_type": "code",
      "execution_count": null,
      "id": "e9a01986",
      "metadata": {
        "id": "e9a01986",
        "outputId": "fff7c46f-8370-43ed-99ba-cf5dee421494"
      },
      "outputs": [
        {
          "data": {
            "text/plain": [
              "5"
            ]
          },
          "execution_count": 88,
          "metadata": {},
          "output_type": "execute_result"
        }
      ],
      "source": [
        "f1.tell()"
      ]
    },
    {
      "cell_type": "code",
      "execution_count": null,
      "id": "957bbca9",
      "metadata": {
        "id": "957bbca9",
        "outputId": "22940544-4486-4913-d7c7-6c325fb65212"
      },
      "outputs": [
        {
          "data": {
            "text/plain": [
              "'is my python\\nthis is my pythonthis is my pythonvv\\n'"
            ]
          },
          "execution_count": 89,
          "metadata": {},
          "output_type": "execute_result"
        }
      ],
      "source": [
        "f1.read()"
      ]
    },
    {
      "cell_type": "code",
      "execution_count": null,
      "id": "638eb295",
      "metadata": {
        "id": "638eb295",
        "outputId": "fdbe8e96-074e-40f2-ddb8-4f3ea561f7e2"
      },
      "outputs": [
        {
          "data": {
            "text/plain": [
              "0"
            ]
          },
          "execution_count": 90,
          "metadata": {},
          "output_type": "execute_result"
        }
      ],
      "source": [
        "f1.seek(0)"
      ]
    },
    {
      "cell_type": "code",
      "execution_count": null,
      "id": "a61552e1",
      "metadata": {
        "id": "a61552e1",
        "outputId": "a56aa18e-f28c-40e9-9db7-83382061dfb0"
      },
      "outputs": [
        {
          "data": {
            "text/plain": [
              "0"
            ]
          },
          "execution_count": 91,
          "metadata": {},
          "output_type": "execute_result"
        }
      ],
      "source": [
        "f1.tell()"
      ]
    },
    {
      "cell_type": "code",
      "execution_count": null,
      "id": "4453515f",
      "metadata": {
        "id": "4453515f",
        "outputId": "8db0b2e9-1c2b-417a-89d0-37a5ec2c8a0e"
      },
      "outputs": [
        {
          "data": {
            "text/plain": [
              "'this is my pyth'"
            ]
          },
          "execution_count": 92,
          "metadata": {},
          "output_type": "execute_result"
        }
      ],
      "source": [
        "f1.read(15)"
      ]
    },
    {
      "cell_type": "code",
      "execution_count": null,
      "id": "a44ec581",
      "metadata": {
        "id": "a44ec581"
      },
      "outputs": [],
      "source": [
        "f2=open(\"test5.txt\")"
      ]
    },
    {
      "cell_type": "code",
      "execution_count": null,
      "id": "55e55454",
      "metadata": {
        "id": "55e55454",
        "outputId": "aa77899d-afc7-4299-bc9d-7b3a972bc3f0"
      },
      "outputs": [
        {
          "data": {
            "text/plain": [
              "'this is my python\\nthis is my pythonthis is my pythonvv\\n'"
            ]
          },
          "execution_count": 94,
          "metadata": {},
          "output_type": "execute_result"
        }
      ],
      "source": [
        "f2.read()"
      ]
    },
    {
      "cell_type": "code",
      "execution_count": null,
      "id": "f2583ee4",
      "metadata": {
        "id": "f2583ee4",
        "outputId": "7c388056-8ba2-4c5a-cc95-662db033ce7a"
      },
      "outputs": [
        {
          "data": {
            "text/plain": [
              "0"
            ]
          },
          "execution_count": 95,
          "metadata": {},
          "output_type": "execute_result"
        }
      ],
      "source": [
        "f2.seek(0)"
      ]
    },
    {
      "cell_type": "code",
      "execution_count": null,
      "id": "65f55618",
      "metadata": {
        "id": "65f55618",
        "outputId": "1f50d786-b2ec-47ef-814c-d90e3c026dd6"
      },
      "outputs": [
        {
          "data": {
            "text/plain": [
              "'this is my python\\n'"
            ]
          },
          "execution_count": 96,
          "metadata": {},
          "output_type": "execute_result"
        }
      ],
      "source": [
        "f2.readline()"
      ]
    },
    {
      "cell_type": "code",
      "execution_count": null,
      "id": "085cb0ff",
      "metadata": {
        "id": "085cb0ff",
        "outputId": "4d7cb4aa-0257-4b92-d2ff-8cf20231f294"
      },
      "outputs": [
        {
          "data": {
            "text/plain": [
              "['this is my pythonthis is my pythonvv\\n']"
            ]
          },
          "execution_count": 97,
          "metadata": {},
          "output_type": "execute_result"
        }
      ],
      "source": [
        "f2.readlines()"
      ]
    },
    {
      "cell_type": "code",
      "execution_count": null,
      "id": "79ecee3f",
      "metadata": {
        "id": "79ecee3f",
        "outputId": "0148be1f-5274-4ff7-aa27-349dae28ff20"
      },
      "outputs": [
        {
          "data": {
            "text/plain": [
              "<_io.TextIOWrapper name='test5.txt' mode='r' encoding='UTF-8'>"
            ]
          },
          "execution_count": 98,
          "metadata": {},
          "output_type": "execute_result"
        }
      ],
      "source": [
        "f2"
      ]
    },
    {
      "cell_type": "code",
      "execution_count": null,
      "id": "3671cad8",
      "metadata": {
        "id": "3671cad8",
        "outputId": "f8f4207e-f4f9-44c9-91bf-f42aafdbf625"
      },
      "outputs": [
        {
          "data": {
            "text/plain": [
              "78"
            ]
          },
          "execution_count": 99,
          "metadata": {},
          "output_type": "execute_result"
        }
      ],
      "source": [
        "f2.fileno()"
      ]
    },
    {
      "cell_type": "code",
      "execution_count": null,
      "id": "3479dd65",
      "metadata": {
        "id": "3479dd65"
      },
      "outputs": [],
      "source": [
        "f=open(\"test.txt\", \"w\")"
      ]
    },
    {
      "cell_type": "code",
      "execution_count": null,
      "id": "84e8f24e",
      "metadata": {
        "id": "84e8f24e",
        "outputId": "f9885281-a97c-4af5-f5a9-ded38248b68e"
      },
      "outputs": [
        {
          "data": {
            "text/plain": [
              "74"
            ]
          },
          "execution_count": 111,
          "metadata": {},
          "output_type": "execute_result"
        }
      ],
      "source": [
        "f.write(\"hello medha, youre great, hello dear, ssup, cool, yup, yumm, sexy, believe\")"
      ]
    },
    {
      "cell_type": "code",
      "execution_count": null,
      "id": "e5512014",
      "metadata": {
        "id": "e5512014"
      },
      "outputs": [],
      "source": [
        "f.close()"
      ]
    },
    {
      "cell_type": "code",
      "execution_count": null,
      "id": "7ad58aa2",
      "metadata": {
        "id": "7ad58aa2"
      },
      "outputs": [],
      "source": [
        "f=open(\"test.txt\", \"a\")\n",
        "\n",
        "\n"
      ]
    },
    {
      "cell_type": "code",
      "execution_count": null,
      "id": "81fb3052",
      "metadata": {
        "id": "81fb3052",
        "outputId": "44142f2b-17ee-46fb-d5f5-215257306ce4"
      },
      "outputs": [
        {
          "data": {
            "text/plain": [
              "23"
            ]
          },
          "execution_count": 108,
          "metadata": {},
          "output_type": "execute_result"
        }
      ],
      "source": [
        "f.write(\"medhu is cool, very yum\")"
      ]
    },
    {
      "cell_type": "code",
      "execution_count": null,
      "id": "952b923e",
      "metadata": {
        "id": "952b923e"
      },
      "outputs": [],
      "source": [
        "f.close()"
      ]
    },
    {
      "cell_type": "code",
      "execution_count": null,
      "id": "6f7bde70",
      "metadata": {
        "id": "6f7bde70",
        "outputId": "5e30fd1d-5d3b-4809-c5c8-36dd06593107"
      },
      "outputs": [
        {
          "data": {
            "text/plain": [
              "'test.txt'"
            ]
          },
          "execution_count": 114,
          "metadata": {},
          "output_type": "execute_result"
        }
      ],
      "source": [
        "f.name"
      ]
    },
    {
      "cell_type": "code",
      "execution_count": null,
      "id": "13fc6e13",
      "metadata": {
        "id": "13fc6e13",
        "outputId": "abed1cbb-7b41-4390-9e64-6ee4db9a5e5d"
      },
      "outputs": [
        {
          "data": {
            "text/plain": [
              "True"
            ]
          },
          "execution_count": 115,
          "metadata": {},
          "output_type": "execute_result"
        }
      ],
      "source": [
        "f.closed"
      ]
    },
    {
      "cell_type": "code",
      "execution_count": null,
      "id": "5dcf8f69",
      "metadata": {
        "id": "5dcf8f69",
        "outputId": "e5b9f5f5-0d5d-4b62-af19-cf0d83c37bcf"
      },
      "outputs": [
        {
          "data": {
            "text/plain": [
              "'w'"
            ]
          },
          "execution_count": 116,
          "metadata": {},
          "output_type": "execute_result"
        }
      ],
      "source": [
        "f.mode"
      ]
    },
    {
      "cell_type": "code",
      "execution_count": null,
      "id": "4cfba93e",
      "metadata": {
        "id": "4cfba93e"
      },
      "outputs": [],
      "source": [
        "#map, reduce, filter"
      ]
    },
    {
      "cell_type": "code",
      "execution_count": null,
      "id": "27cda3c3",
      "metadata": {
        "id": "27cda3c3"
      },
      "outputs": [],
      "source": [
        "l=[2,3,4,5,6]"
      ]
    },
    {
      "cell_type": "code",
      "execution_count": null,
      "id": "bf5ca2fa",
      "metadata": {
        "id": "bf5ca2fa"
      },
      "outputs": [],
      "source": [
        "l1=[]\n",
        "for i in l:\n",
        "    l1.append(i**2)\n",
        "    "
      ]
    },
    {
      "cell_type": "code",
      "execution_count": null,
      "id": "47bde7da",
      "metadata": {
        "id": "47bde7da",
        "outputId": "89afb082-0a80-4a52-f5d3-05bd80098018"
      },
      "outputs": [
        {
          "data": {
            "text/plain": [
              "[4, 9, 16, 25, 36]"
            ]
          },
          "execution_count": 3,
          "metadata": {},
          "output_type": "execute_result"
        }
      ],
      "source": [
        "l1"
      ]
    },
    {
      "cell_type": "code",
      "execution_count": null,
      "id": "af2b33d6",
      "metadata": {
        "id": "af2b33d6"
      },
      "outputs": [],
      "source": [
        "def sq(n):\n",
        "    return n**2"
      ]
    },
    {
      "cell_type": "code",
      "execution_count": null,
      "id": "93032e72",
      "metadata": {
        "id": "93032e72",
        "outputId": "9c59b1d6-c51d-4dd3-8e40-9fced34c06e5"
      },
      "outputs": [
        {
          "data": {
            "text/plain": [
              "[2, 3, 4, 5, 6]"
            ]
          },
          "execution_count": 5,
          "metadata": {},
          "output_type": "execute_result"
        }
      ],
      "source": [
        "l"
      ]
    },
    {
      "cell_type": "code",
      "execution_count": null,
      "id": "00775d87",
      "metadata": {
        "id": "00775d87",
        "outputId": "059e1cf9-84c2-4b40-ce23-83131d67a99a"
      },
      "outputs": [
        {
          "ename": "TypeError",
          "evalue": "'int' object is not iterable",
          "output_type": "error",
          "traceback": [
            "\u001b[0;31m---------------------------------------------------------------------------\u001b[0m",
            "\u001b[0;31mTypeError\u001b[0m                                 Traceback (most recent call last)",
            "Input \u001b[0;32mIn [9]\u001b[0m, in \u001b[0;36m<cell line: 1>\u001b[0;34m()\u001b[0m\n\u001b[0;32m----> 1\u001b[0m \u001b[38;5;28mlist\u001b[39m(\u001b[38;5;28;43mmap\u001b[39;49m\u001b[43m(\u001b[49m\u001b[43msq\u001b[49m\u001b[43m,\u001b[49m\u001b[38;5;241;43m1\u001b[39;49m\u001b[43m)\u001b[49m)\n",
            "\u001b[0;31mTypeError\u001b[0m: 'int' object is not iterable"
          ]
        }
      ],
      "source": [
        "list(map(sq,1))"
      ]
    },
    {
      "cell_type": "code",
      "execution_count": null,
      "id": "8436669a",
      "metadata": {
        "id": "8436669a"
      },
      "outputs": [],
      "source": [
        "l=[1,2,3,4]"
      ]
    },
    {
      "cell_type": "code",
      "execution_count": null,
      "id": "3ff3f3e7",
      "metadata": {
        "id": "3ff3f3e7"
      },
      "outputs": [],
      "source": [
        "def sq(n):\n",
        "    return n**2"
      ]
    },
    {
      "cell_type": "code",
      "execution_count": null,
      "id": "9dcd3ab0",
      "metadata": {
        "id": "9dcd3ab0",
        "outputId": "16d5a353-ae66-44a0-ae5d-c25b47b0d1c4"
      },
      "outputs": [
        {
          "data": {
            "text/plain": [
              "[1, 4, 9, 16]"
            ]
          },
          "execution_count": 13,
          "metadata": {},
          "output_type": "execute_result"
        }
      ],
      "source": [
        "list(map(sq,l))"
      ]
    },
    {
      "cell_type": "code",
      "execution_count": null,
      "id": "9219895c",
      "metadata": {
        "id": "9219895c",
        "outputId": "7389793d-916a-4eb7-e999-acdc8f00fad1"
      },
      "outputs": [
        {
          "data": {
            "text/plain": [
              "[1, 2, 3, 4]"
            ]
          },
          "execution_count": 16,
          "metadata": {},
          "output_type": "execute_result"
        }
      ],
      "source": [
        "l"
      ]
    },
    {
      "cell_type": "code",
      "execution_count": null,
      "id": "f62f641f",
      "metadata": {
        "id": "f62f641f",
        "outputId": "59660541-83c1-4d08-b84d-534e7dba9a5d"
      },
      "outputs": [
        {
          "data": {
            "text/plain": [
              "['1', '2', '3', '4']"
            ]
          },
          "execution_count": 18,
          "metadata": {},
          "output_type": "execute_result"
        }
      ],
      "source": [
        "list(map(lambda x : str(x), l))"
      ]
    },
    {
      "cell_type": "code",
      "execution_count": null,
      "id": "5bdff82f",
      "metadata": {
        "id": "5bdff82f"
      },
      "outputs": [],
      "source": [
        "from functools import reduce"
      ]
    },
    {
      "cell_type": "code",
      "execution_count": null,
      "id": "43a329a6",
      "metadata": {
        "id": "43a329a6"
      },
      "outputs": [],
      "source": [
        "l=[3,4,5,6,7,8,9]\n"
      ]
    },
    {
      "cell_type": "code",
      "execution_count": null,
      "id": "f43a8c17",
      "metadata": {
        "id": "f43a8c17",
        "outputId": "2141d7b9-51e7-40da-8467-88efd7d5d34a"
      },
      "outputs": [
        {
          "data": {
            "text/plain": [
              "42"
            ]
          },
          "execution_count": 21,
          "metadata": {},
          "output_type": "execute_result"
        }
      ],
      "source": [
        "sum(l)"
      ]
    },
    {
      "cell_type": "code",
      "execution_count": null,
      "id": "3c9b0d12",
      "metadata": {
        "id": "3c9b0d12",
        "outputId": "cb3de77f-9f89-42d5-a39a-fbb6980141f5"
      },
      "outputs": [
        {
          "data": {
            "text/plain": [
              "42"
            ]
          },
          "execution_count": 22,
          "metadata": {},
          "output_type": "execute_result"
        }
      ],
      "source": [
        "reduce(lambda a,b:a+b , l)"
      ]
    },
    {
      "cell_type": "code",
      "execution_count": null,
      "id": "be7576c0",
      "metadata": {
        "id": "be7576c0",
        "outputId": "660b8cf6-b37e-4b3b-dd8c-cc92f40e1152"
      },
      "outputs": [
        {
          "data": {
            "text/plain": [
              "181440"
            ]
          },
          "execution_count": 23,
          "metadata": {},
          "output_type": "execute_result"
        }
      ],
      "source": [
        "reduce(lambda a,b:a*b , l)"
      ]
    },
    {
      "cell_type": "code",
      "execution_count": null,
      "id": "38abb26f",
      "metadata": {
        "id": "38abb26f",
        "outputId": "31fde033-aaf3-4011-c49f-e60444327a17"
      },
      "outputs": [
        {
          "ename": "TypeError",
          "evalue": "<lambda>() missing 1 required positional argument: 'c'",
          "output_type": "error",
          "traceback": [
            "\u001b[0;31m---------------------------------------------------------------------------\u001b[0m",
            "\u001b[0;31mTypeError\u001b[0m                                 Traceback (most recent call last)",
            "Input \u001b[0;32mIn [24]\u001b[0m, in \u001b[0;36m<cell line: 1>\u001b[0;34m()\u001b[0m\n\u001b[0;32m----> 1\u001b[0m \u001b[43mreduce\u001b[49m\u001b[43m(\u001b[49m\u001b[38;5;28;43;01mlambda\u001b[39;49;00m\u001b[43m \u001b[49m\u001b[43ma\u001b[49m\u001b[43m,\u001b[49m\u001b[43mb\u001b[49m\u001b[43m,\u001b[49m\u001b[43mc\u001b[49m\u001b[43m \u001b[49m\u001b[43m:\u001b[49m\u001b[43ma\u001b[49m\u001b[38;5;241;43m*\u001b[39;49m\u001b[43mb\u001b[49m\u001b[38;5;241;43m*\u001b[39;49m\u001b[43mc\u001b[49m\u001b[43m \u001b[49m\u001b[43m,\u001b[49m\u001b[43m \u001b[49m\u001b[43ml\u001b[49m\u001b[43m)\u001b[49m\n",
            "\u001b[0;31mTypeError\u001b[0m: <lambda>() missing 1 required positional argument: 'c'"
          ]
        }
      ],
      "source": [
        "reduce(lambda a,b,c :a*b*c , l)"
      ]
    },
    {
      "cell_type": "code",
      "execution_count": null,
      "id": "edf51580",
      "metadata": {
        "id": "edf51580"
      },
      "outputs": [],
      "source": [
        "l=[3]"
      ]
    },
    {
      "cell_type": "code",
      "execution_count": null,
      "id": "dc4721ae",
      "metadata": {
        "id": "dc4721ae",
        "outputId": "b65a2882-bd00-44e0-e934-e37e04cb37ff"
      },
      "outputs": [
        {
          "data": {
            "text/plain": [
              "3"
            ]
          },
          "execution_count": 26,
          "metadata": {},
          "output_type": "execute_result"
        }
      ],
      "source": [
        "reduce(lambda a,b:a*b , l)"
      ]
    },
    {
      "cell_type": "code",
      "execution_count": null,
      "id": "88ebef45",
      "metadata": {
        "id": "88ebef45"
      },
      "outputs": [],
      "source": [
        "l=[1,2,3,4,45,5,6,7,8,9]"
      ]
    },
    {
      "cell_type": "code",
      "execution_count": null,
      "id": "9ab78f80",
      "metadata": {
        "id": "9ab78f80",
        "outputId": "1ce74fb5-8403-45e9-837d-4b23dc6afebb"
      },
      "outputs": [
        {
          "data": {
            "text/plain": [
              "[2, 4, 6, 8]"
            ]
          },
          "execution_count": 29,
          "metadata": {},
          "output_type": "execute_result"
        }
      ],
      "source": [
        "list(filter(lambda a:a%2==0, l) )"
      ]
    },
    {
      "cell_type": "code",
      "execution_count": null,
      "id": "cbe356ac",
      "metadata": {
        "id": "cbe356ac"
      },
      "outputs": [],
      "source": [
        "def checkeven(n):\n",
        "    if n%2==0:\n",
        "        return True"
      ]
    },
    {
      "cell_type": "code",
      "execution_count": null,
      "id": "bf7e093c",
      "metadata": {
        "id": "bf7e093c",
        "outputId": "6c81faeb-5b5e-4683-a73d-7e0826928e28"
      },
      "outputs": [
        {
          "data": {
            "text/plain": [
              "[2, 4, 6, 8]"
            ]
          },
          "execution_count": 31,
          "metadata": {},
          "output_type": "execute_result"
        }
      ],
      "source": [
        "list(filter(checkeven, l))"
      ]
    },
    {
      "cell_type": "code",
      "execution_count": null,
      "id": "b952f7f5",
      "metadata": {
        "id": "b952f7f5"
      },
      "outputs": [],
      "source": [
        ""
      ]
    }
  ],
  "metadata": {
    "kernelspec": {
      "display_name": "Python 3 (ipykernel)",
      "language": "python",
      "name": "python3"
    },
    "language_info": {
      "codemirror_mode": {
        "name": "ipython",
        "version": 3
      },
      "file_extension": ".py",
      "mimetype": "text/x-python",
      "name": "python",
      "nbconvert_exporter": "python",
      "pygments_lexer": "ipython3",
      "version": "3.9.12"
    },
    "colab": {
      "name": "Class 12 _Functions, File Ops_18th June 20221.ipynb",
      "provenance": [],
      "collapsed_sections": []
    }
  },
  "nbformat": 4,
  "nbformat_minor": 5
}
