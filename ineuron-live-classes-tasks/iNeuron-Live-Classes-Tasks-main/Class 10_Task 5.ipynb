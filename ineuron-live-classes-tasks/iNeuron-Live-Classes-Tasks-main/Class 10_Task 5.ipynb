{
  "nbformat": 4,
  "nbformat_minor": 0,
  "metadata": {
    "colab": {
      "name": "Class 10_HW.ipynb",
      "provenance": [],
      "collapsed_sections": []
    },
    "kernelspec": {
      "name": "python3",
      "display_name": "Python 3"
    },
    "language_info": {
      "name": "python"
    }
  },
  "cells": [
    {
      "cell_type": "markdown",
      "source": [
        "SUBMITTED BY: GAURAV RATAN"
      ],
      "metadata": {
        "id": "kWO_nRSUodQT"
      }
    },
    {
      "cell_type": "markdown",
      "source": [
        "Todays task :\n",
        "    \n",
        "    q1 : Try to print a prime number in between 1 to 1000\n",
        "    q2 : Try to write a function which  is equivalent  to print function in python\n",
        "    q3 : Try to write a function which is a replica of list append , extend and pop function \n",
        "    q4 : Try to write a lambda function which can return a concatination of all the string that we will pass\n",
        "    q5 : Try to write a lambda function which can return list of square of all the data between 1-100 \n",
        "    q6 : Try to write a 10 Different different example of lambda function with a choice of your taks \n",
        "    q7 : Try to wwrite a funtion whihc can perform a read operation from .txt file "
      ],
      "metadata": {
        "id": "22CpxnvwslPk"
      }
    },
    {
      "cell_type": "markdown",
      "source": [
        "Q1: Try to print a prime number in between 1 to 1000"
      ],
      "metadata": {
        "id": "WKTgyEBUonUR"
      }
    },
    {
      "cell_type": "code",
      "source": [
        "for number in range(1, 1001):\n",
        "   # all prime numbers are greater than 1\n",
        "   if number > 1:\n",
        "       for i in range(2, number):\n",
        "           if (number % i) == 0:\n",
        "               break\n",
        "       else:\n",
        "           print(number)"
      ],
      "metadata": {
        "colab": {
          "base_uri": "https://localhost:8080/"
        },
        "id": "K5OWvwZwoaFx",
        "outputId": "90938642-cea9-4867-fefe-31f2658f748b"
      },
      "execution_count": 2,
      "outputs": [
        {
          "output_type": "stream",
          "name": "stdout",
          "text": [
            "2\n",
            "3\n",
            "5\n",
            "7\n",
            "11\n",
            "13\n",
            "17\n",
            "19\n",
            "23\n",
            "29\n",
            "31\n",
            "37\n",
            "41\n",
            "43\n",
            "47\n",
            "53\n",
            "59\n",
            "61\n",
            "67\n",
            "71\n",
            "73\n",
            "79\n",
            "83\n",
            "89\n",
            "97\n",
            "101\n",
            "103\n",
            "107\n",
            "109\n",
            "113\n",
            "127\n",
            "131\n",
            "137\n",
            "139\n",
            "149\n",
            "151\n",
            "157\n",
            "163\n",
            "167\n",
            "173\n",
            "179\n",
            "181\n",
            "191\n",
            "193\n",
            "197\n",
            "199\n",
            "211\n",
            "223\n",
            "227\n",
            "229\n",
            "233\n",
            "239\n",
            "241\n",
            "251\n",
            "257\n",
            "263\n",
            "269\n",
            "271\n",
            "277\n",
            "281\n",
            "283\n",
            "293\n",
            "307\n",
            "311\n",
            "313\n",
            "317\n",
            "331\n",
            "337\n",
            "347\n",
            "349\n",
            "353\n",
            "359\n",
            "367\n",
            "373\n",
            "379\n",
            "383\n",
            "389\n",
            "397\n",
            "401\n",
            "409\n",
            "419\n",
            "421\n",
            "431\n",
            "433\n",
            "439\n",
            "443\n",
            "449\n",
            "457\n",
            "461\n",
            "463\n",
            "467\n",
            "479\n",
            "487\n",
            "491\n",
            "499\n",
            "503\n",
            "509\n",
            "521\n",
            "523\n",
            "541\n",
            "547\n",
            "557\n",
            "563\n",
            "569\n",
            "571\n",
            "577\n",
            "587\n",
            "593\n",
            "599\n",
            "601\n",
            "607\n",
            "613\n",
            "617\n",
            "619\n",
            "631\n",
            "641\n",
            "643\n",
            "647\n",
            "653\n",
            "659\n",
            "661\n",
            "673\n",
            "677\n",
            "683\n",
            "691\n",
            "701\n",
            "709\n",
            "719\n",
            "727\n",
            "733\n",
            "739\n",
            "743\n",
            "751\n",
            "757\n",
            "761\n",
            "769\n",
            "773\n",
            "787\n",
            "797\n",
            "809\n",
            "811\n",
            "821\n",
            "823\n",
            "827\n",
            "829\n",
            "839\n",
            "853\n",
            "857\n",
            "859\n",
            "863\n",
            "877\n",
            "881\n",
            "883\n",
            "887\n",
            "907\n",
            "911\n",
            "919\n",
            "929\n",
            "937\n",
            "941\n",
            "947\n",
            "953\n",
            "967\n",
            "971\n",
            "977\n",
            "983\n",
            "991\n",
            "997\n"
          ]
        }
      ]
    },
    {
      "cell_type": "markdown",
      "source": [
        "Q2 : Try to write a function which  is equivalent  to print function in python"
      ],
      "metadata": {
        "id": "j01xVE33pmyt"
      }
    },
    {
      "cell_type": "code",
      "execution_count": 29,
      "metadata": {
        "colab": {
          "base_uri": "https://localhost:8080/"
        },
        "id": "EwIHAPCImoKe",
        "outputId": "22750371-ede4-4412-b7bf-caa52a31b4ba"
      },
      "outputs": [
        {
          "output_type": "stream",
          "name": "stdout",
          "text": [
            "Gaurav"
          ]
        }
      ],
      "source": [
        "import sys \n",
        "def my_print(content):\n",
        "  sys.stdout.write(content)\n",
        "\n",
        "my_print(\"Gaurav\")"
      ]
    },
    {
      "cell_type": "markdown",
      "source": [
        "Q3 : Try to write a function which is a replica of list append , extend and pop function "
      ],
      "metadata": {
        "id": "t8qQwC50sxlf"
      }
    },
    {
      "cell_type": "code",
      "source": [
        "#Replica of Append\n",
        "list=[]\n",
        "\n",
        "def my_append(entries):\n",
        "  for i in range(entries):\n",
        "    n=eval(input())\n",
        "    j=len(list)\n",
        "    list.insert(j,n)\n",
        "  return list\n",
        "\n",
        "my_append(4)"
      ],
      "metadata": {
        "colab": {
          "base_uri": "https://localhost:8080/"
        },
        "id": "TQD8LjvYs06i",
        "outputId": "4e2baf4a-4fdd-4efc-bc2a-593dece2c291"
      },
      "execution_count": 33,
      "outputs": [
        {
          "name": "stdout",
          "output_type": "stream",
          "text": [
            "1\n",
            "2\n",
            "3\n",
            "'str'\n"
          ]
        },
        {
          "output_type": "execute_result",
          "data": {
            "text/plain": [
              "[1, 2, 3, 'str']"
            ]
          },
          "metadata": {},
          "execution_count": 33
        }
      ]
    },
    {
      "cell_type": "code",
      "source": [
        "#Replica of Extend\n",
        "\n",
        "\n",
        "def my_extend(list,n):\n",
        "  for x in n:\n",
        "    j=len(list)\n",
        "    list.insert(j,x)\n",
        "  return list\n",
        "\n",
        "my_extend([4,6,7],eval(input(\"enter list for extend\")))"
      ],
      "metadata": {
        "colab": {
          "base_uri": "https://localhost:8080/"
        },
        "id": "0w_vnYY6DREz",
        "outputId": "0f81ba55-520f-483d-9c7f-4cde3314ba29"
      },
      "execution_count": 38,
      "outputs": [
        {
          "name": "stdout",
          "output_type": "stream",
          "text": [
            "enter list for extend14,25,'str'\n"
          ]
        },
        {
          "output_type": "execute_result",
          "data": {
            "text/plain": [
              "[4, 6, 7, 14, 25, 'str']"
            ]
          },
          "metadata": {},
          "execution_count": 38
        }
      ]
    },
    {
      "cell_type": "code",
      "source": [
        "#Replica of Pop (Removes last index)\n",
        "\n",
        "def my_pop(list1):\n",
        "  list1.remove(list1[len(list1)-1])\n",
        "  return list1\n",
        "\n",
        "my_pop([4,5,6,100,86])"
      ],
      "metadata": {
        "colab": {
          "base_uri": "https://localhost:8080/"
        },
        "id": "m9n_5TliDu3t",
        "outputId": "8958206b-94de-4d49-8a91-3722a9dfd2e0"
      },
      "execution_count": 36,
      "outputs": [
        {
          "output_type": "execute_result",
          "data": {
            "text/plain": [
              "[4, 5, 6, 100]"
            ]
          },
          "metadata": {},
          "execution_count": 36
        }
      ]
    },
    {
      "cell_type": "markdown",
      "source": [
        "Q4 : Try to write a lambda function which can return a concatenation of all the string that we will pass"
      ],
      "metadata": {
        "id": "BXLScLmOs21G"
      }
    },
    {
      "cell_type": "code",
      "source": [
        "#Approach 1\n",
        "from functools import reduce\n",
        "lst = ['abc','rtg','types']\n",
        "reduce(lambda x,y: x+y,lst)"
      ],
      "metadata": {
        "colab": {
          "base_uri": "https://localhost:8080/",
          "height": 35
        },
        "id": "h5fIipH2s5El",
        "outputId": "c42372bf-925e-4aa8-9b7d-3c503fc3469d"
      },
      "execution_count": 8,
      "outputs": [
        {
          "output_type": "execute_result",
          "data": {
            "text/plain": [
              "'abcrtgtypes'"
            ],
            "application/vnd.google.colaboratory.intrinsic+json": {
              "type": "string"
            }
          },
          "metadata": {},
          "execution_count": 8
        }
      ]
    },
    {
      "cell_type": "code",
      "source": [
        "#Approach 2 (Better Approach)\n",
        "args=('abc',77,'xyz',1,2,3)\n",
        "print(''.join(list(filter(lambda x:type(x)==str,args))))"
      ],
      "metadata": {
        "colab": {
          "base_uri": "https://localhost:8080/"
        },
        "id": "l_tH4pK7m2AH",
        "outputId": "82462bda-f25a-4474-e546-2729bc916ac0"
      },
      "execution_count": 9,
      "outputs": [
        {
          "output_type": "stream",
          "name": "stdout",
          "text": [
            "abcxyz\n"
          ]
        }
      ]
    },
    {
      "cell_type": "markdown",
      "source": [
        "Q5 : Try to write a lambda function which can return list of square of all the data between 1-100 "
      ],
      "metadata": {
        "id": "V0TyUjBLs5il"
      }
    },
    {
      "cell_type": "code",
      "source": [
        "lst = list(range(1, 101))\n",
        "print(list(map(lambda x:x*x, lst))) "
      ],
      "metadata": {
        "colab": {
          "base_uri": "https://localhost:8080/"
        },
        "id": "wcrm5YQns-f9",
        "outputId": "14f0c436-39cd-40cf-9ab4-198ead3554cc"
      },
      "execution_count": 11,
      "outputs": [
        {
          "output_type": "stream",
          "name": "stdout",
          "text": [
            "[1, 4, 9, 16, 25, 36, 49, 64, 81, 100, 121, 144, 169, 196, 225, 256, 289, 324, 361, 400, 441, 484, 529, 576, 625, 676, 729, 784, 841, 900, 961, 1024, 1089, 1156, 1225, 1296, 1369, 1444, 1521, 1600, 1681, 1764, 1849, 1936, 2025, 2116, 2209, 2304, 2401, 2500, 2601, 2704, 2809, 2916, 3025, 3136, 3249, 3364, 3481, 3600, 3721, 3844, 3969, 4096, 4225, 4356, 4489, 4624, 4761, 4900, 5041, 5184, 5329, 5476, 5625, 5776, 5929, 6084, 6241, 6400, 6561, 6724, 6889, 7056, 7225, 7396, 7569, 7744, 7921, 8100, 8281, 8464, 8649, 8836, 9025, 9216, 9409, 9604, 9801, 10000]\n"
          ]
        }
      ]
    },
    {
      "cell_type": "markdown",
      "source": [
        "Q6 : Try to write a 10 Different different example of lambda function with a choice of your task"
      ],
      "metadata": {
        "id": "EZjhin2xs-vs"
      }
    },
    {
      "cell_type": "code",
      "source": [
        "#1. Doubling \n",
        "double = lambda x: x * 2\n",
        "print(double(5))"
      ],
      "metadata": {
        "colab": {
          "base_uri": "https://localhost:8080/"
        },
        "id": "sxVF5gtFtBnH",
        "outputId": "80760023-6847-401a-8368-9568b4eb4a36"
      },
      "execution_count": 12,
      "outputs": [
        {
          "output_type": "stream",
          "name": "stdout",
          "text": [
            "10\n"
          ]
        }
      ]
    },
    {
      "cell_type": "code",
      "source": [
        "#2. Squaring in a given range\n",
        "lst = list(range(1, 11))\n",
        "print(list(map(lambda x:x*x, lst))) "
      ],
      "metadata": {
        "colab": {
          "base_uri": "https://localhost:8080/"
        },
        "id": "cUsGJkI5oHWZ",
        "outputId": "7ea3244a-8e2a-4365-e863-65909d5c3100"
      },
      "execution_count": 13,
      "outputs": [
        {
          "output_type": "stream",
          "name": "stdout",
          "text": [
            "[1, 4, 9, 16, 25, 36, 49, 64, 81, 100]\n"
          ]
        }
      ]
    },
    {
      "cell_type": "code",
      "source": [
        "#3. Concatenation of all string\n",
        "args=('abc',77,'xyz',1,2,3)\n",
        "print(''.join(list(filter(lambda x:type(x)==str,args))))"
      ],
      "metadata": {
        "colab": {
          "base_uri": "https://localhost:8080/"
        },
        "id": "yFqTfmpWoM30",
        "outputId": "31bcc035-abb3-4459-851c-ae9fc9edd5b0"
      },
      "execution_count": 14,
      "outputs": [
        {
          "output_type": "stream",
          "name": "stdout",
          "text": [
            "abcxyz\n"
          ]
        }
      ]
    },
    {
      "cell_type": "code",
      "source": [
        "#4. Product of all elements in a list\n",
        "from functools import reduce\n",
        "sequences = [1,2,3,4,5]\n",
        "product = reduce (lambda x, y: x*y, sequences)\n",
        "print(product)"
      ],
      "metadata": {
        "colab": {
          "base_uri": "https://localhost:8080/"
        },
        "id": "at9pGUEqonMy",
        "outputId": "71aa7ca4-6411-4d9a-9a05-8e43d819572f"
      },
      "execution_count": 15,
      "outputs": [
        {
          "output_type": "stream",
          "name": "stdout",
          "text": [
            "120\n"
          ]
        }
      ]
    },
    {
      "cell_type": "code",
      "source": [
        "#5. Lambda with if-else\n",
        "max = lambda a, b : a if(a > b) else b\n",
        "print(max(100, 20))"
      ],
      "metadata": {
        "colab": {
          "base_uri": "https://localhost:8080/"
        },
        "id": "G28OOnd2pA3E",
        "outputId": "a8054b13-6645-470d-8867-63b93da07fac"
      },
      "execution_count": 16,
      "outputs": [
        {
          "output_type": "stream",
          "name": "stdout",
          "text": [
            "100\n"
          ]
        }
      ]
    },
    {
      "cell_type": "code",
      "source": [
        "#6. Sorting a list and getting second largest element\n",
        "List = [[2,3,4],[1, 4, 16, 64],[3, 6, 9, 12]]\n",
        " \n",
        "# Sort each sublist\n",
        "sortList = lambda x: (sorted(i) for i in x)\n",
        " \n",
        "# Get the second largest element\n",
        "secondLargest = lambda x, f : [y[len(y)-2] for y in f(x)]\n",
        "res = secondLargest(List, sortList)\n",
        " \n",
        "print(res)"
      ],
      "metadata": {
        "colab": {
          "base_uri": "https://localhost:8080/"
        },
        "id": "E4ajZGncpqJ-",
        "outputId": "86fefbca-f6c8-4929-ef3a-bf23969f3f85"
      },
      "execution_count": 21,
      "outputs": [
        {
          "output_type": "stream",
          "name": "stdout",
          "text": [
            "[3, 16, 9]\n"
          ]
        }
      ]
    },
    {
      "cell_type": "code",
      "source": [
        "#7. Odd Numbers from the list\n",
        "li = [5, 7, 22, 97, 54, 62, 77, 23, 73, 61]\n",
        "final_list = list(filter(lambda x: (x%2 != 0) , li))\n",
        "print(final_list)"
      ],
      "metadata": {
        "colab": {
          "base_uri": "https://localhost:8080/"
        },
        "id": "PNX7LhTqqU3P",
        "outputId": "079daf97-96b9-4156-ea5e-125eb7cdbc1e"
      },
      "execution_count": 23,
      "outputs": [
        {
          "output_type": "stream",
          "name": "stdout",
          "text": [
            "[5, 7, 97, 77, 23, 73, 61]\n"
          ]
        }
      ]
    },
    {
      "cell_type": "code",
      "source": [
        "#8. Upper Case\n",
        "animals = ['dog', 'cat', 'parrot', 'rabbit']\n",
        "uppered_animals = list(map(lambda animal: str.upper(animal), animals))\n",
        " \n",
        "print(uppered_animals)"
      ],
      "metadata": {
        "colab": {
          "base_uri": "https://localhost:8080/"
        },
        "id": "_JWp6jaZrBIk",
        "outputId": "d5175dc5-6f08-4acf-bd15-a947fd4c1cde"
      },
      "execution_count": 24,
      "outputs": [
        {
          "output_type": "stream",
          "name": "stdout",
          "text": [
            "['DOG', 'CAT', 'PARROT', 'RABBIT']\n"
          ]
        }
      ]
    },
    {
      "cell_type": "code",
      "source": [
        "#9. Lower Case\n",
        "animals = ['DOG', 'CAT', 'PARROT', 'RABBIT']\n",
        "lowered_animals = list(map(lambda animal: str.lower(animal), animals))\n",
        " \n",
        "print(lowered_animals)"
      ],
      "metadata": {
        "colab": {
          "base_uri": "https://localhost:8080/"
        },
        "id": "Q1kT6loYrMNL",
        "outputId": "698968bb-c0ec-4cac-abc6-8d0330a75774"
      },
      "execution_count": 25,
      "outputs": [
        {
          "output_type": "stream",
          "name": "stdout",
          "text": [
            "['dog', 'cat', 'parrot', 'rabbit']\n"
          ]
        }
      ]
    },
    {
      "cell_type": "code",
      "source": [
        "#10. Cubing\n",
        "lst = list(range(1, 11))\n",
        "print(list(map(lambda x:x*x*x, lst))) "
      ],
      "metadata": {
        "colab": {
          "base_uri": "https://localhost:8080/"
        },
        "id": "7rhZHU0mroBy",
        "outputId": "26a0b38d-3cb0-4e69-b94e-f0a97ac20e4f"
      },
      "execution_count": 26,
      "outputs": [
        {
          "output_type": "stream",
          "name": "stdout",
          "text": [
            "[1, 8, 27, 64, 125, 216, 343, 512, 729, 1000]\n"
          ]
        }
      ]
    },
    {
      "cell_type": "markdown",
      "source": [
        "Q7 : Try to wwrite a funtion which can perform a read operation from .txt file "
      ],
      "metadata": {
        "id": "_vkZAYhFtB7N"
      }
    },
    {
      "cell_type": "code",
      "source": [
        "def read(filename):\n",
        "  f = open(filename,\"r\")\n",
        "  if f.mode == \"r\":\n",
        "    contents = f.read()\n",
        "    print(contents)\n",
        "\n",
        "read(\"Summary_Submissions.txt\")"
      ],
      "metadata": {
        "colab": {
          "base_uri": "https://localhost:8080/"
        },
        "id": "FFjqCrfwqctI",
        "outputId": "41546c0b-fd99-4ec7-9d8d-5d6a6d3ce8bc"
      },
      "execution_count": 28,
      "outputs": [
        {
          "output_type": "stream",
          "name": "stdout",
          "text": [
            "1. Just ran XGBoost model using Pycaret\n",
            "2. Ran all the models using Pycaret (Adaboost) -->0.73 (But will this work on Private test dataset: Doubtful as we have not handled Imbalance dataset)\n",
            "3. Ran all the models after handling imbalance dataset using Smote Oversampling (LightGBM) --> 0.68\n",
            "4. Ran all the models after handling imbalance dataset using Smote Oversampling (LightGBM Tuned) --> 0.71\n",
            "5. Used Created at and Signed Up Date for the first time by separating into Year,Month,Week,Day and Day of the week and followed same process as 4th approach\n",
            "   (Extra Trees Classifier came as the best model)  --->0.71 score\n",
            "6. Used Created at and Signed Up Date for the first time by separating into Year,Month,Week,Day and Day of the week and followed same process as 4th approach\n",
            "   (Extra Trees Classifier came as the best model)-->Same as above but used tuned model -->0.65 score\n",
            "7. Lets apply the date as above without balancing the dataset as we did in 2nd place (Best model: Adaboost) -->0.7257\n",
            "8. Lets apply the date as above without balancing the dataset as we did in 2nd place (Adaboost Tuned Model) -->0.7299\n",
            "\n",
            "\n",
            "\n",
            "\n",
            "Try this approach tomorrow:\n",
            "9. Winning Solution of WNS Hackathon: Training is getting crashed   --> 0.727  v6 solution (XG Boost Not optimal parameters, Interaction terms used)\n",
            "10. Tried feature interaction and feature selection in Pycaret (imbalance Dataset) --> 0.71\n",
            "11. Same as above but used best model instead of tuned model  --> 0.70 \n",
            "12. Same as above: Used balance dataset, no feature selection, used tuned model\n"
          ]
        }
      ]
    }
  ]
}
