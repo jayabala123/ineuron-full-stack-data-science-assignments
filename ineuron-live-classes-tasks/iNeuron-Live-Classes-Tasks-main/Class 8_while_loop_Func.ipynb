{
  "nbformat": 4,
  "nbformat_minor": 0,
  "metadata": {
    "colab": {
      "name": "Class_8_while loop_Func.ipynb",
      "provenance": [],
      "collapsed_sections": []
    },
    "kernelspec": {
      "name": "python3",
      "display_name": "Python 3"
    },
    "language_info": {
      "name": "python"
    }
  },
  "cells": [
    {
      "cell_type": "markdown",
      "source": [
        "**WHILE LOOP IMPLEMENTATION**"
      ],
      "metadata": {
        "id": "g8exQp01js_V"
      }
    },
    {
      "cell_type": "code",
      "execution_count": 1,
      "metadata": {
        "colab": {
          "base_uri": "https://localhost:8080/"
        },
        "id": "aA4Oq4drC-mD",
        "outputId": "0cd3500a-43e5-44f5-a643-96cb5e236b38"
      },
      "outputs": [
        {
          "output_type": "stream",
          "name": "stdout",
          "text": [
            "1\n",
            "2\n",
            "3\n",
            "4\n",
            "5\n",
            "6\n",
            "7\n",
            "8\n",
            "9\n",
            "10\n"
          ]
        }
      ],
      "source": [
        "a = 1\n",
        "b = 10\n",
        "\n",
        "while a <= b :\n",
        "  print(a)\n",
        "  a = a + 1"
      ]
    },
    {
      "cell_type": "code",
      "source": [
        "while a <= b :   #Because now 'a' value is 11\n",
        "  print(a)\n",
        "  a = a + 2\n",
        "else :\n",
        "  print(\"Print this else book\")"
      ],
      "metadata": {
        "colab": {
          "base_uri": "https://localhost:8080/"
        },
        "id": "ydCOmRI6Ni-k",
        "outputId": "2aa73324-29d0-4fcd-be73-db08e518699b"
      },
      "execution_count": 2,
      "outputs": [
        {
          "output_type": "stream",
          "name": "stdout",
          "text": [
            "Print this else book\n"
          ]
        }
      ]
    },
    {
      "cell_type": "code",
      "source": [
        "a = 1\n",
        "b = 10\n",
        "while a <= b :   \n",
        "  print(a)\n",
        "  a = a + 2\n",
        "else :\n",
        "  print(\"Print this else book\")"
      ],
      "metadata": {
        "colab": {
          "base_uri": "https://localhost:8080/"
        },
        "id": "rL7Hm-JGP1Rf",
        "outputId": "f5c58bfe-5254-4afd-879a-8784020378e7"
      },
      "execution_count": 3,
      "outputs": [
        {
          "output_type": "stream",
          "name": "stdout",
          "text": [
            "1\n",
            "3\n",
            "5\n",
            "7\n",
            "9\n",
            "Print this else book\n"
          ]
        }
      ]
    },
    {
      "cell_type": "code",
      "source": [
        "a = 1\n",
        "b = 10\n",
        "while a < b :   \n",
        "  print(a)\n",
        "  if a == 5:\n",
        "    break     #If break encounters then it will not get to else block (Similar as for and else)\n",
        "  a = a + 1\n",
        "else :\n",
        "  print(\"Print this \")"
      ],
      "metadata": {
        "colab": {
          "base_uri": "https://localhost:8080/"
        },
        "id": "c4t1k1SLQIh8",
        "outputId": "4257542a-941b-4f5e-aaad-90d48704b42d"
      },
      "execution_count": 4,
      "outputs": [
        {
          "output_type": "stream",
          "name": "stdout",
          "text": [
            "1\n",
            "2\n",
            "3\n",
            "4\n",
            "5\n"
          ]
        }
      ]
    },
    {
      "cell_type": "code",
      "source": [
        "a = 1\n",
        "b = 10\n",
        "while a < b :   \n",
        "  print(a)  \n",
        "  if a == 3:    #Infinite Loop  After continue is encountered, below statements will not be executed and loop will be executed again. Hence priniting 3 infinite times\n",
        "    continue\n",
        "  a = a + 1"
      ],
      "metadata": {
        "id": "kOMEPA-dQd2R"
      },
      "execution_count": null,
      "outputs": []
    },
    {
      "cell_type": "code",
      "source": [
        "a = 1\n",
        "b = 10\n",
        "while a < b :   \n",
        "  a = a + 1\n",
        "  if a == 3:    \n",
        "    continue\n",
        "  print(a)"
      ],
      "metadata": {
        "colab": {
          "base_uri": "https://localhost:8080/"
        },
        "id": "f5aL3eX2Roc7",
        "outputId": "bbc58abf-a67d-48be-d0a4-fe823f941b5f"
      },
      "execution_count": 6,
      "outputs": [
        {
          "output_type": "stream",
          "name": "stdout",
          "text": [
            "2\n",
            "4\n",
            "5\n",
            "6\n",
            "7\n",
            "8\n",
            "9\n",
            "10\n"
          ]
        }
      ]
    },
    {
      "cell_type": "code",
      "source": [
        "a = 1\n",
        "b = 10\n",
        "while a < b :   \n",
        "  a = a + 1\n",
        "  if a == 3:    \n",
        "    pass\n",
        "  print(a)"
      ],
      "metadata": {
        "colab": {
          "base_uri": "https://localhost:8080/"
        },
        "id": "Z6lhbdSSS50E",
        "outputId": "ed80cf50-2852-42a3-f380-02716622c54c"
      },
      "execution_count": 7,
      "outputs": [
        {
          "output_type": "stream",
          "name": "stdout",
          "text": [
            "2\n",
            "3\n",
            "4\n",
            "5\n",
            "6\n",
            "7\n",
            "8\n",
            "9\n",
            "10\n"
          ]
        }
      ]
    },
    {
      "cell_type": "code",
      "source": [
        "l = [1,2,3,4,65,56]\n",
        "for i in l :\n",
        " print(i)"
      ],
      "metadata": {
        "colab": {
          "base_uri": "https://localhost:8080/"
        },
        "id": "hvxC5OruTodX",
        "outputId": "1fb10dc0-f093-419f-b8ca-da14e6697c8f"
      },
      "execution_count": 8,
      "outputs": [
        {
          "output_type": "stream",
          "name": "stdout",
          "text": [
            "1\n",
            "2\n",
            "3\n",
            "4\n",
            "65\n",
            "56\n"
          ]
        }
      ]
    },
    {
      "cell_type": "code",
      "source": [
        "l = [1,2,3,4,65,56]\n",
        "len(l)\n",
        "a = 0\n",
        "while a < len(l):\n",
        "  print(l[a])\n",
        "  a = a + 1"
      ],
      "metadata": {
        "colab": {
          "base_uri": "https://localhost:8080/"
        },
        "id": "wAWLUKPpUZfx",
        "outputId": "0507c7d2-34da-4250-e512-c0a0bc6006af"
      },
      "execution_count": 10,
      "outputs": [
        {
          "output_type": "stream",
          "name": "stdout",
          "text": [
            "1\n",
            "2\n",
            "3\n",
            "4\n",
            "65\n",
            "56\n"
          ]
        }
      ]
    },
    {
      "cell_type": "code",
      "source": [
        "#Try to extract index of 6 and 7 using while loop\n",
        "t = (3,4,5,6,7,8,9,6)\n",
        "a = 0\n",
        "while a < len(t):\n",
        "  \n",
        "  if t[a] == 6:\n",
        "    print(a)\n",
        "  if t[a] == 7:\n",
        "    print(a)\n",
        "  a = a + 1\n"
      ],
      "metadata": {
        "colab": {
          "base_uri": "https://localhost:8080/"
        },
        "id": "zVhV3WeUU20u",
        "outputId": "3464e756-b149-41dc-decf-84db599c2f96"
      },
      "execution_count": 16,
      "outputs": [
        {
          "output_type": "stream",
          "name": "stdout",
          "text": [
            "3\n",
            "4\n",
            "7\n"
          ]
        }
      ]
    },
    {
      "cell_type": "code",
      "source": [
        "#Try to extract backward indexes of 6 and 7 using while loop\n",
        "t = (3,4,5,6,7,8,9,6)\n",
        "a = 0\n",
        "while a < len(t):\n",
        "  \n",
        "  if t[a] == 6:\n",
        "    print(a-len(t))\n",
        "  if t[a] == 7:\n",
        "    print(a-len(t))\n",
        "  a = a + 1"
      ],
      "metadata": {
        "colab": {
          "base_uri": "https://localhost:8080/"
        },
        "id": "dxNuwKElW3p0",
        "outputId": "32785f40-abab-4c4e-efb7-d11397e78523"
      },
      "execution_count": 17,
      "outputs": [
        {
          "output_type": "stream",
          "name": "stdout",
          "text": [
            "-5\n",
            "-4\n",
            "-1\n"
          ]
        }
      ]
    },
    {
      "cell_type": "code",
      "source": [
        "#Extracting all the values using while loop (For that we can do d.values() but we want to use loop. For that we need to pass keys as indexes)\n",
        "d = {'k1':'sudh','k2':[1,2,3,4],'k3':(2,3,4,5)}\n",
        "a = 0\n",
        "b = list(d.keys())\n",
        "while a < len(d):\n",
        "  print(d[b[a]])\n",
        "  a = a + 1\n",
        "  "
      ],
      "metadata": {
        "colab": {
          "base_uri": "https://localhost:8080/"
        },
        "id": "ttXQ8NNyelew",
        "outputId": "20b7d6a7-ef7a-400d-b8a4-0654945a15f2"
      },
      "execution_count": 1,
      "outputs": [
        {
          "output_type": "stream",
          "name": "stdout",
          "text": [
            "sudh\n",
            "[1, 2, 3, 4]\n",
            "(2, 3, 4, 5)\n"
          ]
        }
      ]
    },
    {
      "cell_type": "code",
      "source": [
        "#InBuilf Functions we have used: len(), range(),print,keys(),values(),items(),append(),pop(),insert(),extend()"
      ],
      "metadata": {
        "id": "p0aOYDk0gm9O"
      },
      "execution_count": 2,
      "outputs": []
    },
    {
      "cell_type": "markdown",
      "source": [
        "**FUNCTIONS**  (Reusability and Modularity of Code)"
      ],
      "metadata": {
        "id": "6U2r5kbqjlR0"
      }
    },
    {
      "cell_type": "code",
      "source": [
        "def test():\n",
        "  print('This is my first function')\n",
        "\n",
        "test() #Function Call"
      ],
      "metadata": {
        "colab": {
          "base_uri": "https://localhost:8080/"
        },
        "id": "N56z4dPyjpn6",
        "outputId": "1ddb2dc4-83c8-4a55-88ab-272e3a8c7247"
      },
      "execution_count": 5,
      "outputs": [
        {
          "output_type": "stream",
          "name": "stdout",
          "text": [
            "This is my first function\n"
          ]
        }
      ]
    },
    {
      "cell_type": "code",
      "source": [
        "test() + 'sudh'"
      ],
      "metadata": {
        "colab": {
          "base_uri": "https://localhost:8080/",
          "height": 184
        },
        "id": "df-7yBQKkKQm",
        "outputId": "5676357f-67dc-4aa7-9698-09f22aedf71d"
      },
      "execution_count": 6,
      "outputs": [
        {
          "output_type": "stream",
          "name": "stdout",
          "text": [
            "This is my first function\n"
          ]
        },
        {
          "output_type": "error",
          "ename": "TypeError",
          "evalue": "ignored",
          "traceback": [
            "\u001b[0;31m---------------------------------------------------------------------------\u001b[0m",
            "\u001b[0;31mTypeError\u001b[0m                                 Traceback (most recent call last)",
            "\u001b[0;32m<ipython-input-6-0c9d80b9a9e9>\u001b[0m in \u001b[0;36m<module>\u001b[0;34m()\u001b[0m\n\u001b[0;32m----> 1\u001b[0;31m \u001b[0mtest\u001b[0m\u001b[0;34m(\u001b[0m\u001b[0;34m)\u001b[0m \u001b[0;34m+\u001b[0m \u001b[0;34m'sudh'\u001b[0m\u001b[0;34m\u001b[0m\u001b[0;34m\u001b[0m\u001b[0m\n\u001b[0m",
            "\u001b[0;31mTypeError\u001b[0m: unsupported operand type(s) for +: 'NoneType' and 'str'"
          ]
        }
      ]
    },
    {
      "cell_type": "code",
      "source": [
        "type(test())"
      ],
      "metadata": {
        "colab": {
          "base_uri": "https://localhost:8080/"
        },
        "id": "zTYN4T4Tkr68",
        "outputId": "c2ce20a4-09e4-412b-fd17-55e9392b8561"
      },
      "execution_count": 8,
      "outputs": [
        {
          "output_type": "stream",
          "name": "stdout",
          "text": [
            "This is my first function\n"
          ]
        },
        {
          "output_type": "execute_result",
          "data": {
            "text/plain": [
              "NoneType"
            ]
          },
          "metadata": {},
          "execution_count": 8
        }
      ]
    },
    {
      "cell_type": "code",
      "source": [
        "str(test()) + 'sudh'   #We will solve this using next code"
      ],
      "metadata": {
        "colab": {
          "base_uri": "https://localhost:8080/",
          "height": 53
        },
        "id": "kkCE5f94kuLt",
        "outputId": "78e4d84e-4eab-4c71-ead3-910cf56b904b"
      },
      "execution_count": 9,
      "outputs": [
        {
          "output_type": "stream",
          "name": "stdout",
          "text": [
            "This is my first function\n"
          ]
        },
        {
          "output_type": "execute_result",
          "data": {
            "text/plain": [
              "'Nonesudh'"
            ],
            "application/vnd.google.colaboratory.intrinsic+json": {
              "type": "string"
            }
          },
          "metadata": {},
          "execution_count": 9
        }
      ]
    },
    {
      "cell_type": "code",
      "source": [
        "def test():\n",
        "  return 'This is my first function'"
      ],
      "metadata": {
        "id": "9PVuJF7pk6jl"
      },
      "execution_count": 10,
      "outputs": []
    },
    {
      "cell_type": "code",
      "source": [
        "test() + ' sudh'   #This works because of return. Always use return instead of print. Different b/w print and return: Return type of print is None whereas return has return type specified in function"
      ],
      "metadata": {
        "colab": {
          "base_uri": "https://localhost:8080/",
          "height": 35
        },
        "id": "ZCvE6FqylMOi",
        "outputId": "1f046c86-2a17-4acb-b09b-d47b3842dc67"
      },
      "execution_count": 12,
      "outputs": [
        {
          "output_type": "execute_result",
          "data": {
            "text/plain": [
              "'This is my first function sudh'"
            ],
            "application/vnd.google.colaboratory.intrinsic+json": {
              "type": "string"
            }
          },
          "metadata": {},
          "execution_count": 12
        }
      ]
    },
    {
      "cell_type": "code",
      "source": [
        "def test2():  #Body not created then error"
      ],
      "metadata": {
        "colab": {
          "base_uri": "https://localhost:8080/",
          "height": 131
        },
        "id": "NvGlSXR-lOB6",
        "outputId": "8fa5fa59-9400-4ba9-804d-ef35b5b6a8b1"
      },
      "execution_count": 13,
      "outputs": [
        {
          "output_type": "error",
          "ename": "SyntaxError",
          "evalue": "ignored",
          "traceback": [
            "\u001b[0;36m  File \u001b[0;32m\"<ipython-input-13-545a27f48ec1>\"\u001b[0;36m, line \u001b[0;32m1\u001b[0m\n\u001b[0;31m    def test2():\u001b[0m\n\u001b[0m                ^\u001b[0m\n\u001b[0;31mSyntaxError\u001b[0m\u001b[0;31m:\u001b[0m unexpected EOF while parsing\n"
          ]
        }
      ]
    },
    {
      "cell_type": "code",
      "source": [
        "def test2():\n",
        "  pass"
      ],
      "metadata": {
        "id": "o4ZCWGbLlk5T"
      },
      "execution_count": 14,
      "outputs": []
    },
    {
      "cell_type": "code",
      "source": [
        "def test3():\n",
        "  return 1,3,5,[1,2,3,4]"
      ],
      "metadata": {
        "id": "WnSH6-Lilq5U"
      },
      "execution_count": 15,
      "outputs": []
    },
    {
      "cell_type": "code",
      "source": [
        "test3()   #If returning multiple things, then it will return in tuples"
      ],
      "metadata": {
        "colab": {
          "base_uri": "https://localhost:8080/"
        },
        "id": "k7TULnapl0hJ",
        "outputId": "9c4ac84d-24f6-41d3-cb10-0b530d48dd8e"
      },
      "execution_count": 16,
      "outputs": [
        {
          "output_type": "execute_result",
          "data": {
            "text/plain": [
              "(1, 3, 5, [1, 2, 3, 4])"
            ]
          },
          "metadata": {},
          "execution_count": 16
        }
      ]
    },
    {
      "cell_type": "code",
      "source": [
        "a,b,c,d = test3()\n",
        "a"
      ],
      "metadata": {
        "colab": {
          "base_uri": "https://localhost:8080/"
        },
        "id": "E64_piwLl2zS",
        "outputId": "1ccb28c2-8ea9-4d70-dcb3-689174502034"
      },
      "execution_count": 18,
      "outputs": [
        {
          "output_type": "execute_result",
          "data": {
            "text/plain": [
              "1"
            ]
          },
          "metadata": {},
          "execution_count": 18
        }
      ]
    },
    {
      "cell_type": "code",
      "source": [
        "b"
      ],
      "metadata": {
        "colab": {
          "base_uri": "https://localhost:8080/"
        },
        "id": "-z2JmBWpmjrl",
        "outputId": "2cc38ad7-118b-4291-aab5-440090bad0d4"
      },
      "execution_count": 19,
      "outputs": [
        {
          "output_type": "execute_result",
          "data": {
            "text/plain": [
              "3"
            ]
          },
          "metadata": {},
          "execution_count": 19
        }
      ]
    },
    {
      "cell_type": "code",
      "source": [
        "d"
      ],
      "metadata": {
        "colab": {
          "base_uri": "https://localhost:8080/"
        },
        "id": "63wxcTlTmmoS",
        "outputId": "5999bff2-caac-4005-fc4e-635c5a795222"
      },
      "execution_count": 20,
      "outputs": [
        {
          "output_type": "execute_result",
          "data": {
            "text/plain": [
              "[1, 2, 3, 4]"
            ]
          },
          "metadata": {},
          "execution_count": 20
        }
      ]
    },
    {
      "cell_type": "code",
      "source": [
        "def test4():\n",
        "  a = 4*5\n",
        "  b = 6+4\n",
        "  return a,b"
      ],
      "metadata": {
        "id": "mxDY18Mtmng_"
      },
      "execution_count": 21,
      "outputs": []
    },
    {
      "cell_type": "code",
      "source": [
        "g = test4()\n",
        "g"
      ],
      "metadata": {
        "colab": {
          "base_uri": "https://localhost:8080/"
        },
        "id": "ymqCMMwGmwb-",
        "outputId": "b244b63c-646a-49c3-c580-feba9e13b079"
      },
      "execution_count": 22,
      "outputs": [
        {
          "output_type": "execute_result",
          "data": {
            "text/plain": [
              "(20, 10)"
            ]
          },
          "metadata": {},
          "execution_count": 22
        }
      ]
    },
    {
      "cell_type": "code",
      "source": [
        "j,k = test4()\n",
        "k"
      ],
      "metadata": {
        "colab": {
          "base_uri": "https://localhost:8080/"
        },
        "id": "B92THUqZmyM6",
        "outputId": "b30631e6-d9e8-44c6-b722-4a9088e9d512"
      },
      "execution_count": 26,
      "outputs": [
        {
          "output_type": "execute_result",
          "data": {
            "text/plain": [
              "10"
            ]
          },
          "metadata": {},
          "execution_count": 26
        }
      ]
    },
    {
      "cell_type": "code",
      "source": [
        "_,m = test4()  #Underscore is also called as placeholder\n",
        "_"
      ],
      "metadata": {
        "colab": {
          "base_uri": "https://localhost:8080/"
        },
        "id": "39GGFivqm1QZ",
        "outputId": "6cb33edd-c462-4767-b689-960b027ead22"
      },
      "execution_count": 28,
      "outputs": [
        {
          "output_type": "execute_result",
          "data": {
            "text/plain": [
              "20"
            ]
          },
          "metadata": {},
          "execution_count": 28
        }
      ]
    },
    {
      "cell_type": "code",
      "source": [
        "_,_,_,g = test3()\n",
        "g"
      ],
      "metadata": {
        "colab": {
          "base_uri": "https://localhost:8080/"
        },
        "id": "xVTGvv8xm_O9",
        "outputId": "a6a80d3f-7c7b-4fc2-8dd8-bc5d2a0b4dd7"
      },
      "execution_count": 30,
      "outputs": [
        {
          "output_type": "execute_result",
          "data": {
            "text/plain": [
              "[1, 2, 3, 4]"
            ]
          },
          "metadata": {},
          "execution_count": 30
        }
      ]
    },
    {
      "cell_type": "code",
      "source": [
        "def test5(a,b):\n",
        "  while a <= b :   #Because now 'a' value is 11\n",
        "   print(a)\n",
        "   a = a + 2\n",
        "  else :\n",
        "   print(\"Print this else book\")\n",
        "\n",
        "test5(1,10)"
      ],
      "metadata": {
        "colab": {
          "base_uri": "https://localhost:8080/"
        },
        "id": "cfZdFcwVnKpo",
        "outputId": "5bf9766b-550a-42bc-b780-565a11475daa"
      },
      "execution_count": 31,
      "outputs": [
        {
          "output_type": "stream",
          "name": "stdout",
          "text": [
            "1\n",
            "3\n",
            "5\n",
            "7\n",
            "9\n",
            "Print this else book\n"
          ]
        }
      ]
    },
    {
      "cell_type": "code",
      "source": [
        "def test5(a,b):\n",
        "  while a <= b :   #Because now 'a' value is 11\n",
        "   return a\n",
        "   a = a + 2\n",
        "  else :\n",
        "   return \"Print this else book\"\n",
        "\n",
        "test5(1,10) #Giving output only as 1 but when we used print we got different output. In return, when it returns something then it will not return anything again. To solve this we can use list and return"
      ],
      "metadata": {
        "colab": {
          "base_uri": "https://localhost:8080/"
        },
        "id": "LEf3BoEIoDXy",
        "outputId": "29805d37-82ac-4c33-ca15-6387195ec919"
      },
      "execution_count": 32,
      "outputs": [
        {
          "output_type": "execute_result",
          "data": {
            "text/plain": [
              "1"
            ]
          },
          "metadata": {},
          "execution_count": 32
        }
      ]
    },
    {
      "cell_type": "code",
      "source": [
        "def test5(a,b):\n",
        "  l = []\n",
        "  while a <= b :   #Because now 'a' value is 11\n",
        "   l.append(a)\n",
        "   a = a + 2\n",
        "  else :\n",
        "   print(\"Print this else book\")\n",
        "  return l\n",
        "\n",
        "test5(1,10)"
      ],
      "metadata": {
        "colab": {
          "base_uri": "https://localhost:8080/"
        },
        "id": "H7xDDH_pprnw",
        "outputId": "72e10da3-1a8d-4481-b38a-cad4c41a4d24"
      },
      "execution_count": 33,
      "outputs": [
        {
          "output_type": "stream",
          "name": "stdout",
          "text": [
            "Print this else book\n"
          ]
        },
        {
          "output_type": "execute_result",
          "data": {
            "text/plain": [
              "[1, 3, 5, 7, 9]"
            ]
          },
          "metadata": {},
          "execution_count": 33
        }
      ]
    },
    {
      "cell_type": "code",
      "source": [
        "#Write a function that will extract integer out of the list\n",
        "\n",
        "l2 = []\n",
        "def int_l(l):\n",
        "  for i in l:\n",
        "    if type(i) == int:\n",
        "      l2.append(i)\n",
        "    if type(i) == list:\n",
        "      for j in i:\n",
        "        if type(j) == int:\n",
        "         l2.append(j)\n",
        "  return l2\n",
        "\n",
        "int_l([4,5,6,67,8,9,9,9,[3,4,5,6,7,7],'sudh'])\n",
        "      \n"
      ],
      "metadata": {
        "colab": {
          "base_uri": "https://localhost:8080/"
        },
        "id": "uZVGQ9kdqTPd",
        "outputId": "6eb2ff6a-da8d-48df-a99e-b2a96a6759d6"
      },
      "execution_count": 38,
      "outputs": [
        {
          "output_type": "execute_result",
          "data": {
            "text/plain": [
              "[4, 5, 6, 67, 8, 9, 9, 9, 3, 4, 5, 6, 7, 7]"
            ]
          },
          "metadata": {},
          "execution_count": 38
        }
      ]
    },
    {
      "cell_type": "code",
      "source": [
        "#Try to extract index of 6 and 7 using while loop by creating a function\n",
        "def extract_6_7(t):\n",
        "  a = 0\n",
        "  while a < len(t):\n",
        "    if t[a] == 6:\n",
        "     print(a)\n",
        "    if t[a] == 7:\n",
        "     print(a)\n",
        "    a = a + 1\n",
        "\n",
        "\n",
        "extract_6_7((3,4,5,6,7,8,9,6))"
      ],
      "metadata": {
        "colab": {
          "base_uri": "https://localhost:8080/"
        },
        "id": "d-GU1DuXqvVF",
        "outputId": "cd580698-bcee-46c3-f7fa-f11f00214508"
      },
      "execution_count": 40,
      "outputs": [
        {
          "output_type": "stream",
          "name": "stdout",
          "text": [
            "3\n",
            "4\n",
            "7\n"
          ]
        }
      ]
    }
  ]
}
